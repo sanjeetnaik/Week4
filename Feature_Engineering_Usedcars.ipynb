{
 "cells": [
  {
   "cell_type": "markdown",
   "id": "73c9f575",
   "metadata": {},
   "source": [
    "# Import Statements"
   ]
  },
  {
   "cell_type": "code",
   "execution_count": 101,
   "id": "1378c183",
   "metadata": {},
   "outputs": [],
   "source": [
    "import numpy as np\n",
    "import pandas as pd\n",
    "import seaborn as sns\n",
    "import matplotlib.pyplot as plt\n",
    "%matplotlib inline\n",
    "import plotly.express as px\n",
    "plt.rcParams['figure.figsize'] = [14.0, 10.0]\n",
    "import folium"
   ]
  },
  {
   "cell_type": "markdown",
   "id": "fbd2e094",
   "metadata": {},
   "source": [
    "# Loading The Dataset"
   ]
  },
  {
   "cell_type": "code",
   "execution_count": 102,
   "id": "89827384",
   "metadata": {},
   "outputs": [],
   "source": [
    "df = pd.read_csv('UsedCars_Combined.csv')"
   ]
  },
  {
   "cell_type": "markdown",
   "id": "b158c6a0",
   "metadata": {},
   "source": [
    "# Dataset Description"
   ]
  },
  {
   "cell_type": "code",
   "execution_count": 103,
   "id": "db88c9a4",
   "metadata": {},
   "outputs": [
    {
     "name": "stdout",
     "output_type": "stream",
     "text": [
      "<class 'pandas.core.frame.DataFrame'>\n",
      "RangeIndex: 1725 entries, 0 to 1724\n",
      "Data columns (total 9 columns):\n",
      " #   Column                   Non-Null Count  Dtype  \n",
      "---  ------                   --------------  -----  \n",
      " 0   Id                       1725 non-null   int64  \n",
      " 1   year                     1725 non-null   int64  \n",
      " 2   brand                    1725 non-null   object \n",
      " 3   full_model_name          1725 non-null   object \n",
      " 4   model_name               1725 non-null   object \n",
      " 5   price                    1725 non-null   float64\n",
      " 6   distance_travelled(kms)  1725 non-null   float64\n",
      " 7   fuel_type                1725 non-null   object \n",
      " 8   city                     1725 non-null   object \n",
      "dtypes: float64(2), int64(2), object(5)\n",
      "memory usage: 121.4+ KB\n"
     ]
    }
   ],
   "source": [
    "df.info()"
   ]
  },
  {
   "cell_type": "code",
   "execution_count": 104,
   "id": "ec1785d3",
   "metadata": {},
   "outputs": [
    {
     "data": {
      "text/html": [
       "<div>\n",
       "<style scoped>\n",
       "    .dataframe tbody tr th:only-of-type {\n",
       "        vertical-align: middle;\n",
       "    }\n",
       "\n",
       "    .dataframe tbody tr th {\n",
       "        vertical-align: top;\n",
       "    }\n",
       "\n",
       "    .dataframe thead th {\n",
       "        text-align: right;\n",
       "    }\n",
       "</style>\n",
       "<table border=\"1\" class=\"dataframe\">\n",
       "  <thead>\n",
       "    <tr style=\"text-align: right;\">\n",
       "      <th></th>\n",
       "      <th>Id</th>\n",
       "      <th>year</th>\n",
       "      <th>price</th>\n",
       "      <th>distance_travelled(kms)</th>\n",
       "    </tr>\n",
       "  </thead>\n",
       "  <tbody>\n",
       "    <tr>\n",
       "      <th>count</th>\n",
       "      <td>1725.000000</td>\n",
       "      <td>1725.000000</td>\n",
       "      <td>1.725000e+03</td>\n",
       "      <td>1725.000000</td>\n",
       "    </tr>\n",
       "    <tr>\n",
       "      <th>mean</th>\n",
       "      <td>862.000000</td>\n",
       "      <td>2015.390725</td>\n",
       "      <td>1.494837e+06</td>\n",
       "      <td>53848.256232</td>\n",
       "    </tr>\n",
       "    <tr>\n",
       "      <th>std</th>\n",
       "      <td>498.108924</td>\n",
       "      <td>3.207504</td>\n",
       "      <td>1.671658e+06</td>\n",
       "      <td>44725.541963</td>\n",
       "    </tr>\n",
       "    <tr>\n",
       "      <th>min</th>\n",
       "      <td>0.000000</td>\n",
       "      <td>1990.000000</td>\n",
       "      <td>6.250000e+04</td>\n",
       "      <td>350.000000</td>\n",
       "    </tr>\n",
       "    <tr>\n",
       "      <th>25%</th>\n",
       "      <td>431.000000</td>\n",
       "      <td>2013.000000</td>\n",
       "      <td>5.450000e+05</td>\n",
       "      <td>29000.000000</td>\n",
       "    </tr>\n",
       "    <tr>\n",
       "      <th>50%</th>\n",
       "      <td>862.000000</td>\n",
       "      <td>2016.000000</td>\n",
       "      <td>8.750000e+05</td>\n",
       "      <td>49000.000000</td>\n",
       "    </tr>\n",
       "    <tr>\n",
       "      <th>75%</th>\n",
       "      <td>1293.000000</td>\n",
       "      <td>2018.000000</td>\n",
       "      <td>1.825000e+06</td>\n",
       "      <td>70500.000000</td>\n",
       "    </tr>\n",
       "    <tr>\n",
       "      <th>max</th>\n",
       "      <td>1724.000000</td>\n",
       "      <td>2021.000000</td>\n",
       "      <td>1.470000e+07</td>\n",
       "      <td>790000.000000</td>\n",
       "    </tr>\n",
       "  </tbody>\n",
       "</table>\n",
       "</div>"
      ],
      "text/plain": [
       "                Id         year         price  distance_travelled(kms)\n",
       "count  1725.000000  1725.000000  1.725000e+03              1725.000000\n",
       "mean    862.000000  2015.390725  1.494837e+06             53848.256232\n",
       "std     498.108924     3.207504  1.671658e+06             44725.541963\n",
       "min       0.000000  1990.000000  6.250000e+04               350.000000\n",
       "25%     431.000000  2013.000000  5.450000e+05             29000.000000\n",
       "50%     862.000000  2016.000000  8.750000e+05             49000.000000\n",
       "75%    1293.000000  2018.000000  1.825000e+06             70500.000000\n",
       "max    1724.000000  2021.000000  1.470000e+07            790000.000000"
      ]
     },
     "execution_count": 104,
     "metadata": {},
     "output_type": "execute_result"
    }
   ],
   "source": [
    "df.describe()"
   ]
  },
  {
   "cell_type": "code",
   "execution_count": 105,
   "id": "9aa66446",
   "metadata": {},
   "outputs": [
    {
     "data": {
      "text/html": [
       "<div>\n",
       "<style scoped>\n",
       "    .dataframe tbody tr th:only-of-type {\n",
       "        vertical-align: middle;\n",
       "    }\n",
       "\n",
       "    .dataframe tbody tr th {\n",
       "        vertical-align: top;\n",
       "    }\n",
       "\n",
       "    .dataframe thead th {\n",
       "        text-align: right;\n",
       "    }\n",
       "</style>\n",
       "<table border=\"1\" class=\"dataframe\">\n",
       "  <thead>\n",
       "    <tr style=\"text-align: right;\">\n",
       "      <th></th>\n",
       "      <th>Id</th>\n",
       "      <th>year</th>\n",
       "      <th>brand</th>\n",
       "      <th>full_model_name</th>\n",
       "      <th>model_name</th>\n",
       "      <th>price</th>\n",
       "      <th>distance_travelled(kms)</th>\n",
       "      <th>fuel_type</th>\n",
       "      <th>city</th>\n",
       "    </tr>\n",
       "  </thead>\n",
       "  <tbody>\n",
       "    <tr>\n",
       "      <th>0</th>\n",
       "      <td>0</td>\n",
       "      <td>2016</td>\n",
       "      <td>Honda</td>\n",
       "      <td>Honda Brio S MT</td>\n",
       "      <td>Brio</td>\n",
       "      <td>425000.0</td>\n",
       "      <td>9680.0</td>\n",
       "      <td>Petrol</td>\n",
       "      <td>Mumbai</td>\n",
       "    </tr>\n",
       "    <tr>\n",
       "      <th>1</th>\n",
       "      <td>1</td>\n",
       "      <td>2012</td>\n",
       "      <td>Nissan</td>\n",
       "      <td>Nissan Sunny XV Diesel</td>\n",
       "      <td>Sunny</td>\n",
       "      <td>325000.0</td>\n",
       "      <td>119120.0</td>\n",
       "      <td>Diesel</td>\n",
       "      <td>Mumbai</td>\n",
       "    </tr>\n",
       "    <tr>\n",
       "      <th>2</th>\n",
       "      <td>2</td>\n",
       "      <td>2017</td>\n",
       "      <td>Toyota</td>\n",
       "      <td>Toyota Fortuner 2.8 4x2 MT [2016-2020]</td>\n",
       "      <td>Fortuner</td>\n",
       "      <td>2650000.0</td>\n",
       "      <td>64593.0</td>\n",
       "      <td>Diesel</td>\n",
       "      <td>Thane</td>\n",
       "    </tr>\n",
       "    <tr>\n",
       "      <th>3</th>\n",
       "      <td>3</td>\n",
       "      <td>2017</td>\n",
       "      <td>Mercedes-Benz</td>\n",
       "      <td>Mercedes-Benz E-Class E 220d Expression [2019-...</td>\n",
       "      <td>E-Class</td>\n",
       "      <td>4195000.0</td>\n",
       "      <td>25000.0</td>\n",
       "      <td>Diesel</td>\n",
       "      <td>Mumbai</td>\n",
       "    </tr>\n",
       "    <tr>\n",
       "      <th>4</th>\n",
       "      <td>4</td>\n",
       "      <td>2012</td>\n",
       "      <td>Hyundai</td>\n",
       "      <td>Hyundai Verna Fluidic 1.6 CRDi SX</td>\n",
       "      <td>Verna</td>\n",
       "      <td>475000.0</td>\n",
       "      <td>23800.0</td>\n",
       "      <td>Diesel</td>\n",
       "      <td>Mumbai</td>\n",
       "    </tr>\n",
       "  </tbody>\n",
       "</table>\n",
       "</div>"
      ],
      "text/plain": [
       "   Id  year          brand                                    full_model_name  \\\n",
       "0   0  2016          Honda                                    Honda Brio S MT   \n",
       "1   1  2012         Nissan                             Nissan Sunny XV Diesel   \n",
       "2   2  2017         Toyota             Toyota Fortuner 2.8 4x2 MT [2016-2020]   \n",
       "3   3  2017  Mercedes-Benz  Mercedes-Benz E-Class E 220d Expression [2019-...   \n",
       "4   4  2012        Hyundai                  Hyundai Verna Fluidic 1.6 CRDi SX   \n",
       "\n",
       "  model_name      price  distance_travelled(kms) fuel_type    city  \n",
       "0       Brio   425000.0                   9680.0    Petrol  Mumbai  \n",
       "1      Sunny   325000.0                 119120.0    Diesel  Mumbai  \n",
       "2   Fortuner  2650000.0                  64593.0    Diesel   Thane  \n",
       "3    E-Class  4195000.0                  25000.0    Diesel  Mumbai  \n",
       "4      Verna   475000.0                  23800.0    Diesel  Mumbai  "
      ]
     },
     "execution_count": 105,
     "metadata": {},
     "output_type": "execute_result"
    }
   ],
   "source": [
    "df.head(5)"
   ]
  },
  {
   "cell_type": "markdown",
   "id": "11bb09de",
   "metadata": {},
   "source": [
    "# Getting Unique Values For Columns"
   ]
  },
  {
   "cell_type": "code",
   "execution_count": 106,
   "id": "0313330f",
   "metadata": {},
   "outputs": [
    {
     "data": {
      "text/plain": [
       "array(['Honda', 'Nissan', 'Toyota', 'Mercedes-Benz', 'Hyundai',\n",
       "       'Maruti Suzuki', 'Renault', 'Volkswagen', 'Skoda', 'BMW', 'Tata',\n",
       "       'Audi', 'Bentley', 'Ford', 'Mahindra', 'Jaguar', 'Lamborghini',\n",
       "       'MINI', 'Land Rover', 'Chevrolet', 'Datsun', 'Jeep', 'Porsche',\n",
       "       'Volvo', 'MG', 'Lexus', 'Mitsubishi', 'Kia', 'Fiat', 'Isuzu',\n",
       "       'Mahindra-Renault'], dtype=object)"
      ]
     },
     "execution_count": 106,
     "metadata": {},
     "output_type": "execute_result"
    }
   ],
   "source": [
    "df['brand'].unique()"
   ]
  },
  {
   "cell_type": "code",
   "execution_count": 107,
   "id": "777e1afd",
   "metadata": {},
   "outputs": [
    {
     "data": {
      "text/plain": [
       "array(['Petrol', 'Diesel', 'Petrol + 1', 'CNG + 1', 'Hybrid'],\n",
       "      dtype=object)"
      ]
     },
     "execution_count": 107,
     "metadata": {},
     "output_type": "execute_result"
    }
   ],
   "source": [
    "df['fuel_type'].unique()"
   ]
  },
  {
   "cell_type": "markdown",
   "id": "9d1c5e74",
   "metadata": {},
   "source": [
    "# Brand Ranking"
   ]
  },
  {
   "cell_type": "code",
   "execution_count": 108,
   "id": "dd651155",
   "metadata": {},
   "outputs": [],
   "source": [
    "temp_rank = [7,11,1,2,14,32,15,3,27,4,40,10,44,8,24,40,45,39,18,12,50,19,5,9,81,16,46,20,43,37,24]"
   ]
  },
  {
   "cell_type": "code",
   "execution_count": 109,
   "id": "7fe6abba",
   "metadata": {},
   "outputs": [
    {
     "data": {
      "text/plain": [
       "31"
      ]
     },
     "execution_count": 109,
     "metadata": {},
     "output_type": "execute_result"
    }
   ],
   "source": [
    "len(temp_rank)"
   ]
  },
  {
   "cell_type": "code",
   "execution_count": 110,
   "id": "79bf52f8",
   "metadata": {},
   "outputs": [
    {
     "data": {
      "text/plain": [
       "31"
      ]
     },
     "execution_count": 110,
     "metadata": {},
     "output_type": "execute_result"
    }
   ],
   "source": [
    "len(df['brand'].unique())"
   ]
  },
  {
   "cell_type": "code",
   "execution_count": 111,
   "id": "cec7ef74",
   "metadata": {},
   "outputs": [],
   "source": [
    "rankings = {}\n",
    "j=0\n",
    "for i in df['brand'].unique():\n",
    "    rankings[i] = int(temp_rank[j])\n",
    "    j+=1"
   ]
  },
  {
   "cell_type": "markdown",
   "id": "4c377759",
   "metadata": {},
   "source": [
    "# Adding Brand Rank To Dataset"
   ]
  },
  {
   "cell_type": "code",
   "execution_count": 112,
   "id": "243cb9fb",
   "metadata": {},
   "outputs": [],
   "source": [
    "temp_rank = []"
   ]
  },
  {
   "cell_type": "code",
   "execution_count": 113,
   "id": "42aced42",
   "metadata": {},
   "outputs": [],
   "source": [
    "for i in df['brand']:\n",
    "    temp_rank.append(rankings[i])"
   ]
  },
  {
   "cell_type": "code",
   "execution_count": 114,
   "id": "1870a0e8",
   "metadata": {},
   "outputs": [
    {
     "data": {
      "text/plain": [
       "1725"
      ]
     },
     "execution_count": 114,
     "metadata": {},
     "output_type": "execute_result"
    }
   ],
   "source": [
    "len(temp_rank)"
   ]
  },
  {
   "cell_type": "code",
   "execution_count": 115,
   "id": "57dade1e",
   "metadata": {},
   "outputs": [],
   "source": [
    "df['brand_rank'] = temp_rank"
   ]
  },
  {
   "cell_type": "code",
   "execution_count": 116,
   "id": "f8c42c29",
   "metadata": {},
   "outputs": [
    {
     "data": {
      "text/html": [
       "<div>\n",
       "<style scoped>\n",
       "    .dataframe tbody tr th:only-of-type {\n",
       "        vertical-align: middle;\n",
       "    }\n",
       "\n",
       "    .dataframe tbody tr th {\n",
       "        vertical-align: top;\n",
       "    }\n",
       "\n",
       "    .dataframe thead th {\n",
       "        text-align: right;\n",
       "    }\n",
       "</style>\n",
       "<table border=\"1\" class=\"dataframe\">\n",
       "  <thead>\n",
       "    <tr style=\"text-align: right;\">\n",
       "      <th></th>\n",
       "      <th>Id</th>\n",
       "      <th>year</th>\n",
       "      <th>brand</th>\n",
       "      <th>full_model_name</th>\n",
       "      <th>model_name</th>\n",
       "      <th>price</th>\n",
       "      <th>distance_travelled(kms)</th>\n",
       "      <th>fuel_type</th>\n",
       "      <th>city</th>\n",
       "      <th>brand_rank</th>\n",
       "    </tr>\n",
       "  </thead>\n",
       "  <tbody>\n",
       "    <tr>\n",
       "      <th>0</th>\n",
       "      <td>0</td>\n",
       "      <td>2016</td>\n",
       "      <td>Honda</td>\n",
       "      <td>Honda Brio S MT</td>\n",
       "      <td>Brio</td>\n",
       "      <td>425000.0</td>\n",
       "      <td>9680.0</td>\n",
       "      <td>Petrol</td>\n",
       "      <td>Mumbai</td>\n",
       "      <td>7</td>\n",
       "    </tr>\n",
       "    <tr>\n",
       "      <th>1</th>\n",
       "      <td>1</td>\n",
       "      <td>2012</td>\n",
       "      <td>Nissan</td>\n",
       "      <td>Nissan Sunny XV Diesel</td>\n",
       "      <td>Sunny</td>\n",
       "      <td>325000.0</td>\n",
       "      <td>119120.0</td>\n",
       "      <td>Diesel</td>\n",
       "      <td>Mumbai</td>\n",
       "      <td>11</td>\n",
       "    </tr>\n",
       "    <tr>\n",
       "      <th>2</th>\n",
       "      <td>2</td>\n",
       "      <td>2017</td>\n",
       "      <td>Toyota</td>\n",
       "      <td>Toyota Fortuner 2.8 4x2 MT [2016-2020]</td>\n",
       "      <td>Fortuner</td>\n",
       "      <td>2650000.0</td>\n",
       "      <td>64593.0</td>\n",
       "      <td>Diesel</td>\n",
       "      <td>Thane</td>\n",
       "      <td>1</td>\n",
       "    </tr>\n",
       "    <tr>\n",
       "      <th>3</th>\n",
       "      <td>3</td>\n",
       "      <td>2017</td>\n",
       "      <td>Mercedes-Benz</td>\n",
       "      <td>Mercedes-Benz E-Class E 220d Expression [2019-...</td>\n",
       "      <td>E-Class</td>\n",
       "      <td>4195000.0</td>\n",
       "      <td>25000.0</td>\n",
       "      <td>Diesel</td>\n",
       "      <td>Mumbai</td>\n",
       "      <td>2</td>\n",
       "    </tr>\n",
       "    <tr>\n",
       "      <th>4</th>\n",
       "      <td>4</td>\n",
       "      <td>2012</td>\n",
       "      <td>Hyundai</td>\n",
       "      <td>Hyundai Verna Fluidic 1.6 CRDi SX</td>\n",
       "      <td>Verna</td>\n",
       "      <td>475000.0</td>\n",
       "      <td>23800.0</td>\n",
       "      <td>Diesel</td>\n",
       "      <td>Mumbai</td>\n",
       "      <td>14</td>\n",
       "    </tr>\n",
       "  </tbody>\n",
       "</table>\n",
       "</div>"
      ],
      "text/plain": [
       "   Id  year          brand                                    full_model_name  \\\n",
       "0   0  2016          Honda                                    Honda Brio S MT   \n",
       "1   1  2012         Nissan                             Nissan Sunny XV Diesel   \n",
       "2   2  2017         Toyota             Toyota Fortuner 2.8 4x2 MT [2016-2020]   \n",
       "3   3  2017  Mercedes-Benz  Mercedes-Benz E-Class E 220d Expression [2019-...   \n",
       "4   4  2012        Hyundai                  Hyundai Verna Fluidic 1.6 CRDi SX   \n",
       "\n",
       "  model_name      price  distance_travelled(kms) fuel_type    city  brand_rank  \n",
       "0       Brio   425000.0                   9680.0    Petrol  Mumbai           7  \n",
       "1      Sunny   325000.0                 119120.0    Diesel  Mumbai          11  \n",
       "2   Fortuner  2650000.0                  64593.0    Diesel   Thane           1  \n",
       "3    E-Class  4195000.0                  25000.0    Diesel  Mumbai           2  \n",
       "4      Verna   475000.0                  23800.0    Diesel  Mumbai          14  "
      ]
     },
     "execution_count": 116,
     "metadata": {},
     "output_type": "execute_result"
    }
   ],
   "source": [
    "df.head()"
   ]
  },
  {
   "cell_type": "markdown",
   "id": "9cd9509d",
   "metadata": {},
   "source": [
    "# Calculating Car Age"
   ]
  },
  {
   "cell_type": "code",
   "execution_count": 117,
   "id": "ce4bf612",
   "metadata": {},
   "outputs": [],
   "source": [
    "current_year = 2021"
   ]
  },
  {
   "cell_type": "code",
   "execution_count": 118,
   "id": "fb231dd3",
   "metadata": {},
   "outputs": [],
   "source": [
    "age = []"
   ]
  },
  {
   "cell_type": "code",
   "execution_count": 119,
   "id": "2f93c676",
   "metadata": {},
   "outputs": [],
   "source": [
    "for i in df['year']:\n",
    "    age.append(current_year-float(i))"
   ]
  },
  {
   "cell_type": "markdown",
   "id": "0d529480",
   "metadata": {},
   "source": [
    "# Adding Age To Dataset"
   ]
  },
  {
   "cell_type": "code",
   "execution_count": 120,
   "id": "23be79f2",
   "metadata": {},
   "outputs": [],
   "source": [
    "df['car_age'] = age"
   ]
  },
  {
   "cell_type": "code",
   "execution_count": 121,
   "id": "f1b3fa80",
   "metadata": {},
   "outputs": [
    {
     "data": {
      "text/html": [
       "<div>\n",
       "<style scoped>\n",
       "    .dataframe tbody tr th:only-of-type {\n",
       "        vertical-align: middle;\n",
       "    }\n",
       "\n",
       "    .dataframe tbody tr th {\n",
       "        vertical-align: top;\n",
       "    }\n",
       "\n",
       "    .dataframe thead th {\n",
       "        text-align: right;\n",
       "    }\n",
       "</style>\n",
       "<table border=\"1\" class=\"dataframe\">\n",
       "  <thead>\n",
       "    <tr style=\"text-align: right;\">\n",
       "      <th></th>\n",
       "      <th>Id</th>\n",
       "      <th>year</th>\n",
       "      <th>brand</th>\n",
       "      <th>full_model_name</th>\n",
       "      <th>model_name</th>\n",
       "      <th>price</th>\n",
       "      <th>distance_travelled(kms)</th>\n",
       "      <th>fuel_type</th>\n",
       "      <th>city</th>\n",
       "      <th>brand_rank</th>\n",
       "      <th>car_age</th>\n",
       "    </tr>\n",
       "  </thead>\n",
       "  <tbody>\n",
       "    <tr>\n",
       "      <th>0</th>\n",
       "      <td>0</td>\n",
       "      <td>2016</td>\n",
       "      <td>Honda</td>\n",
       "      <td>Honda Brio S MT</td>\n",
       "      <td>Brio</td>\n",
       "      <td>425000.0</td>\n",
       "      <td>9680.0</td>\n",
       "      <td>Petrol</td>\n",
       "      <td>Mumbai</td>\n",
       "      <td>7</td>\n",
       "      <td>5.0</td>\n",
       "    </tr>\n",
       "    <tr>\n",
       "      <th>1</th>\n",
       "      <td>1</td>\n",
       "      <td>2012</td>\n",
       "      <td>Nissan</td>\n",
       "      <td>Nissan Sunny XV Diesel</td>\n",
       "      <td>Sunny</td>\n",
       "      <td>325000.0</td>\n",
       "      <td>119120.0</td>\n",
       "      <td>Diesel</td>\n",
       "      <td>Mumbai</td>\n",
       "      <td>11</td>\n",
       "      <td>9.0</td>\n",
       "    </tr>\n",
       "    <tr>\n",
       "      <th>2</th>\n",
       "      <td>2</td>\n",
       "      <td>2017</td>\n",
       "      <td>Toyota</td>\n",
       "      <td>Toyota Fortuner 2.8 4x2 MT [2016-2020]</td>\n",
       "      <td>Fortuner</td>\n",
       "      <td>2650000.0</td>\n",
       "      <td>64593.0</td>\n",
       "      <td>Diesel</td>\n",
       "      <td>Thane</td>\n",
       "      <td>1</td>\n",
       "      <td>4.0</td>\n",
       "    </tr>\n",
       "    <tr>\n",
       "      <th>3</th>\n",
       "      <td>3</td>\n",
       "      <td>2017</td>\n",
       "      <td>Mercedes-Benz</td>\n",
       "      <td>Mercedes-Benz E-Class E 220d Expression [2019-...</td>\n",
       "      <td>E-Class</td>\n",
       "      <td>4195000.0</td>\n",
       "      <td>25000.0</td>\n",
       "      <td>Diesel</td>\n",
       "      <td>Mumbai</td>\n",
       "      <td>2</td>\n",
       "      <td>4.0</td>\n",
       "    </tr>\n",
       "    <tr>\n",
       "      <th>4</th>\n",
       "      <td>4</td>\n",
       "      <td>2012</td>\n",
       "      <td>Hyundai</td>\n",
       "      <td>Hyundai Verna Fluidic 1.6 CRDi SX</td>\n",
       "      <td>Verna</td>\n",
       "      <td>475000.0</td>\n",
       "      <td>23800.0</td>\n",
       "      <td>Diesel</td>\n",
       "      <td>Mumbai</td>\n",
       "      <td>14</td>\n",
       "      <td>9.0</td>\n",
       "    </tr>\n",
       "  </tbody>\n",
       "</table>\n",
       "</div>"
      ],
      "text/plain": [
       "   Id  year          brand                                    full_model_name  \\\n",
       "0   0  2016          Honda                                    Honda Brio S MT   \n",
       "1   1  2012         Nissan                             Nissan Sunny XV Diesel   \n",
       "2   2  2017         Toyota             Toyota Fortuner 2.8 4x2 MT [2016-2020]   \n",
       "3   3  2017  Mercedes-Benz  Mercedes-Benz E-Class E 220d Expression [2019-...   \n",
       "4   4  2012        Hyundai                  Hyundai Verna Fluidic 1.6 CRDi SX   \n",
       "\n",
       "  model_name      price  distance_travelled(kms) fuel_type    city  \\\n",
       "0       Brio   425000.0                   9680.0    Petrol  Mumbai   \n",
       "1      Sunny   325000.0                 119120.0    Diesel  Mumbai   \n",
       "2   Fortuner  2650000.0                  64593.0    Diesel   Thane   \n",
       "3    E-Class  4195000.0                  25000.0    Diesel  Mumbai   \n",
       "4      Verna   475000.0                  23800.0    Diesel  Mumbai   \n",
       "\n",
       "   brand_rank  car_age  \n",
       "0           7      5.0  \n",
       "1          11      9.0  \n",
       "2           1      4.0  \n",
       "3           2      4.0  \n",
       "4          14      9.0  "
      ]
     },
     "execution_count": 121,
     "metadata": {},
     "output_type": "execute_result"
    }
   ],
   "source": [
    "df.head()"
   ]
  },
  {
   "cell_type": "markdown",
   "id": "af8d6a35",
   "metadata": {},
   "source": [
    "# Car Distance Travelled Exploration"
   ]
  },
  {
   "cell_type": "code",
   "execution_count": 122,
   "id": "999e7bd5",
   "metadata": {},
   "outputs": [
    {
     "data": {
      "application/vnd.plotly.v1+json": {
       "config": {
        "plotlyServerURL": "https://plot.ly"
       },
       "data": [
        {
         "alignmentgroup": "True",
         "hovertemplate": "x=%{x}<extra></extra>",
         "legendgroup": "",
         "marker": {
          "color": "#636efa"
         },
         "name": "",
         "notched": false,
         "offsetgroup": "",
         "orientation": "h",
         "showlegend": false,
         "type": "box",
         "x": [
          9680,
          119120,
          64593,
          25000,
          23800,
          45000,
          19500,
          32000,
          44329,
          48286,
          24935,
          59758,
          40119,
          22625,
          16540,
          41280,
          97679,
          43000,
          14846,
          28771,
          33443,
          24000,
          44380,
          58000,
          69380,
          39500,
          74460,
          42442,
          65327,
          19768,
          2814,
          20100,
          52717,
          20100,
          46646,
          49000,
          32000,
          5550,
          48000,
          31000,
          61000,
          65000,
          49000,
          78000,
          82000,
          24000,
          6000,
          33000,
          107000,
          71000,
          94000,
          55000,
          79000,
          71000,
          65000,
          34000,
          80000,
          67000,
          27000,
          76000,
          11100,
          79915,
          67664,
          72000,
          33500,
          26700,
          45700,
          23500,
          14500,
          6517,
          22000,
          44000,
          22000,
          66000,
          48000,
          59000,
          127000,
          19500,
          29500,
          56500,
          85400,
          98602,
          28000,
          7500,
          33000,
          4500,
          65000,
          84500,
          55000,
          99000,
          25000,
          65000,
          71000,
          67000,
          48000,
          56500,
          127000,
          19500,
          29500,
          55000,
          61000,
          26000,
          25000,
          46000,
          59000,
          77000,
          60000,
          91000,
          14000,
          21000,
          12000,
          70000,
          39000,
          59000,
          108200,
          61000,
          52000,
          82000,
          56089,
          45095,
          12321,
          67894,
          44835,
          118363,
          98877,
          41298,
          57209,
          49390,
          30477,
          49000,
          19000,
          7500,
          54989,
          22388,
          46475,
          31913,
          55474,
          68051,
          44000,
          36500,
          3900,
          37000,
          42000,
          39500,
          32000,
          56452,
          22341,
          85000,
          58000,
          21212,
          68890,
          31000,
          49000,
          115140,
          74000,
          54500,
          77000,
          63700,
          64000,
          43000,
          9000,
          78000,
          31000,
          54000,
          65000,
          18000,
          53000,
          42000,
          7800,
          20000,
          27000,
          43000,
          37000,
          34000,
          38000,
          17000,
          34000,
          38000,
          65000,
          31000,
          20000,
          7800,
          9000,
          49000,
          10500,
          33000,
          47284,
          62618,
          4200,
          31414,
          24694,
          29708,
          40200,
          156334,
          32000,
          350,
          61649,
          28367,
          33997,
          47209,
          62812,
          52204,
          39295,
          54803,
          150116,
          48968,
          43494,
          41584,
          56839,
          34600,
          77082,
          52000,
          65000,
          84000,
          39535,
          39792,
          31552,
          37399,
          158359,
          22272,
          39700,
          30958,
          32202,
          65000,
          10000,
          2608,
          7500,
          34000,
          41000,
          195000,
          43100,
          17300,
          61700,
          68003,
          85000,
          98000,
          45000,
          33000,
          4000,
          54215,
          47000,
          19000,
          30000,
          88000,
          21000,
          40000,
          78500,
          11733,
          41931,
          14880,
          41606,
          16000,
          27300,
          18500,
          32000,
          56567,
          51000,
          790000,
          43000,
          83000,
          720000,
          45000,
          28000,
          55000,
          39000,
          20000,
          97000,
          18000,
          54000,
          88000,
          66000,
          57000,
          75000,
          13000,
          59700,
          57000,
          34000,
          68000,
          8000,
          32000,
          59000,
          18000,
          68000,
          53357,
          64000,
          38000,
          54000,
          51000,
          31000,
          85000,
          5500,
          69000,
          17000,
          72000,
          60000,
          30500,
          11000,
          41000,
          60956,
          30834,
          28000,
          39000,
          65000,
          69000,
          66000,
          48000,
          59000,
          33500,
          26700,
          45700,
          23500,
          14500,
          6517,
          22000,
          44000,
          22000,
          50000,
          4500,
          47201,
          18500,
          17453,
          67000,
          18854,
          32445,
          66000,
          14320,
          18500,
          12240,
          55000,
          67000,
          71000,
          17453,
          7823,
          8000,
          41606,
          50000,
          18854,
          66000,
          14320,
          40000,
          75000,
          10000,
          31000,
          14000,
          21000,
          17000,
          32000,
          31000,
          27000,
          9800,
          31000,
          27000,
          9800,
          30000,
          30000,
          12000,
          38000,
          4000,
          80000,
          14500,
          41000,
          43000,
          18000,
          2700,
          23000,
          13000,
          12000,
          17000,
          40000,
          32000,
          75000,
          10000,
          32000,
          75000,
          70000,
          54000,
          25000,
          90000,
          12000,
          7000,
          30000,
          9000,
          490,
          16000,
          14000,
          64000,
          14800,
          98500,
          55000,
          15500,
          115000,
          74000,
          54500,
          77000,
          63700,
          64000,
          43000,
          85000,
          6372,
          35000,
          38000,
          67800,
          67000,
          73009,
          60000,
          17000,
          25000,
          55000,
          38000,
          15000,
          65000,
          58000,
          38000,
          12000,
          27000,
          17000,
          78000,
          38200,
          9000,
          43000,
          7111,
          18000,
          43000,
          38200,
          56000,
          22500,
          75000,
          24000,
          57000,
          9000,
          15800,
          21963,
          49350,
          53500,
          16000,
          65000,
          24000,
          13000,
          71000,
          47000,
          34000,
          73000,
          70000,
          4000,
          58000,
          29000,
          18000,
          14880,
          45000,
          80000,
          4000,
          75000,
          13000,
          34000,
          50000,
          5800,
          47000,
          23000,
          52000,
          73000,
          70000,
          23000,
          48000,
          8000,
          45000,
          71000,
          50000,
          58000,
          29000,
          52000,
          31000,
          13000,
          50000,
          5800,
          47000,
          23000,
          52000,
          58000,
          29000,
          55000,
          37000,
          39000,
          61000,
          85000,
          51000,
          47000,
          67000,
          23000,
          52000,
          80000,
          72000,
          68000,
          25000,
          65349,
          55627,
          76890,
          61000,
          33905,
          26000,
          52255,
          72799,
          27805,
          33984,
          35876,
          26966,
          47057,
          53636,
          94055,
          18680,
          53636,
          39792,
          61307,
          53769,
          51016,
          30356,
          60997,
          94030,
          60559,
          68796,
          42876,
          28713,
          35855,
          36986,
          26605,
          50192,
          44862,
          74848,
          15133,
          40542,
          33905,
          55627,
          10860,
          52165,
          36412,
          55692,
          61252,
          31663,
          15440,
          10035,
          45654,
          13839,
          13123,
          41581,
          35421,
          44814,
          42811,
          45949,
          18760,
          74541,
          42811,
          45949,
          18760,
          45654,
          13839,
          63756,
          36321,
          70256,
          35153,
          8081,
          74541,
          41581,
          46160,
          22795,
          20894,
          75447,
          16067,
          59117,
          13123,
          68838,
          62006,
          70256,
          24301,
          44482,
          44482,
          14122,
          13065,
          22581,
          54806,
          149313,
          22586,
          5681,
          57800,
          57800,
          55000,
          55000,
          5697,
          13065,
          55000,
          22586,
          37411,
          35406,
          66078,
          47265,
          58671,
          66078,
          39780,
          85871,
          85871,
          37411,
          35406,
          66078,
          55946,
          55946,
          48987,
          40786,
          31000,
          61409,
          45082,
          103000,
          83378,
          17800,
          63900,
          41850,
          24743,
          66078,
          57362,
          64321,
          64321,
          47265,
          39780,
          64321,
          47265,
          39780,
          14510,
          85871,
          59540,
          54174,
          69304,
          47957,
          15593,
          79960,
          85000,
          37640,
          40977,
          18000,
          66000,
          70000,
          39000,
          3000,
          42305,
          24301,
          37422,
          18760,
          52616,
          45949,
          63708,
          45654,
          54807,
          61604,
          13839,
          21152,
          90818,
          63756,
          45949,
          41917,
          36321,
          22795,
          35153,
          74541,
          40198,
          35421,
          44814,
          42811,
          30264,
          8081,
          39640,
          18807,
          21992,
          53368,
          28131,
          54863,
          27952,
          13065,
          54806,
          44814,
          60596,
          22800,
          10100,
          70256,
          41581,
          81844,
          5681,
          14800,
          40198,
          74541,
          8081,
          75447,
          35043,
          18325,
          38473,
          54863,
          16950,
          29350,
          29350,
          16950,
          58790,
          18325,
          41581,
          70256,
          27952,
          43000,
          9131,
          57800,
          54806,
          2750,
          38000,
          60000,
          52000,
          61000,
          202000,
          87000,
          14000,
          48000,
          107000,
          16000,
          70000,
          160000,
          78000,
          20000,
          30000,
          30000,
          6000,
          60000,
          50000,
          63000,
          41000,
          49000,
          33000,
          56000,
          64382,
          121434,
          14448,
          33990,
          12200,
          83522,
          28131,
          10906,
          55705,
          14981,
          32279,
          93525,
          40904,
          209616,
          43294,
          89000,
          15250,
          20763,
          127000,
          36057,
          88630,
          42282,
          18178,
          32525,
          75441,
          34444,
          8862,
          83575,
          68479,
          88666,
          80809,
          67475,
          74595,
          72230,
          112038,
          116594,
          16023,
          57786,
          30000,
          5700,
          40000,
          78507,
          31757,
          89602,
          38530,
          47000,
          88000,
          93525,
          75375,
          68384,
          71750,
          73149,
          67528,
          64554,
          67000,
          33400,
          20763,
          35000,
          72000,
          125000,
          102000,
          73000,
          82000,
          45000,
          30000,
          51000,
          83000,
          72000,
          66000,
          129000,
          38000,
          131000,
          51000,
          88000,
          54000,
          46000,
          63000,
          23000,
          26000,
          101000,
          85000,
          6500,
          30000,
          45000,
          37914,
          73451,
          35000,
          19486,
          64654,
          51000,
          43000,
          23107,
          45000,
          68000,
          44900,
          68342,
          28000,
          65000,
          53000,
          29867,
          55000,
          71000,
          72000,
          110000,
          24500,
          55289,
          84640,
          31000,
          70000,
          22000,
          33024,
          36000,
          72995,
          68000,
          4100,
          166000,
          61000,
          20111,
          94000,
          78263,
          60628,
          39000,
          24250,
          69000,
          68000,
          34000,
          103000,
          135000,
          29000,
          41000,
          63000,
          75000,
          126000,
          85000,
          75000,
          70844,
          135934,
          11500,
          61786,
          95000,
          82000,
          85000,
          75000,
          98000,
          45000,
          82000,
          49000,
          72000,
          209616,
          120424,
          65650,
          80000,
          81000,
          77000,
          550000,
          126000,
          122833,
          46000,
          86000,
          98000,
          86000,
          136000,
          87000,
          24000,
          57000,
          6000,
          96000,
          57000,
          60000,
          67700,
          52000,
          31000,
          17774,
          21000,
          70000,
          46888,
          75000,
          77000,
          105000,
          33000,
          3700,
          92000,
          81000,
          82000,
          100568,
          100568,
          12208,
          80084,
          75893,
          71000,
          83000,
          82000,
          84000,
          85000,
          194000,
          99000,
          129804,
          72000,
          174000,
          65000,
          63000,
          57000,
          30100,
          24000,
          69000,
          100000,
          72000,
          88000,
          16000,
          65000,
          121580,
          93000,
          59000,
          87000,
          47600,
          82000,
          86000,
          27000,
          86000,
          144000,
          68000,
          67000,
          82000,
          91000,
          83000,
          85349,
          106000,
          13470,
          43000,
          1600,
          87000,
          71000,
          127000,
          160015,
          50781,
          41000,
          31000,
          56462,
          44150,
          20000,
          66000,
          68000,
          95000,
          54000,
          72000,
          115000,
          46816,
          94000,
          107000,
          80000,
          110000,
          115000,
          23906,
          76000,
          43000,
          142000,
          10000,
          8000,
          83000,
          100000,
          38000,
          76000,
          70500,
          60000,
          11505,
          7686,
          1664,
          69138,
          2762,
          4593,
          75000,
          107000,
          62000,
          63000,
          25000,
          40000,
          40000,
          10001,
          38000,
          14000,
          11000,
          29000,
          2000,
          24800,
          25000,
          46000,
          20000,
          25000,
          20000,
          8000,
          46000,
          10000,
          10000,
          24000,
          29000,
          24800,
          2000,
          20000,
          54000,
          72000,
          72000,
          5700,
          180000,
          40000,
          60000,
          40000,
          65000,
          80000,
          33000,
          11500,
          40000,
          33000,
          26000,
          11500,
          97000,
          120000,
          2000,
          74000,
          78000,
          57000,
          66000,
          50000,
          55000,
          55000,
          54000,
          53000,
          70000,
          86000,
          65000,
          56500,
          141900,
          44000,
          39500,
          70500,
          25000,
          70000,
          108000,
          56500,
          55000,
          141900,
          55000,
          80400,
          40500,
          39000,
          30900,
          58200,
          79900,
          15000,
          39900,
          66000,
          22000,
          80000,
          55000,
          24000,
          72000,
          19900,
          92900,
          89900,
          85000,
          19900,
          85000,
          83000,
          45000,
          52000,
          35000,
          79900,
          55000,
          50000,
          85000,
          43000,
          148000,
          39000,
          19900,
          51000,
          30980,
          72000,
          27000,
          18000,
          62000,
          175000,
          51000,
          40000,
          14000,
          51000,
          14000,
          41000,
          49000,
          69000,
          66000,
          32000,
          60000,
          48000,
          22000,
          63000,
          87500,
          9500,
          62000,
          81296,
          38000,
          40000,
          58000,
          120000,
          38000,
          64000,
          90000,
          84000,
          39000,
          73000,
          40000,
          65000,
          70000,
          29000,
          54000,
          7000,
          45000,
          74000,
          130000,
          68000,
          13000,
          64000,
          60000,
          44000,
          61000,
          112000,
          59000,
          90000,
          135000,
          40000,
          130000,
          62000,
          65000,
          34000,
          36000,
          4500,
          106000,
          40000,
          37000,
          32000,
          11100,
          49855,
          57700,
          24000,
          55000,
          65000,
          77000,
          63000,
          120000,
          49000,
          10001,
          16000,
          35000,
          29000,
          41000,
          3000,
          76000,
          20000,
          85000,
          65000,
          57000,
          24000,
          35000,
          29000,
          41000,
          16000,
          44000,
          41000,
          77000,
          63000,
          104000,
          112000,
          93000,
          30000,
          30000,
          16000,
          100000,
          42500,
          420000,
          48000,
          64000,
          100000,
          42500,
          82420,
          73000,
          15600,
          58600,
          58548,
          22261,
          28800,
          30000,
          43000,
          76000,
          65000,
          20000,
          36000,
          73000,
          12000,
          23000,
          16000,
          40000,
          82000,
          30000,
          17000,
          100000,
          83000,
          38000,
          40000,
          54000,
          55000,
          8000,
          18000,
          11505,
          7686,
          1664,
          69138,
          2762,
          4593,
          75000,
          107000,
          62000,
          63000,
          25000,
          40000,
          40000,
          10001,
          10000,
          38000,
          14000,
          11000,
          29000,
          2000,
          24800,
          25000,
          46000,
          20000,
          25000,
          20000,
          8000,
          46000,
          10000,
          10000,
          24000,
          29000,
          24800,
          2000,
          20000,
          54000,
          72000,
          72000,
          5700,
          180000,
          40000,
          60000,
          40000,
          65000,
          80000,
          33000,
          11500,
          40000,
          40000,
          11500,
          57000,
          74000,
          97000,
          120000,
          2000,
          57000,
          78000,
          25000,
          66000,
          54000,
          76000,
          13000,
          25000,
          66000,
          86000,
          39500,
          70500,
          44000,
          65000,
          50000,
          55000,
          53000,
          13000,
          76000,
          80400,
          30900,
          40500,
          39000,
          55000,
          58200,
          25000,
          108000,
          66000,
          55000,
          80000,
          39900,
          66000,
          15000,
          79900,
          22000,
          55000,
          45000,
          19900,
          4000,
          148000,
          18000,
          19900,
          85000,
          83000,
          45000,
          52000,
          35000,
          79900,
          55000,
          50000,
          85000,
          43000,
          148000,
          39000,
          19900,
          51000,
          30980,
          72000,
          27000,
          18000,
          62000,
          175000,
          51000,
          40000,
          14000,
          69000,
          51000,
          40000,
          62000,
          22000,
          9500,
          60000,
          63000,
          66000,
          81296,
          32000,
          87500,
          48000,
          14000,
          52000,
          38000,
          40000,
          58000,
          120000,
          38000,
          54000,
          64000,
          59000,
          90000,
          73000,
          40000,
          65000,
          70000,
          29000,
          54000,
          7000,
          45000,
          74000,
          130000,
          68000,
          13000,
          64000,
          60000,
          44000,
          61000,
          112000,
          59000,
          90000,
          135000,
          40000,
          130000,
          62000,
          65000,
          77000,
          106000,
          34000,
          57700,
          40000,
          65000,
          4500,
          36000,
          32000,
          65000,
          62000,
          49855,
          11100,
          37000,
          63000,
          120000,
          49000,
          10001,
          76000,
          190000,
          38000,
          3000,
          37000,
          17000,
          20000,
          85000,
          65000,
          57000,
          24000,
          35000,
          29000,
          41000,
          16000,
          44000,
          41000,
          77000,
          63000,
          104000,
          112000,
          93000,
          30000,
          30000,
          16000,
          100000,
          42500,
          420000,
          48000,
          64000,
          100000,
          42500,
          82420,
          73000,
          15600,
          58600,
          58548,
          22261,
          28800,
          30000,
          43000,
          76000,
          65000,
          20000,
          36000,
          73000,
          12000,
          23000,
          16000,
          40000,
          82000,
          30000,
          17000,
          71488,
          32228,
          11000,
          83508,
          40119,
          40614,
          30889,
          85200,
          10300,
          43712,
          75000,
          48000,
          71000,
          77000,
          72000,
          56000,
          20000,
          59908,
          60176,
          50262,
          93802,
          99499,
          23797,
          42000,
          55000,
          10000,
          31414,
          93000,
          29708,
          24694,
          9500,
          22838,
          16900,
          26000,
          78000,
          83000,
          52000,
          95000,
          70000,
          46000,
          8000,
          83000,
          79000,
          7700,
          83000,
          47000,
          19000,
          64000,
          67000,
          79000,
          70000,
          35000,
          18000,
          72000,
          97000,
          30889,
          95000,
          83000,
          81000,
          13000,
          24372,
          38660,
          53216,
          44463,
          51921,
          75732,
          98265,
          59105,
          81428,
          91000,
          81000,
          50000,
          61352,
          17500,
          20518,
          98000,
          104248,
          75000,
          72000,
          99350,
          99400,
          91000,
          102000,
          75000,
          32000,
          71000,
          71000,
          71000,
          100004,
          48000,
          82000,
          67000,
          98000,
          89000,
          99800,
          91000,
          55000,
          102000,
          72000,
          99000,
          57218,
          30000,
          55600,
          77000,
          61000,
          95000,
          13994,
          72000,
          55600,
          30000,
          77000,
          57218,
          79461,
          67000,
          76200,
          115000,
          76000,
          41000,
          508881,
          28696,
          107079,
          40409,
          58203,
          56948,
          145368,
          110369,
          17014,
          59509,
          31600,
          6800,
          32800,
          67000,
          79000,
          100000,
          89000,
          170306,
          11500,
          13500,
          87000,
          40119,
          108500,
          118000,
          70738,
          117136,
          55000,
          42000,
          47000,
          124000,
          81911,
          34308,
          56030,
          89869,
          74873,
          82169,
          62000,
          44500,
          45477,
          45588,
          56498,
          39877,
          29628,
          75000,
          87387,
          63000,
          83074,
          60484,
          74000,
          12000,
          58000,
          67000,
          38500,
          66563,
          700,
          39000,
          141000,
          142502,
          49997,
          11233,
          77000,
          700,
          66563,
          67000,
          58000,
          38500,
          132000,
          39000,
          12000,
          65000,
          72000,
          85200,
          30000,
          53000,
          37000,
          9000,
          75000,
          87387,
          103357,
          11000,
          81000,
          33000,
          81000,
          50000,
          10000,
          48405,
          52080,
          62665,
          49558,
          31632,
          61923,
          49899,
          49606,
          57770,
          68500,
          75106,
          55200,
          40614,
          12500,
          51985,
          60878,
          63000,
          67500,
          51000,
          102000,
          53347,
          60878,
          68500,
          42000,
          55200,
          12500,
          27000,
          28000,
          33000,
          38000,
          49000,
          24010,
          13000,
          90000,
          55000,
          55000,
          56011,
          49000,
          3681,
          38000,
          36000,
          142522,
          18581,
          31028
         ],
         "x0": " ",
         "xaxis": "x",
         "y0": " ",
         "yaxis": "y"
        }
       ],
       "layout": {
        "boxmode": "group",
        "legend": {
         "tracegroupgap": 0
        },
        "margin": {
         "t": 60
        },
        "template": {
         "data": {
          "bar": [
           {
            "error_x": {
             "color": "#2a3f5f"
            },
            "error_y": {
             "color": "#2a3f5f"
            },
            "marker": {
             "line": {
              "color": "#E5ECF6",
              "width": 0.5
             },
             "pattern": {
              "fillmode": "overlay",
              "size": 10,
              "solidity": 0.2
             }
            },
            "type": "bar"
           }
          ],
          "barpolar": [
           {
            "marker": {
             "line": {
              "color": "#E5ECF6",
              "width": 0.5
             },
             "pattern": {
              "fillmode": "overlay",
              "size": 10,
              "solidity": 0.2
             }
            },
            "type": "barpolar"
           }
          ],
          "carpet": [
           {
            "aaxis": {
             "endlinecolor": "#2a3f5f",
             "gridcolor": "white",
             "linecolor": "white",
             "minorgridcolor": "white",
             "startlinecolor": "#2a3f5f"
            },
            "baxis": {
             "endlinecolor": "#2a3f5f",
             "gridcolor": "white",
             "linecolor": "white",
             "minorgridcolor": "white",
             "startlinecolor": "#2a3f5f"
            },
            "type": "carpet"
           }
          ],
          "choropleth": [
           {
            "colorbar": {
             "outlinewidth": 0,
             "ticks": ""
            },
            "type": "choropleth"
           }
          ],
          "contour": [
           {
            "colorbar": {
             "outlinewidth": 0,
             "ticks": ""
            },
            "colorscale": [
             [
              0,
              "#0d0887"
             ],
             [
              0.1111111111111111,
              "#46039f"
             ],
             [
              0.2222222222222222,
              "#7201a8"
             ],
             [
              0.3333333333333333,
              "#9c179e"
             ],
             [
              0.4444444444444444,
              "#bd3786"
             ],
             [
              0.5555555555555556,
              "#d8576b"
             ],
             [
              0.6666666666666666,
              "#ed7953"
             ],
             [
              0.7777777777777778,
              "#fb9f3a"
             ],
             [
              0.8888888888888888,
              "#fdca26"
             ],
             [
              1,
              "#f0f921"
             ]
            ],
            "type": "contour"
           }
          ],
          "contourcarpet": [
           {
            "colorbar": {
             "outlinewidth": 0,
             "ticks": ""
            },
            "type": "contourcarpet"
           }
          ],
          "heatmap": [
           {
            "colorbar": {
             "outlinewidth": 0,
             "ticks": ""
            },
            "colorscale": [
             [
              0,
              "#0d0887"
             ],
             [
              0.1111111111111111,
              "#46039f"
             ],
             [
              0.2222222222222222,
              "#7201a8"
             ],
             [
              0.3333333333333333,
              "#9c179e"
             ],
             [
              0.4444444444444444,
              "#bd3786"
             ],
             [
              0.5555555555555556,
              "#d8576b"
             ],
             [
              0.6666666666666666,
              "#ed7953"
             ],
             [
              0.7777777777777778,
              "#fb9f3a"
             ],
             [
              0.8888888888888888,
              "#fdca26"
             ],
             [
              1,
              "#f0f921"
             ]
            ],
            "type": "heatmap"
           }
          ],
          "heatmapgl": [
           {
            "colorbar": {
             "outlinewidth": 0,
             "ticks": ""
            },
            "colorscale": [
             [
              0,
              "#0d0887"
             ],
             [
              0.1111111111111111,
              "#46039f"
             ],
             [
              0.2222222222222222,
              "#7201a8"
             ],
             [
              0.3333333333333333,
              "#9c179e"
             ],
             [
              0.4444444444444444,
              "#bd3786"
             ],
             [
              0.5555555555555556,
              "#d8576b"
             ],
             [
              0.6666666666666666,
              "#ed7953"
             ],
             [
              0.7777777777777778,
              "#fb9f3a"
             ],
             [
              0.8888888888888888,
              "#fdca26"
             ],
             [
              1,
              "#f0f921"
             ]
            ],
            "type": "heatmapgl"
           }
          ],
          "histogram": [
           {
            "marker": {
             "pattern": {
              "fillmode": "overlay",
              "size": 10,
              "solidity": 0.2
             }
            },
            "type": "histogram"
           }
          ],
          "histogram2d": [
           {
            "colorbar": {
             "outlinewidth": 0,
             "ticks": ""
            },
            "colorscale": [
             [
              0,
              "#0d0887"
             ],
             [
              0.1111111111111111,
              "#46039f"
             ],
             [
              0.2222222222222222,
              "#7201a8"
             ],
             [
              0.3333333333333333,
              "#9c179e"
             ],
             [
              0.4444444444444444,
              "#bd3786"
             ],
             [
              0.5555555555555556,
              "#d8576b"
             ],
             [
              0.6666666666666666,
              "#ed7953"
             ],
             [
              0.7777777777777778,
              "#fb9f3a"
             ],
             [
              0.8888888888888888,
              "#fdca26"
             ],
             [
              1,
              "#f0f921"
             ]
            ],
            "type": "histogram2d"
           }
          ],
          "histogram2dcontour": [
           {
            "colorbar": {
             "outlinewidth": 0,
             "ticks": ""
            },
            "colorscale": [
             [
              0,
              "#0d0887"
             ],
             [
              0.1111111111111111,
              "#46039f"
             ],
             [
              0.2222222222222222,
              "#7201a8"
             ],
             [
              0.3333333333333333,
              "#9c179e"
             ],
             [
              0.4444444444444444,
              "#bd3786"
             ],
             [
              0.5555555555555556,
              "#d8576b"
             ],
             [
              0.6666666666666666,
              "#ed7953"
             ],
             [
              0.7777777777777778,
              "#fb9f3a"
             ],
             [
              0.8888888888888888,
              "#fdca26"
             ],
             [
              1,
              "#f0f921"
             ]
            ],
            "type": "histogram2dcontour"
           }
          ],
          "mesh3d": [
           {
            "colorbar": {
             "outlinewidth": 0,
             "ticks": ""
            },
            "type": "mesh3d"
           }
          ],
          "parcoords": [
           {
            "line": {
             "colorbar": {
              "outlinewidth": 0,
              "ticks": ""
             }
            },
            "type": "parcoords"
           }
          ],
          "pie": [
           {
            "automargin": true,
            "type": "pie"
           }
          ],
          "scatter": [
           {
            "marker": {
             "colorbar": {
              "outlinewidth": 0,
              "ticks": ""
             }
            },
            "type": "scatter"
           }
          ],
          "scatter3d": [
           {
            "line": {
             "colorbar": {
              "outlinewidth": 0,
              "ticks": ""
             }
            },
            "marker": {
             "colorbar": {
              "outlinewidth": 0,
              "ticks": ""
             }
            },
            "type": "scatter3d"
           }
          ],
          "scattercarpet": [
           {
            "marker": {
             "colorbar": {
              "outlinewidth": 0,
              "ticks": ""
             }
            },
            "type": "scattercarpet"
           }
          ],
          "scattergeo": [
           {
            "marker": {
             "colorbar": {
              "outlinewidth": 0,
              "ticks": ""
             }
            },
            "type": "scattergeo"
           }
          ],
          "scattergl": [
           {
            "marker": {
             "colorbar": {
              "outlinewidth": 0,
              "ticks": ""
             }
            },
            "type": "scattergl"
           }
          ],
          "scattermapbox": [
           {
            "marker": {
             "colorbar": {
              "outlinewidth": 0,
              "ticks": ""
             }
            },
            "type": "scattermapbox"
           }
          ],
          "scatterpolar": [
           {
            "marker": {
             "colorbar": {
              "outlinewidth": 0,
              "ticks": ""
             }
            },
            "type": "scatterpolar"
           }
          ],
          "scatterpolargl": [
           {
            "marker": {
             "colorbar": {
              "outlinewidth": 0,
              "ticks": ""
             }
            },
            "type": "scatterpolargl"
           }
          ],
          "scatterternary": [
           {
            "marker": {
             "colorbar": {
              "outlinewidth": 0,
              "ticks": ""
             }
            },
            "type": "scatterternary"
           }
          ],
          "surface": [
           {
            "colorbar": {
             "outlinewidth": 0,
             "ticks": ""
            },
            "colorscale": [
             [
              0,
              "#0d0887"
             ],
             [
              0.1111111111111111,
              "#46039f"
             ],
             [
              0.2222222222222222,
              "#7201a8"
             ],
             [
              0.3333333333333333,
              "#9c179e"
             ],
             [
              0.4444444444444444,
              "#bd3786"
             ],
             [
              0.5555555555555556,
              "#d8576b"
             ],
             [
              0.6666666666666666,
              "#ed7953"
             ],
             [
              0.7777777777777778,
              "#fb9f3a"
             ],
             [
              0.8888888888888888,
              "#fdca26"
             ],
             [
              1,
              "#f0f921"
             ]
            ],
            "type": "surface"
           }
          ],
          "table": [
           {
            "cells": {
             "fill": {
              "color": "#EBF0F8"
             },
             "line": {
              "color": "white"
             }
            },
            "header": {
             "fill": {
              "color": "#C8D4E3"
             },
             "line": {
              "color": "white"
             }
            },
            "type": "table"
           }
          ]
         },
         "layout": {
          "annotationdefaults": {
           "arrowcolor": "#2a3f5f",
           "arrowhead": 0,
           "arrowwidth": 1
          },
          "autotypenumbers": "strict",
          "coloraxis": {
           "colorbar": {
            "outlinewidth": 0,
            "ticks": ""
           }
          },
          "colorscale": {
           "diverging": [
            [
             0,
             "#8e0152"
            ],
            [
             0.1,
             "#c51b7d"
            ],
            [
             0.2,
             "#de77ae"
            ],
            [
             0.3,
             "#f1b6da"
            ],
            [
             0.4,
             "#fde0ef"
            ],
            [
             0.5,
             "#f7f7f7"
            ],
            [
             0.6,
             "#e6f5d0"
            ],
            [
             0.7,
             "#b8e186"
            ],
            [
             0.8,
             "#7fbc41"
            ],
            [
             0.9,
             "#4d9221"
            ],
            [
             1,
             "#276419"
            ]
           ],
           "sequential": [
            [
             0,
             "#0d0887"
            ],
            [
             0.1111111111111111,
             "#46039f"
            ],
            [
             0.2222222222222222,
             "#7201a8"
            ],
            [
             0.3333333333333333,
             "#9c179e"
            ],
            [
             0.4444444444444444,
             "#bd3786"
            ],
            [
             0.5555555555555556,
             "#d8576b"
            ],
            [
             0.6666666666666666,
             "#ed7953"
            ],
            [
             0.7777777777777778,
             "#fb9f3a"
            ],
            [
             0.8888888888888888,
             "#fdca26"
            ],
            [
             1,
             "#f0f921"
            ]
           ],
           "sequentialminus": [
            [
             0,
             "#0d0887"
            ],
            [
             0.1111111111111111,
             "#46039f"
            ],
            [
             0.2222222222222222,
             "#7201a8"
            ],
            [
             0.3333333333333333,
             "#9c179e"
            ],
            [
             0.4444444444444444,
             "#bd3786"
            ],
            [
             0.5555555555555556,
             "#d8576b"
            ],
            [
             0.6666666666666666,
             "#ed7953"
            ],
            [
             0.7777777777777778,
             "#fb9f3a"
            ],
            [
             0.8888888888888888,
             "#fdca26"
            ],
            [
             1,
             "#f0f921"
            ]
           ]
          },
          "colorway": [
           "#636efa",
           "#EF553B",
           "#00cc96",
           "#ab63fa",
           "#FFA15A",
           "#19d3f3",
           "#FF6692",
           "#B6E880",
           "#FF97FF",
           "#FECB52"
          ],
          "font": {
           "color": "#2a3f5f"
          },
          "geo": {
           "bgcolor": "white",
           "lakecolor": "white",
           "landcolor": "#E5ECF6",
           "showlakes": true,
           "showland": true,
           "subunitcolor": "white"
          },
          "hoverlabel": {
           "align": "left"
          },
          "hovermode": "closest",
          "mapbox": {
           "style": "light"
          },
          "paper_bgcolor": "white",
          "plot_bgcolor": "#E5ECF6",
          "polar": {
           "angularaxis": {
            "gridcolor": "white",
            "linecolor": "white",
            "ticks": ""
           },
           "bgcolor": "#E5ECF6",
           "radialaxis": {
            "gridcolor": "white",
            "linecolor": "white",
            "ticks": ""
           }
          },
          "scene": {
           "xaxis": {
            "backgroundcolor": "#E5ECF6",
            "gridcolor": "white",
            "gridwidth": 2,
            "linecolor": "white",
            "showbackground": true,
            "ticks": "",
            "zerolinecolor": "white"
           },
           "yaxis": {
            "backgroundcolor": "#E5ECF6",
            "gridcolor": "white",
            "gridwidth": 2,
            "linecolor": "white",
            "showbackground": true,
            "ticks": "",
            "zerolinecolor": "white"
           },
           "zaxis": {
            "backgroundcolor": "#E5ECF6",
            "gridcolor": "white",
            "gridwidth": 2,
            "linecolor": "white",
            "showbackground": true,
            "ticks": "",
            "zerolinecolor": "white"
           }
          },
          "shapedefaults": {
           "line": {
            "color": "#2a3f5f"
           }
          },
          "ternary": {
           "aaxis": {
            "gridcolor": "white",
            "linecolor": "white",
            "ticks": ""
           },
           "baxis": {
            "gridcolor": "white",
            "linecolor": "white",
            "ticks": ""
           },
           "bgcolor": "#E5ECF6",
           "caxis": {
            "gridcolor": "white",
            "linecolor": "white",
            "ticks": ""
           }
          },
          "title": {
           "x": 0.05
          },
          "xaxis": {
           "automargin": true,
           "gridcolor": "white",
           "linecolor": "white",
           "ticks": "",
           "title": {
            "standoff": 15
           },
           "zerolinecolor": "white",
           "zerolinewidth": 2
          },
          "yaxis": {
           "automargin": true,
           "gridcolor": "white",
           "linecolor": "white",
           "ticks": "",
           "title": {
            "standoff": 15
           },
           "zerolinecolor": "white",
           "zerolinewidth": 2
          }
         }
        },
        "xaxis": {
         "anchor": "y",
         "domain": [
          0,
          1
         ],
         "title": {
          "text": "x"
         }
        },
        "yaxis": {
         "anchor": "x",
         "domain": [
          0,
          1
         ]
        }
       }
      },
      "text/html": [
       "<div>                            <div id=\"c2441153-44a5-4bd5-8c23-101de4fb6039\" class=\"plotly-graph-div\" style=\"height:525px; width:100%;\"></div>            <script type=\"text/javascript\">                require([\"plotly\"], function(Plotly) {                    window.PLOTLYENV=window.PLOTLYENV || {};                                    if (document.getElementById(\"c2441153-44a5-4bd5-8c23-101de4fb6039\")) {                    Plotly.newPlot(                        \"c2441153-44a5-4bd5-8c23-101de4fb6039\",                        [{\"alignmentgroup\":\"True\",\"hovertemplate\":\"x=%{x}<extra></extra>\",\"legendgroup\":\"\",\"marker\":{\"color\":\"#636efa\"},\"name\":\"\",\"notched\":false,\"offsetgroup\":\"\",\"orientation\":\"h\",\"showlegend\":false,\"type\":\"box\",\"x\":[9680.0,119120.0,64593.0,25000.0,23800.0,45000.0,19500.0,32000.0,44329.0,48286.0,24935.0,59758.0,40119.0,22625.0,16540.0,41280.0,97679.0,43000.0,14846.0,28771.0,33443.0,24000.0,44380.0,58000.0,69380.0,39500.0,74460.0,42442.0,65327.0,19768.0,2814.0,20100.0,52717.0,20100.0,46646.0,49000.0,32000.0,5550.0,48000.0,31000.0,61000.0,65000.0,49000.0,78000.0,82000.0,24000.0,6000.0,33000.0,107000.0,71000.0,94000.0,55000.0,79000.0,71000.0,65000.0,34000.0,80000.0,67000.0,27000.0,76000.0,11100.0,79915.0,67664.0,72000.0,33500.0,26700.0,45700.0,23500.0,14500.0,6517.0,22000.0,44000.0,22000.0,66000.0,48000.0,59000.0,127000.0,19500.0,29500.0,56500.0,85400.0,98602.0,28000.0,7500.0,33000.0,4500.0,65000.0,84500.0,55000.0,99000.0,25000.0,65000.0,71000.0,67000.0,48000.0,56500.0,127000.0,19500.0,29500.0,55000.0,61000.0,26000.0,25000.0,46000.0,59000.0,77000.0,60000.0,91000.0,14000.0,21000.0,12000.0,70000.0,39000.0,59000.0,108200.0,61000.0,52000.0,82000.0,56089.0,45095.0,12321.0,67894.0,44835.0,118363.0,98877.0,41298.0,57209.0,49390.0,30477.0,49000.0,19000.0,7500.0,54989.0,22388.0,46475.0,31913.0,55474.0,68051.0,44000.0,36500.0,3900.0,37000.0,42000.0,39500.0,32000.0,56452.0,22341.0,85000.0,58000.0,21212.0,68890.0,31000.0,49000.0,115140.0,74000.0,54500.0,77000.0,63700.0,64000.0,43000.0,9000.0,78000.0,31000.0,54000.0,65000.0,18000.0,53000.0,42000.0,7800.0,20000.0,27000.0,43000.0,37000.0,34000.0,38000.0,17000.0,34000.0,38000.0,65000.0,31000.0,20000.0,7800.0,9000.0,49000.0,10500.0,33000.0,47284.0,62618.0,4200.0,31414.0,24694.0,29708.0,40200.0,156334.0,32000.0,350.0,61649.0,28367.0,33997.0,47209.0,62812.0,52204.0,39295.0,54803.0,150116.0,48968.0,43494.0,41584.0,56839.0,34600.0,77082.0,52000.0,65000.0,84000.0,39535.0,39792.0,31552.0,37399.0,158359.0,22272.0,39700.0,30958.0,32202.0,65000.0,10000.0,2608.0,7500.0,34000.0,41000.0,195000.0,43100.0,17300.0,61700.0,68003.0,85000.0,98000.0,45000.0,33000.0,4000.0,54215.0,47000.0,19000.0,30000.0,88000.0,21000.0,40000.0,78500.0,11733.0,41931.0,14880.0,41606.0,16000.0,27300.0,18500.0,32000.0,56567.0,51000.0,790000.0,43000.0,83000.0,720000.0,45000.0,28000.0,55000.0,39000.0,20000.0,97000.0,18000.0,54000.0,88000.0,66000.0,57000.0,75000.0,13000.0,59700.0,57000.0,34000.0,68000.0,8000.0,32000.0,59000.0,18000.0,68000.0,53357.0,64000.0,38000.0,54000.0,51000.0,31000.0,85000.0,5500.0,69000.0,17000.0,72000.0,60000.0,30500.0,11000.0,41000.0,60956.0,30834.0,28000.0,39000.0,65000.0,69000.0,66000.0,48000.0,59000.0,33500.0,26700.0,45700.0,23500.0,14500.0,6517.0,22000.0,44000.0,22000.0,50000.0,4500.0,47201.0,18500.0,17453.0,67000.0,18854.0,32445.0,66000.0,14320.0,18500.0,12240.0,55000.0,67000.0,71000.0,17453.0,7823.0,8000.0,41606.0,50000.0,18854.0,66000.0,14320.0,40000.0,75000.0,10000.0,31000.0,14000.0,21000.0,17000.0,32000.0,31000.0,27000.0,9800.0,31000.0,27000.0,9800.0,30000.0,30000.0,12000.0,38000.0,4000.0,80000.0,14500.0,41000.0,43000.0,18000.0,2700.0,23000.0,13000.0,12000.0,17000.0,40000.0,32000.0,75000.0,10000.0,32000.0,75000.0,70000.0,54000.0,25000.0,90000.0,12000.0,7000.0,30000.0,9000.0,490.0,16000.0,14000.0,64000.0,14800.0,98500.0,55000.0,15500.0,115000.0,74000.0,54500.0,77000.0,63700.0,64000.0,43000.0,85000.0,6372.0,35000.0,38000.0,67800.0,67000.0,73009.0,60000.0,17000.0,25000.0,55000.0,38000.0,15000.0,65000.0,58000.0,38000.0,12000.0,27000.0,17000.0,78000.0,38200.0,9000.0,43000.0,7111.0,18000.0,43000.0,38200.0,56000.0,22500.0,75000.0,24000.0,57000.0,9000.0,15800.0,21963.0,49350.0,53500.0,16000.0,65000.0,24000.0,13000.0,71000.0,47000.0,34000.0,73000.0,70000.0,4000.0,58000.0,29000.0,18000.0,14880.0,45000.0,80000.0,4000.0,75000.0,13000.0,34000.0,50000.0,5800.0,47000.0,23000.0,52000.0,73000.0,70000.0,23000.0,48000.0,8000.0,45000.0,71000.0,50000.0,58000.0,29000.0,52000.0,31000.0,13000.0,50000.0,5800.0,47000.0,23000.0,52000.0,58000.0,29000.0,55000.0,37000.0,39000.0,61000.0,85000.0,51000.0,47000.0,67000.0,23000.0,52000.0,80000.0,72000.0,68000.0,25000.0,65349.0,55627.0,76890.0,61000.0,33905.0,26000.0,52255.0,72799.0,27805.0,33984.0,35876.0,26966.0,47057.0,53636.0,94055.0,18680.0,53636.0,39792.0,61307.0,53769.0,51016.0,30356.0,60997.0,94030.0,60559.0,68796.0,42876.0,28713.0,35855.0,36986.0,26605.0,50192.0,44862.0,74848.0,15133.0,40542.0,33905.0,55627.0,10860.0,52165.0,36412.0,55692.0,61252.0,31663.0,15440.0,10035.0,45654.0,13839.0,13123.0,41581.0,35421.0,44814.0,42811.0,45949.0,18760.0,74541.0,42811.0,45949.0,18760.0,45654.0,13839.0,63756.0,36321.0,70256.0,35153.0,8081.0,74541.0,41581.0,46160.0,22795.0,20894.0,75447.0,16067.0,59117.0,13123.0,68838.0,62006.0,70256.0,24301.0,44482.0,44482.0,14122.0,13065.0,22581.0,54806.0,149313.0,22586.0,5681.0,57800.0,57800.0,55000.0,55000.0,5697.0,13065.0,55000.0,22586.0,37411.0,35406.0,66078.0,47265.0,58671.0,66078.0,39780.0,85871.0,85871.0,37411.0,35406.0,66078.0,55946.0,55946.0,48987.0,40786.0,31000.0,61409.0,45082.0,103000.0,83378.0,17800.0,63900.0,41850.0,24743.0,66078.0,57362.0,64321.0,64321.0,47265.0,39780.0,64321.0,47265.0,39780.0,14510.0,85871.0,59540.0,54174.0,69304.0,47957.0,15593.0,79960.0,85000.0,37640.0,40977.0,18000.0,66000.0,70000.0,39000.0,3000.0,42305.0,24301.0,37422.0,18760.0,52616.0,45949.0,63708.0,45654.0,54807.0,61604.0,13839.0,21152.0,90818.0,63756.0,45949.0,41917.0,36321.0,22795.0,35153.0,74541.0,40198.0,35421.0,44814.0,42811.0,30264.0,8081.0,39640.0,18807.0,21992.0,53368.0,28131.0,54863.0,27952.0,13065.0,54806.0,44814.0,60596.0,22800.0,10100.0,70256.0,41581.0,81844.0,5681.0,14800.0,40198.0,74541.0,8081.0,75447.0,35043.0,18325.0,38473.0,54863.0,16950.0,29350.0,29350.0,16950.0,58790.0,18325.0,41581.0,70256.0,27952.0,43000.0,9131.0,57800.0,54806.0,2750.0,38000.0,60000.0,52000.0,61000.0,202000.0,87000.0,14000.0,48000.0,107000.0,16000.0,70000.0,160000.0,78000.0,20000.0,30000.0,30000.0,6000.0,60000.0,50000.0,63000.0,41000.0,49000.0,33000.0,56000.0,64382.0,121434.0,14448.0,33990.0,12200.0,83522.0,28131.0,10906.0,55705.0,14981.0,32279.0,93525.0,40904.0,209616.0,43294.0,89000.0,15250.0,20763.0,127000.0,36057.0,88630.0,42282.0,18178.0,32525.0,75441.0,34444.0,8862.0,83575.0,68479.0,88666.0,80809.0,67475.0,74595.0,72230.0,112038.0,116594.0,16023.0,57786.0,30000.0,5700.0,40000.0,78507.0,31757.0,89602.0,38530.0,47000.0,88000.0,93525.0,75375.0,68384.0,71750.0,73149.0,67528.0,64554.0,67000.0,33400.0,20763.0,35000.0,72000.0,125000.0,102000.0,73000.0,82000.0,45000.0,30000.0,51000.0,83000.0,72000.0,66000.0,129000.0,38000.0,131000.0,51000.0,88000.0,54000.0,46000.0,63000.0,23000.0,26000.0,101000.0,85000.0,6500.0,30000.0,45000.0,37914.0,73451.0,35000.0,19486.0,64654.0,51000.0,43000.0,23107.0,45000.0,68000.0,44900.0,68342.0,28000.0,65000.0,53000.0,29867.0,55000.0,71000.0,72000.0,110000.0,24500.0,55289.0,84640.0,31000.0,70000.0,22000.0,33024.0,36000.0,72995.0,68000.0,4100.0,166000.0,61000.0,20111.0,94000.0,78263.0,60628.0,39000.0,24250.0,69000.0,68000.0,34000.0,103000.0,135000.0,29000.0,41000.0,63000.0,75000.0,126000.0,85000.0,75000.0,70844.0,135934.0,11500.0,61786.0,95000.0,82000.0,85000.0,75000.0,98000.0,45000.0,82000.0,49000.0,72000.0,209616.0,120424.0,65650.0,80000.0,81000.0,77000.0,550000.0,126000.0,122833.0,46000.0,86000.0,98000.0,86000.0,136000.0,87000.0,24000.0,57000.0,6000.0,96000.0,57000.0,60000.0,67700.0,52000.0,31000.0,17774.0,21000.0,70000.0,46888.0,75000.0,77000.0,105000.0,33000.0,3700.0,92000.0,81000.0,82000.0,100568.0,100568.0,12208.0,80084.0,75893.0,71000.0,83000.0,82000.0,84000.0,85000.0,194000.0,99000.0,129804.0,72000.0,174000.0,65000.0,63000.0,57000.0,30100.0,24000.0,69000.0,100000.0,72000.0,88000.0,16000.0,65000.0,121580.0,93000.0,59000.0,87000.0,47600.0,82000.0,86000.0,27000.0,86000.0,144000.0,68000.0,67000.0,82000.0,91000.0,83000.0,85349.0,106000.0,13470.0,43000.0,1600.0,87000.0,71000.0,127000.0,160015.0,50781.0,41000.0,31000.0,56462.0,44150.0,20000.0,66000.0,68000.0,95000.0,54000.0,72000.0,115000.0,46816.0,94000.0,107000.0,80000.0,110000.0,115000.0,23906.0,76000.0,43000.0,142000.0,10000.0,8000.0,83000.0,100000.0,38000.0,76000.0,70500.0,60000.0,11505.0,7686.0,1664.0,69138.0,2762.0,4593.0,75000.0,107000.0,62000.0,63000.0,25000.0,40000.0,40000.0,10001.0,38000.0,14000.0,11000.0,29000.0,2000.0,24800.0,25000.0,46000.0,20000.0,25000.0,20000.0,8000.0,46000.0,10000.0,10000.0,24000.0,29000.0,24800.0,2000.0,20000.0,54000.0,72000.0,72000.0,5700.0,180000.0,40000.0,60000.0,40000.0,65000.0,80000.0,33000.0,11500.0,40000.0,33000.0,26000.0,11500.0,97000.0,120000.0,2000.0,74000.0,78000.0,57000.0,66000.0,50000.0,55000.0,55000.0,54000.0,53000.0,70000.0,86000.0,65000.0,56500.0,141900.0,44000.0,39500.0,70500.0,25000.0,70000.0,108000.0,56500.0,55000.0,141900.0,55000.0,80400.0,40500.0,39000.0,30900.0,58200.0,79900.0,15000.0,39900.0,66000.0,22000.0,80000.0,55000.0,24000.0,72000.0,19900.0,92900.0,89900.0,85000.0,19900.0,85000.0,83000.0,45000.0,52000.0,35000.0,79900.0,55000.0,50000.0,85000.0,43000.0,148000.0,39000.0,19900.0,51000.0,30980.0,72000.0,27000.0,18000.0,62000.0,175000.0,51000.0,40000.0,14000.0,51000.0,14000.0,41000.0,49000.0,69000.0,66000.0,32000.0,60000.0,48000.0,22000.0,63000.0,87500.0,9500.0,62000.0,81296.0,38000.0,40000.0,58000.0,120000.0,38000.0,64000.0,90000.0,84000.0,39000.0,73000.0,40000.0,65000.0,70000.0,29000.0,54000.0,7000.0,45000.0,74000.0,130000.0,68000.0,13000.0,64000.0,60000.0,44000.0,61000.0,112000.0,59000.0,90000.0,135000.0,40000.0,130000.0,62000.0,65000.0,34000.0,36000.0,4500.0,106000.0,40000.0,37000.0,32000.0,11100.0,49855.0,57700.0,24000.0,55000.0,65000.0,77000.0,63000.0,120000.0,49000.0,10001.0,16000.0,35000.0,29000.0,41000.0,3000.0,76000.0,20000.0,85000.0,65000.0,57000.0,24000.0,35000.0,29000.0,41000.0,16000.0,44000.0,41000.0,77000.0,63000.0,104000.0,112000.0,93000.0,30000.0,30000.0,16000.0,100000.0,42500.0,420000.0,48000.0,64000.0,100000.0,42500.0,82420.0,73000.0,15600.0,58600.0,58548.0,22261.0,28800.0,30000.0,43000.0,76000.0,65000.0,20000.0,36000.0,73000.0,12000.0,23000.0,16000.0,40000.0,82000.0,30000.0,17000.0,100000.0,83000.0,38000.0,40000.0,54000.0,55000.0,8000.0,18000.0,11505.0,7686.0,1664.0,69138.0,2762.0,4593.0,75000.0,107000.0,62000.0,63000.0,25000.0,40000.0,40000.0,10001.0,10000.0,38000.0,14000.0,11000.0,29000.0,2000.0,24800.0,25000.0,46000.0,20000.0,25000.0,20000.0,8000.0,46000.0,10000.0,10000.0,24000.0,29000.0,24800.0,2000.0,20000.0,54000.0,72000.0,72000.0,5700.0,180000.0,40000.0,60000.0,40000.0,65000.0,80000.0,33000.0,11500.0,40000.0,40000.0,11500.0,57000.0,74000.0,97000.0,120000.0,2000.0,57000.0,78000.0,25000.0,66000.0,54000.0,76000.0,13000.0,25000.0,66000.0,86000.0,39500.0,70500.0,44000.0,65000.0,50000.0,55000.0,53000.0,13000.0,76000.0,80400.0,30900.0,40500.0,39000.0,55000.0,58200.0,25000.0,108000.0,66000.0,55000.0,80000.0,39900.0,66000.0,15000.0,79900.0,22000.0,55000.0,45000.0,19900.0,4000.0,148000.0,18000.0,19900.0,85000.0,83000.0,45000.0,52000.0,35000.0,79900.0,55000.0,50000.0,85000.0,43000.0,148000.0,39000.0,19900.0,51000.0,30980.0,72000.0,27000.0,18000.0,62000.0,175000.0,51000.0,40000.0,14000.0,69000.0,51000.0,40000.0,62000.0,22000.0,9500.0,60000.0,63000.0,66000.0,81296.0,32000.0,87500.0,48000.0,14000.0,52000.0,38000.0,40000.0,58000.0,120000.0,38000.0,54000.0,64000.0,59000.0,90000.0,73000.0,40000.0,65000.0,70000.0,29000.0,54000.0,7000.0,45000.0,74000.0,130000.0,68000.0,13000.0,64000.0,60000.0,44000.0,61000.0,112000.0,59000.0,90000.0,135000.0,40000.0,130000.0,62000.0,65000.0,77000.0,106000.0,34000.0,57700.0,40000.0,65000.0,4500.0,36000.0,32000.0,65000.0,62000.0,49855.0,11100.0,37000.0,63000.0,120000.0,49000.0,10001.0,76000.0,190000.0,38000.0,3000.0,37000.0,17000.0,20000.0,85000.0,65000.0,57000.0,24000.0,35000.0,29000.0,41000.0,16000.0,44000.0,41000.0,77000.0,63000.0,104000.0,112000.0,93000.0,30000.0,30000.0,16000.0,100000.0,42500.0,420000.0,48000.0,64000.0,100000.0,42500.0,82420.0,73000.0,15600.0,58600.0,58548.0,22261.0,28800.0,30000.0,43000.0,76000.0,65000.0,20000.0,36000.0,73000.0,12000.0,23000.0,16000.0,40000.0,82000.0,30000.0,17000.0,71488.0,32228.0,11000.0,83508.0,40119.0,40614.0,30889.0,85200.0,10300.0,43712.0,75000.0,48000.0,71000.0,77000.0,72000.0,56000.0,20000.0,59908.0,60176.0,50262.0,93802.0,99499.0,23797.0,42000.0,55000.0,10000.0,31414.0,93000.0,29708.0,24694.0,9500.0,22838.0,16900.0,26000.0,78000.0,83000.0,52000.0,95000.0,70000.0,46000.0,8000.0,83000.0,79000.0,7700.0,83000.0,47000.0,19000.0,64000.0,67000.0,79000.0,70000.0,35000.0,18000.0,72000.0,97000.0,30889.0,95000.0,83000.0,81000.0,13000.0,24372.0,38660.0,53216.0,44463.0,51921.0,75732.0,98265.0,59105.0,81428.0,91000.0,81000.0,50000.0,61352.0,17500.0,20518.0,98000.0,104248.0,75000.0,72000.0,99350.0,99400.0,91000.0,102000.0,75000.0,32000.0,71000.0,71000.0,71000.0,100004.0,48000.0,82000.0,67000.0,98000.0,89000.0,99800.0,91000.0,55000.0,102000.0,72000.0,99000.0,57218.0,30000.0,55600.0,77000.0,61000.0,95000.0,13994.0,72000.0,55600.0,30000.0,77000.0,57218.0,79461.0,67000.0,76200.0,115000.0,76000.0,41000.0,508881.0,28696.0,107079.0,40409.0,58203.0,56948.0,145368.0,110369.0,17014.0,59509.0,31600.0,6800.0,32800.0,67000.0,79000.0,100000.0,89000.0,170306.0,11500.0,13500.0,87000.0,40119.0,108500.0,118000.0,70738.0,117136.0,55000.0,42000.0,47000.0,124000.0,81911.0,34308.0,56030.0,89869.0,74873.0,82169.0,62000.0,44500.0,45477.0,45588.0,56498.0,39877.0,29628.0,75000.0,87387.0,63000.0,83074.0,60484.0,74000.0,12000.0,58000.0,67000.0,38500.0,66563.0,700.0,39000.0,141000.0,142502.0,49997.0,11233.0,77000.0,700.0,66563.0,67000.0,58000.0,38500.0,132000.0,39000.0,12000.0,65000.0,72000.0,85200.0,30000.0,53000.0,37000.0,9000.0,75000.0,87387.0,103357.0,11000.0,81000.0,33000.0,81000.0,50000.0,10000.0,48405.0,52080.0,62665.0,49558.0,31632.0,61923.0,49899.0,49606.0,57770.0,68500.0,75106.0,55200.0,40614.0,12500.0,51985.0,60878.0,63000.0,67500.0,51000.0,102000.0,53347.0,60878.0,68500.0,42000.0,55200.0,12500.0,27000.0,28000.0,33000.0,38000.0,49000.0,24010.0,13000.0,90000.0,55000.0,55000.0,56011.0,49000.0,3681.0,38000.0,36000.0,142522.0,18581.0,31028.0],\"x0\":\" \",\"xaxis\":\"x\",\"y0\":\" \",\"yaxis\":\"y\"}],                        {\"boxmode\":\"group\",\"legend\":{\"tracegroupgap\":0},\"margin\":{\"t\":60},\"template\":{\"data\":{\"bar\":[{\"error_x\":{\"color\":\"#2a3f5f\"},\"error_y\":{\"color\":\"#2a3f5f\"},\"marker\":{\"line\":{\"color\":\"#E5ECF6\",\"width\":0.5},\"pattern\":{\"fillmode\":\"overlay\",\"size\":10,\"solidity\":0.2}},\"type\":\"bar\"}],\"barpolar\":[{\"marker\":{\"line\":{\"color\":\"#E5ECF6\",\"width\":0.5},\"pattern\":{\"fillmode\":\"overlay\",\"size\":10,\"solidity\":0.2}},\"type\":\"barpolar\"}],\"carpet\":[{\"aaxis\":{\"endlinecolor\":\"#2a3f5f\",\"gridcolor\":\"white\",\"linecolor\":\"white\",\"minorgridcolor\":\"white\",\"startlinecolor\":\"#2a3f5f\"},\"baxis\":{\"endlinecolor\":\"#2a3f5f\",\"gridcolor\":\"white\",\"linecolor\":\"white\",\"minorgridcolor\":\"white\",\"startlinecolor\":\"#2a3f5f\"},\"type\":\"carpet\"}],\"choropleth\":[{\"colorbar\":{\"outlinewidth\":0,\"ticks\":\"\"},\"type\":\"choropleth\"}],\"contour\":[{\"colorbar\":{\"outlinewidth\":0,\"ticks\":\"\"},\"colorscale\":[[0.0,\"#0d0887\"],[0.1111111111111111,\"#46039f\"],[0.2222222222222222,\"#7201a8\"],[0.3333333333333333,\"#9c179e\"],[0.4444444444444444,\"#bd3786\"],[0.5555555555555556,\"#d8576b\"],[0.6666666666666666,\"#ed7953\"],[0.7777777777777778,\"#fb9f3a\"],[0.8888888888888888,\"#fdca26\"],[1.0,\"#f0f921\"]],\"type\":\"contour\"}],\"contourcarpet\":[{\"colorbar\":{\"outlinewidth\":0,\"ticks\":\"\"},\"type\":\"contourcarpet\"}],\"heatmap\":[{\"colorbar\":{\"outlinewidth\":0,\"ticks\":\"\"},\"colorscale\":[[0.0,\"#0d0887\"],[0.1111111111111111,\"#46039f\"],[0.2222222222222222,\"#7201a8\"],[0.3333333333333333,\"#9c179e\"],[0.4444444444444444,\"#bd3786\"],[0.5555555555555556,\"#d8576b\"],[0.6666666666666666,\"#ed7953\"],[0.7777777777777778,\"#fb9f3a\"],[0.8888888888888888,\"#fdca26\"],[1.0,\"#f0f921\"]],\"type\":\"heatmap\"}],\"heatmapgl\":[{\"colorbar\":{\"outlinewidth\":0,\"ticks\":\"\"},\"colorscale\":[[0.0,\"#0d0887\"],[0.1111111111111111,\"#46039f\"],[0.2222222222222222,\"#7201a8\"],[0.3333333333333333,\"#9c179e\"],[0.4444444444444444,\"#bd3786\"],[0.5555555555555556,\"#d8576b\"],[0.6666666666666666,\"#ed7953\"],[0.7777777777777778,\"#fb9f3a\"],[0.8888888888888888,\"#fdca26\"],[1.0,\"#f0f921\"]],\"type\":\"heatmapgl\"}],\"histogram\":[{\"marker\":{\"pattern\":{\"fillmode\":\"overlay\",\"size\":10,\"solidity\":0.2}},\"type\":\"histogram\"}],\"histogram2d\":[{\"colorbar\":{\"outlinewidth\":0,\"ticks\":\"\"},\"colorscale\":[[0.0,\"#0d0887\"],[0.1111111111111111,\"#46039f\"],[0.2222222222222222,\"#7201a8\"],[0.3333333333333333,\"#9c179e\"],[0.4444444444444444,\"#bd3786\"],[0.5555555555555556,\"#d8576b\"],[0.6666666666666666,\"#ed7953\"],[0.7777777777777778,\"#fb9f3a\"],[0.8888888888888888,\"#fdca26\"],[1.0,\"#f0f921\"]],\"type\":\"histogram2d\"}],\"histogram2dcontour\":[{\"colorbar\":{\"outlinewidth\":0,\"ticks\":\"\"},\"colorscale\":[[0.0,\"#0d0887\"],[0.1111111111111111,\"#46039f\"],[0.2222222222222222,\"#7201a8\"],[0.3333333333333333,\"#9c179e\"],[0.4444444444444444,\"#bd3786\"],[0.5555555555555556,\"#d8576b\"],[0.6666666666666666,\"#ed7953\"],[0.7777777777777778,\"#fb9f3a\"],[0.8888888888888888,\"#fdca26\"],[1.0,\"#f0f921\"]],\"type\":\"histogram2dcontour\"}],\"mesh3d\":[{\"colorbar\":{\"outlinewidth\":0,\"ticks\":\"\"},\"type\":\"mesh3d\"}],\"parcoords\":[{\"line\":{\"colorbar\":{\"outlinewidth\":0,\"ticks\":\"\"}},\"type\":\"parcoords\"}],\"pie\":[{\"automargin\":true,\"type\":\"pie\"}],\"scatter\":[{\"marker\":{\"colorbar\":{\"outlinewidth\":0,\"ticks\":\"\"}},\"type\":\"scatter\"}],\"scatter3d\":[{\"line\":{\"colorbar\":{\"outlinewidth\":0,\"ticks\":\"\"}},\"marker\":{\"colorbar\":{\"outlinewidth\":0,\"ticks\":\"\"}},\"type\":\"scatter3d\"}],\"scattercarpet\":[{\"marker\":{\"colorbar\":{\"outlinewidth\":0,\"ticks\":\"\"}},\"type\":\"scattercarpet\"}],\"scattergeo\":[{\"marker\":{\"colorbar\":{\"outlinewidth\":0,\"ticks\":\"\"}},\"type\":\"scattergeo\"}],\"scattergl\":[{\"marker\":{\"colorbar\":{\"outlinewidth\":0,\"ticks\":\"\"}},\"type\":\"scattergl\"}],\"scattermapbox\":[{\"marker\":{\"colorbar\":{\"outlinewidth\":0,\"ticks\":\"\"}},\"type\":\"scattermapbox\"}],\"scatterpolar\":[{\"marker\":{\"colorbar\":{\"outlinewidth\":0,\"ticks\":\"\"}},\"type\":\"scatterpolar\"}],\"scatterpolargl\":[{\"marker\":{\"colorbar\":{\"outlinewidth\":0,\"ticks\":\"\"}},\"type\":\"scatterpolargl\"}],\"scatterternary\":[{\"marker\":{\"colorbar\":{\"outlinewidth\":0,\"ticks\":\"\"}},\"type\":\"scatterternary\"}],\"surface\":[{\"colorbar\":{\"outlinewidth\":0,\"ticks\":\"\"},\"colorscale\":[[0.0,\"#0d0887\"],[0.1111111111111111,\"#46039f\"],[0.2222222222222222,\"#7201a8\"],[0.3333333333333333,\"#9c179e\"],[0.4444444444444444,\"#bd3786\"],[0.5555555555555556,\"#d8576b\"],[0.6666666666666666,\"#ed7953\"],[0.7777777777777778,\"#fb9f3a\"],[0.8888888888888888,\"#fdca26\"],[1.0,\"#f0f921\"]],\"type\":\"surface\"}],\"table\":[{\"cells\":{\"fill\":{\"color\":\"#EBF0F8\"},\"line\":{\"color\":\"white\"}},\"header\":{\"fill\":{\"color\":\"#C8D4E3\"},\"line\":{\"color\":\"white\"}},\"type\":\"table\"}]},\"layout\":{\"annotationdefaults\":{\"arrowcolor\":\"#2a3f5f\",\"arrowhead\":0,\"arrowwidth\":1},\"autotypenumbers\":\"strict\",\"coloraxis\":{\"colorbar\":{\"outlinewidth\":0,\"ticks\":\"\"}},\"colorscale\":{\"diverging\":[[0,\"#8e0152\"],[0.1,\"#c51b7d\"],[0.2,\"#de77ae\"],[0.3,\"#f1b6da\"],[0.4,\"#fde0ef\"],[0.5,\"#f7f7f7\"],[0.6,\"#e6f5d0\"],[0.7,\"#b8e186\"],[0.8,\"#7fbc41\"],[0.9,\"#4d9221\"],[1,\"#276419\"]],\"sequential\":[[0.0,\"#0d0887\"],[0.1111111111111111,\"#46039f\"],[0.2222222222222222,\"#7201a8\"],[0.3333333333333333,\"#9c179e\"],[0.4444444444444444,\"#bd3786\"],[0.5555555555555556,\"#d8576b\"],[0.6666666666666666,\"#ed7953\"],[0.7777777777777778,\"#fb9f3a\"],[0.8888888888888888,\"#fdca26\"],[1.0,\"#f0f921\"]],\"sequentialminus\":[[0.0,\"#0d0887\"],[0.1111111111111111,\"#46039f\"],[0.2222222222222222,\"#7201a8\"],[0.3333333333333333,\"#9c179e\"],[0.4444444444444444,\"#bd3786\"],[0.5555555555555556,\"#d8576b\"],[0.6666666666666666,\"#ed7953\"],[0.7777777777777778,\"#fb9f3a\"],[0.8888888888888888,\"#fdca26\"],[1.0,\"#f0f921\"]]},\"colorway\":[\"#636efa\",\"#EF553B\",\"#00cc96\",\"#ab63fa\",\"#FFA15A\",\"#19d3f3\",\"#FF6692\",\"#B6E880\",\"#FF97FF\",\"#FECB52\"],\"font\":{\"color\":\"#2a3f5f\"},\"geo\":{\"bgcolor\":\"white\",\"lakecolor\":\"white\",\"landcolor\":\"#E5ECF6\",\"showlakes\":true,\"showland\":true,\"subunitcolor\":\"white\"},\"hoverlabel\":{\"align\":\"left\"},\"hovermode\":\"closest\",\"mapbox\":{\"style\":\"light\"},\"paper_bgcolor\":\"white\",\"plot_bgcolor\":\"#E5ECF6\",\"polar\":{\"angularaxis\":{\"gridcolor\":\"white\",\"linecolor\":\"white\",\"ticks\":\"\"},\"bgcolor\":\"#E5ECF6\",\"radialaxis\":{\"gridcolor\":\"white\",\"linecolor\":\"white\",\"ticks\":\"\"}},\"scene\":{\"xaxis\":{\"backgroundcolor\":\"#E5ECF6\",\"gridcolor\":\"white\",\"gridwidth\":2,\"linecolor\":\"white\",\"showbackground\":true,\"ticks\":\"\",\"zerolinecolor\":\"white\"},\"yaxis\":{\"backgroundcolor\":\"#E5ECF6\",\"gridcolor\":\"white\",\"gridwidth\":2,\"linecolor\":\"white\",\"showbackground\":true,\"ticks\":\"\",\"zerolinecolor\":\"white\"},\"zaxis\":{\"backgroundcolor\":\"#E5ECF6\",\"gridcolor\":\"white\",\"gridwidth\":2,\"linecolor\":\"white\",\"showbackground\":true,\"ticks\":\"\",\"zerolinecolor\":\"white\"}},\"shapedefaults\":{\"line\":{\"color\":\"#2a3f5f\"}},\"ternary\":{\"aaxis\":{\"gridcolor\":\"white\",\"linecolor\":\"white\",\"ticks\":\"\"},\"baxis\":{\"gridcolor\":\"white\",\"linecolor\":\"white\",\"ticks\":\"\"},\"bgcolor\":\"#E5ECF6\",\"caxis\":{\"gridcolor\":\"white\",\"linecolor\":\"white\",\"ticks\":\"\"}},\"title\":{\"x\":0.05},\"xaxis\":{\"automargin\":true,\"gridcolor\":\"white\",\"linecolor\":\"white\",\"ticks\":\"\",\"title\":{\"standoff\":15},\"zerolinecolor\":\"white\",\"zerolinewidth\":2},\"yaxis\":{\"automargin\":true,\"gridcolor\":\"white\",\"linecolor\":\"white\",\"ticks\":\"\",\"title\":{\"standoff\":15},\"zerolinecolor\":\"white\",\"zerolinewidth\":2}}},\"xaxis\":{\"anchor\":\"y\",\"domain\":[0.0,1.0],\"title\":{\"text\":\"x\"}},\"yaxis\":{\"anchor\":\"x\",\"domain\":[0.0,1.0]}},                        {\"responsive\": true}                    ).then(function(){\n",
       "                            \n",
       "var gd = document.getElementById('c2441153-44a5-4bd5-8c23-101de4fb6039');\n",
       "var x = new MutationObserver(function (mutations, observer) {{\n",
       "        var display = window.getComputedStyle(gd).display;\n",
       "        if (!display || display === 'none') {{\n",
       "            console.log([gd, 'removed!']);\n",
       "            Plotly.purge(gd);\n",
       "            observer.disconnect();\n",
       "        }}\n",
       "}});\n",
       "\n",
       "// Listen for the removal of the full notebook cells\n",
       "var notebookContainer = gd.closest('#notebook-container');\n",
       "if (notebookContainer) {{\n",
       "    x.observe(notebookContainer, {childList: true});\n",
       "}}\n",
       "\n",
       "// Listen for the clearing of the current output cell\n",
       "var outputEl = gd.closest('.output');\n",
       "if (outputEl) {{\n",
       "    x.observe(outputEl, {childList: true});\n",
       "}}\n",
       "\n",
       "                        })                };                });            </script>        </div>"
      ]
     },
     "metadata": {},
     "output_type": "display_data"
    }
   ],
   "source": [
    "fig = px.box(x = df['distance_travelled(kms)'])\n",
    "fig.show()"
   ]
  },
  {
   "cell_type": "code",
   "execution_count": 123,
   "id": "6c45dc29",
   "metadata": {},
   "outputs": [],
   "source": [
    "# According to sources cars clocking below 30k kms is a good car"
   ]
  },
  {
   "cell_type": "code",
   "execution_count": 124,
   "id": "9009cd7e",
   "metadata": {},
   "outputs": [],
   "source": [
    "thresh_kms = 30000"
   ]
  },
  {
   "cell_type": "code",
   "execution_count": 125,
   "id": "51ced981",
   "metadata": {},
   "outputs": [],
   "source": [
    "temp = []"
   ]
  },
  {
   "cell_type": "code",
   "execution_count": 126,
   "id": "518b0655",
   "metadata": {},
   "outputs": [],
   "source": [
    "for i in df['distance_travelled(kms)']:\n",
    "    if(i<=thresh_kms):\n",
    "        temp.append(int(1))\n",
    "    else:\n",
    "        temp.append(int(0))"
   ]
  },
  {
   "cell_type": "code",
   "execution_count": 127,
   "id": "6f9a1d44",
   "metadata": {},
   "outputs": [],
   "source": [
    "df['distance below 30k km'] = temp"
   ]
  },
  {
   "cell_type": "code",
   "execution_count": 128,
   "id": "1bdcf6c5",
   "metadata": {},
   "outputs": [
    {
     "data": {
      "text/html": [
       "<div>\n",
       "<style scoped>\n",
       "    .dataframe tbody tr th:only-of-type {\n",
       "        vertical-align: middle;\n",
       "    }\n",
       "\n",
       "    .dataframe tbody tr th {\n",
       "        vertical-align: top;\n",
       "    }\n",
       "\n",
       "    .dataframe thead th {\n",
       "        text-align: right;\n",
       "    }\n",
       "</style>\n",
       "<table border=\"1\" class=\"dataframe\">\n",
       "  <thead>\n",
       "    <tr style=\"text-align: right;\">\n",
       "      <th></th>\n",
       "      <th>Id</th>\n",
       "      <th>year</th>\n",
       "      <th>brand</th>\n",
       "      <th>full_model_name</th>\n",
       "      <th>model_name</th>\n",
       "      <th>price</th>\n",
       "      <th>distance_travelled(kms)</th>\n",
       "      <th>fuel_type</th>\n",
       "      <th>city</th>\n",
       "      <th>brand_rank</th>\n",
       "      <th>car_age</th>\n",
       "      <th>distance below 30k km</th>\n",
       "    </tr>\n",
       "  </thead>\n",
       "  <tbody>\n",
       "    <tr>\n",
       "      <th>0</th>\n",
       "      <td>0</td>\n",
       "      <td>2016</td>\n",
       "      <td>Honda</td>\n",
       "      <td>Honda Brio S MT</td>\n",
       "      <td>Brio</td>\n",
       "      <td>425000.0</td>\n",
       "      <td>9680.0</td>\n",
       "      <td>Petrol</td>\n",
       "      <td>Mumbai</td>\n",
       "      <td>7</td>\n",
       "      <td>5.0</td>\n",
       "      <td>1</td>\n",
       "    </tr>\n",
       "    <tr>\n",
       "      <th>1</th>\n",
       "      <td>1</td>\n",
       "      <td>2012</td>\n",
       "      <td>Nissan</td>\n",
       "      <td>Nissan Sunny XV Diesel</td>\n",
       "      <td>Sunny</td>\n",
       "      <td>325000.0</td>\n",
       "      <td>119120.0</td>\n",
       "      <td>Diesel</td>\n",
       "      <td>Mumbai</td>\n",
       "      <td>11</td>\n",
       "      <td>9.0</td>\n",
       "      <td>0</td>\n",
       "    </tr>\n",
       "    <tr>\n",
       "      <th>2</th>\n",
       "      <td>2</td>\n",
       "      <td>2017</td>\n",
       "      <td>Toyota</td>\n",
       "      <td>Toyota Fortuner 2.8 4x2 MT [2016-2020]</td>\n",
       "      <td>Fortuner</td>\n",
       "      <td>2650000.0</td>\n",
       "      <td>64593.0</td>\n",
       "      <td>Diesel</td>\n",
       "      <td>Thane</td>\n",
       "      <td>1</td>\n",
       "      <td>4.0</td>\n",
       "      <td>0</td>\n",
       "    </tr>\n",
       "    <tr>\n",
       "      <th>3</th>\n",
       "      <td>3</td>\n",
       "      <td>2017</td>\n",
       "      <td>Mercedes-Benz</td>\n",
       "      <td>Mercedes-Benz E-Class E 220d Expression [2019-...</td>\n",
       "      <td>E-Class</td>\n",
       "      <td>4195000.0</td>\n",
       "      <td>25000.0</td>\n",
       "      <td>Diesel</td>\n",
       "      <td>Mumbai</td>\n",
       "      <td>2</td>\n",
       "      <td>4.0</td>\n",
       "      <td>1</td>\n",
       "    </tr>\n",
       "    <tr>\n",
       "      <th>4</th>\n",
       "      <td>4</td>\n",
       "      <td>2012</td>\n",
       "      <td>Hyundai</td>\n",
       "      <td>Hyundai Verna Fluidic 1.6 CRDi SX</td>\n",
       "      <td>Verna</td>\n",
       "      <td>475000.0</td>\n",
       "      <td>23800.0</td>\n",
       "      <td>Diesel</td>\n",
       "      <td>Mumbai</td>\n",
       "      <td>14</td>\n",
       "      <td>9.0</td>\n",
       "      <td>1</td>\n",
       "    </tr>\n",
       "  </tbody>\n",
       "</table>\n",
       "</div>"
      ],
      "text/plain": [
       "   Id  year          brand                                    full_model_name  \\\n",
       "0   0  2016          Honda                                    Honda Brio S MT   \n",
       "1   1  2012         Nissan                             Nissan Sunny XV Diesel   \n",
       "2   2  2017         Toyota             Toyota Fortuner 2.8 4x2 MT [2016-2020]   \n",
       "3   3  2017  Mercedes-Benz  Mercedes-Benz E-Class E 220d Expression [2019-...   \n",
       "4   4  2012        Hyundai                  Hyundai Verna Fluidic 1.6 CRDi SX   \n",
       "\n",
       "  model_name      price  distance_travelled(kms) fuel_type    city  \\\n",
       "0       Brio   425000.0                   9680.0    Petrol  Mumbai   \n",
       "1      Sunny   325000.0                 119120.0    Diesel  Mumbai   \n",
       "2   Fortuner  2650000.0                  64593.0    Diesel   Thane   \n",
       "3    E-Class  4195000.0                  25000.0    Diesel  Mumbai   \n",
       "4      Verna   475000.0                  23800.0    Diesel  Mumbai   \n",
       "\n",
       "   brand_rank  car_age  distance below 30k km  \n",
       "0           7      5.0                      1  \n",
       "1          11      9.0                      0  \n",
       "2           1      4.0                      0  \n",
       "3           2      4.0                      1  \n",
       "4          14      9.0                      1  "
      ]
     },
     "execution_count": 128,
     "metadata": {},
     "output_type": "execute_result"
    }
   ],
   "source": [
    "df.head()"
   ]
  },
  {
   "cell_type": "markdown",
   "id": "528825e3",
   "metadata": {},
   "source": [
    "# Getting New And Less Used Cars"
   ]
  },
  {
   "cell_type": "code",
   "execution_count": 129,
   "id": "ff84810c",
   "metadata": {},
   "outputs": [],
   "source": [
    "temp = []"
   ]
  },
  {
   "cell_type": "code",
   "execution_count": 130,
   "id": "81626394",
   "metadata": {},
   "outputs": [],
   "source": [
    "for i in range(0,1725,1):\n",
    "    if((df['car_age'][i]<=4) and (df['distance below 30k km'][i] == 1)):\n",
    "        temp.append(int(1))\n",
    "    else:\n",
    "        temp.append(int(0))"
   ]
  },
  {
   "cell_type": "code",
   "execution_count": 131,
   "id": "c737e757",
   "metadata": {},
   "outputs": [],
   "source": [
    "df['new and less used'] = temp"
   ]
  },
  {
   "cell_type": "code",
   "execution_count": 132,
   "id": "76be54aa",
   "metadata": {},
   "outputs": [
    {
     "data": {
      "text/html": [
       "<div>\n",
       "<style scoped>\n",
       "    .dataframe tbody tr th:only-of-type {\n",
       "        vertical-align: middle;\n",
       "    }\n",
       "\n",
       "    .dataframe tbody tr th {\n",
       "        vertical-align: top;\n",
       "    }\n",
       "\n",
       "    .dataframe thead th {\n",
       "        text-align: right;\n",
       "    }\n",
       "</style>\n",
       "<table border=\"1\" class=\"dataframe\">\n",
       "  <thead>\n",
       "    <tr style=\"text-align: right;\">\n",
       "      <th></th>\n",
       "      <th>Id</th>\n",
       "      <th>year</th>\n",
       "      <th>brand</th>\n",
       "      <th>full_model_name</th>\n",
       "      <th>model_name</th>\n",
       "      <th>price</th>\n",
       "      <th>distance_travelled(kms)</th>\n",
       "      <th>fuel_type</th>\n",
       "      <th>city</th>\n",
       "      <th>brand_rank</th>\n",
       "      <th>car_age</th>\n",
       "      <th>distance below 30k km</th>\n",
       "      <th>new and less used</th>\n",
       "    </tr>\n",
       "  </thead>\n",
       "  <tbody>\n",
       "    <tr>\n",
       "      <th>0</th>\n",
       "      <td>0</td>\n",
       "      <td>2016</td>\n",
       "      <td>Honda</td>\n",
       "      <td>Honda Brio S MT</td>\n",
       "      <td>Brio</td>\n",
       "      <td>425000.0</td>\n",
       "      <td>9680.0</td>\n",
       "      <td>Petrol</td>\n",
       "      <td>Mumbai</td>\n",
       "      <td>7</td>\n",
       "      <td>5.0</td>\n",
       "      <td>1</td>\n",
       "      <td>0</td>\n",
       "    </tr>\n",
       "    <tr>\n",
       "      <th>1</th>\n",
       "      <td>1</td>\n",
       "      <td>2012</td>\n",
       "      <td>Nissan</td>\n",
       "      <td>Nissan Sunny XV Diesel</td>\n",
       "      <td>Sunny</td>\n",
       "      <td>325000.0</td>\n",
       "      <td>119120.0</td>\n",
       "      <td>Diesel</td>\n",
       "      <td>Mumbai</td>\n",
       "      <td>11</td>\n",
       "      <td>9.0</td>\n",
       "      <td>0</td>\n",
       "      <td>0</td>\n",
       "    </tr>\n",
       "    <tr>\n",
       "      <th>2</th>\n",
       "      <td>2</td>\n",
       "      <td>2017</td>\n",
       "      <td>Toyota</td>\n",
       "      <td>Toyota Fortuner 2.8 4x2 MT [2016-2020]</td>\n",
       "      <td>Fortuner</td>\n",
       "      <td>2650000.0</td>\n",
       "      <td>64593.0</td>\n",
       "      <td>Diesel</td>\n",
       "      <td>Thane</td>\n",
       "      <td>1</td>\n",
       "      <td>4.0</td>\n",
       "      <td>0</td>\n",
       "      <td>0</td>\n",
       "    </tr>\n",
       "    <tr>\n",
       "      <th>3</th>\n",
       "      <td>3</td>\n",
       "      <td>2017</td>\n",
       "      <td>Mercedes-Benz</td>\n",
       "      <td>Mercedes-Benz E-Class E 220d Expression [2019-...</td>\n",
       "      <td>E-Class</td>\n",
       "      <td>4195000.0</td>\n",
       "      <td>25000.0</td>\n",
       "      <td>Diesel</td>\n",
       "      <td>Mumbai</td>\n",
       "      <td>2</td>\n",
       "      <td>4.0</td>\n",
       "      <td>1</td>\n",
       "      <td>1</td>\n",
       "    </tr>\n",
       "    <tr>\n",
       "      <th>4</th>\n",
       "      <td>4</td>\n",
       "      <td>2012</td>\n",
       "      <td>Hyundai</td>\n",
       "      <td>Hyundai Verna Fluidic 1.6 CRDi SX</td>\n",
       "      <td>Verna</td>\n",
       "      <td>475000.0</td>\n",
       "      <td>23800.0</td>\n",
       "      <td>Diesel</td>\n",
       "      <td>Mumbai</td>\n",
       "      <td>14</td>\n",
       "      <td>9.0</td>\n",
       "      <td>1</td>\n",
       "      <td>0</td>\n",
       "    </tr>\n",
       "  </tbody>\n",
       "</table>\n",
       "</div>"
      ],
      "text/plain": [
       "   Id  year          brand                                    full_model_name  \\\n",
       "0   0  2016          Honda                                    Honda Brio S MT   \n",
       "1   1  2012         Nissan                             Nissan Sunny XV Diesel   \n",
       "2   2  2017         Toyota             Toyota Fortuner 2.8 4x2 MT [2016-2020]   \n",
       "3   3  2017  Mercedes-Benz  Mercedes-Benz E-Class E 220d Expression [2019-...   \n",
       "4   4  2012        Hyundai                  Hyundai Verna Fluidic 1.6 CRDi SX   \n",
       "\n",
       "  model_name      price  distance_travelled(kms) fuel_type    city  \\\n",
       "0       Brio   425000.0                   9680.0    Petrol  Mumbai   \n",
       "1      Sunny   325000.0                 119120.0    Diesel  Mumbai   \n",
       "2   Fortuner  2650000.0                  64593.0    Diesel   Thane   \n",
       "3    E-Class  4195000.0                  25000.0    Diesel  Mumbai   \n",
       "4      Verna   475000.0                  23800.0    Diesel  Mumbai   \n",
       "\n",
       "   brand_rank  car_age  distance below 30k km  new and less used  \n",
       "0           7      5.0                      1                  0  \n",
       "1          11      9.0                      0                  0  \n",
       "2           1      4.0                      0                  0  \n",
       "3           2      4.0                      1                  1  \n",
       "4          14      9.0                      1                  0  "
      ]
     },
     "execution_count": 132,
     "metadata": {},
     "output_type": "execute_result"
    }
   ],
   "source": [
    "df.head()"
   ]
  },
  {
   "cell_type": "markdown",
   "id": "af7da75e",
   "metadata": {},
   "source": [
    "# Inverting price, distance, car_age and brand"
   ]
  },
  {
   "cell_type": "code",
   "execution_count": 133,
   "id": "a1a7a958",
   "metadata": {},
   "outputs": [],
   "source": [
    "df['inv_car_price'] = 1/df['price']\n",
    "df['inv_car_dist'] = 1/df['distance_travelled(kms)']\n",
    "df['inv_car_age'] = 1/df['car_age']\n",
    "df['inv_brand'] = 1/df['brand_rank']"
   ]
  },
  {
   "cell_type": "code",
   "execution_count": 134,
   "id": "be61035f",
   "metadata": {},
   "outputs": [
    {
     "data": {
      "text/html": [
       "<div>\n",
       "<style scoped>\n",
       "    .dataframe tbody tr th:only-of-type {\n",
       "        vertical-align: middle;\n",
       "    }\n",
       "\n",
       "    .dataframe tbody tr th {\n",
       "        vertical-align: top;\n",
       "    }\n",
       "\n",
       "    .dataframe thead th {\n",
       "        text-align: right;\n",
       "    }\n",
       "</style>\n",
       "<table border=\"1\" class=\"dataframe\">\n",
       "  <thead>\n",
       "    <tr style=\"text-align: right;\">\n",
       "      <th></th>\n",
       "      <th>Id</th>\n",
       "      <th>year</th>\n",
       "      <th>brand</th>\n",
       "      <th>full_model_name</th>\n",
       "      <th>model_name</th>\n",
       "      <th>price</th>\n",
       "      <th>distance_travelled(kms)</th>\n",
       "      <th>fuel_type</th>\n",
       "      <th>city</th>\n",
       "      <th>brand_rank</th>\n",
       "      <th>car_age</th>\n",
       "      <th>distance below 30k km</th>\n",
       "      <th>new and less used</th>\n",
       "      <th>inv_car_price</th>\n",
       "      <th>inv_car_dist</th>\n",
       "      <th>inv_car_age</th>\n",
       "      <th>inv_brand</th>\n",
       "    </tr>\n",
       "  </thead>\n",
       "  <tbody>\n",
       "    <tr>\n",
       "      <th>0</th>\n",
       "      <td>0</td>\n",
       "      <td>2016</td>\n",
       "      <td>Honda</td>\n",
       "      <td>Honda Brio S MT</td>\n",
       "      <td>Brio</td>\n",
       "      <td>425000.0</td>\n",
       "      <td>9680.0</td>\n",
       "      <td>Petrol</td>\n",
       "      <td>Mumbai</td>\n",
       "      <td>7</td>\n",
       "      <td>5.0</td>\n",
       "      <td>1</td>\n",
       "      <td>0</td>\n",
       "      <td>2.352941e-06</td>\n",
       "      <td>0.000103</td>\n",
       "      <td>0.200000</td>\n",
       "      <td>0.142857</td>\n",
       "    </tr>\n",
       "    <tr>\n",
       "      <th>1</th>\n",
       "      <td>1</td>\n",
       "      <td>2012</td>\n",
       "      <td>Nissan</td>\n",
       "      <td>Nissan Sunny XV Diesel</td>\n",
       "      <td>Sunny</td>\n",
       "      <td>325000.0</td>\n",
       "      <td>119120.0</td>\n",
       "      <td>Diesel</td>\n",
       "      <td>Mumbai</td>\n",
       "      <td>11</td>\n",
       "      <td>9.0</td>\n",
       "      <td>0</td>\n",
       "      <td>0</td>\n",
       "      <td>3.076923e-06</td>\n",
       "      <td>0.000008</td>\n",
       "      <td>0.111111</td>\n",
       "      <td>0.090909</td>\n",
       "    </tr>\n",
       "    <tr>\n",
       "      <th>2</th>\n",
       "      <td>2</td>\n",
       "      <td>2017</td>\n",
       "      <td>Toyota</td>\n",
       "      <td>Toyota Fortuner 2.8 4x2 MT [2016-2020]</td>\n",
       "      <td>Fortuner</td>\n",
       "      <td>2650000.0</td>\n",
       "      <td>64593.0</td>\n",
       "      <td>Diesel</td>\n",
       "      <td>Thane</td>\n",
       "      <td>1</td>\n",
       "      <td>4.0</td>\n",
       "      <td>0</td>\n",
       "      <td>0</td>\n",
       "      <td>3.773585e-07</td>\n",
       "      <td>0.000015</td>\n",
       "      <td>0.250000</td>\n",
       "      <td>1.000000</td>\n",
       "    </tr>\n",
       "    <tr>\n",
       "      <th>3</th>\n",
       "      <td>3</td>\n",
       "      <td>2017</td>\n",
       "      <td>Mercedes-Benz</td>\n",
       "      <td>Mercedes-Benz E-Class E 220d Expression [2019-...</td>\n",
       "      <td>E-Class</td>\n",
       "      <td>4195000.0</td>\n",
       "      <td>25000.0</td>\n",
       "      <td>Diesel</td>\n",
       "      <td>Mumbai</td>\n",
       "      <td>2</td>\n",
       "      <td>4.0</td>\n",
       "      <td>1</td>\n",
       "      <td>1</td>\n",
       "      <td>2.383790e-07</td>\n",
       "      <td>0.000040</td>\n",
       "      <td>0.250000</td>\n",
       "      <td>0.500000</td>\n",
       "    </tr>\n",
       "    <tr>\n",
       "      <th>4</th>\n",
       "      <td>4</td>\n",
       "      <td>2012</td>\n",
       "      <td>Hyundai</td>\n",
       "      <td>Hyundai Verna Fluidic 1.6 CRDi SX</td>\n",
       "      <td>Verna</td>\n",
       "      <td>475000.0</td>\n",
       "      <td>23800.0</td>\n",
       "      <td>Diesel</td>\n",
       "      <td>Mumbai</td>\n",
       "      <td>14</td>\n",
       "      <td>9.0</td>\n",
       "      <td>1</td>\n",
       "      <td>0</td>\n",
       "      <td>2.105263e-06</td>\n",
       "      <td>0.000042</td>\n",
       "      <td>0.111111</td>\n",
       "      <td>0.071429</td>\n",
       "    </tr>\n",
       "  </tbody>\n",
       "</table>\n",
       "</div>"
      ],
      "text/plain": [
       "   Id  year          brand                                    full_model_name  \\\n",
       "0   0  2016          Honda                                    Honda Brio S MT   \n",
       "1   1  2012         Nissan                             Nissan Sunny XV Diesel   \n",
       "2   2  2017         Toyota             Toyota Fortuner 2.8 4x2 MT [2016-2020]   \n",
       "3   3  2017  Mercedes-Benz  Mercedes-Benz E-Class E 220d Expression [2019-...   \n",
       "4   4  2012        Hyundai                  Hyundai Verna Fluidic 1.6 CRDi SX   \n",
       "\n",
       "  model_name      price  distance_travelled(kms) fuel_type    city  \\\n",
       "0       Brio   425000.0                   9680.0    Petrol  Mumbai   \n",
       "1      Sunny   325000.0                 119120.0    Diesel  Mumbai   \n",
       "2   Fortuner  2650000.0                  64593.0    Diesel   Thane   \n",
       "3    E-Class  4195000.0                  25000.0    Diesel  Mumbai   \n",
       "4      Verna   475000.0                  23800.0    Diesel  Mumbai   \n",
       "\n",
       "   brand_rank  car_age  distance below 30k km  new and less used  \\\n",
       "0           7      5.0                      1                  0   \n",
       "1          11      9.0                      0                  0   \n",
       "2           1      4.0                      0                  0   \n",
       "3           2      4.0                      1                  1   \n",
       "4          14      9.0                      1                  0   \n",
       "\n",
       "   inv_car_price  inv_car_dist  inv_car_age  inv_brand  \n",
       "0   2.352941e-06      0.000103     0.200000   0.142857  \n",
       "1   3.076923e-06      0.000008     0.111111   0.090909  \n",
       "2   3.773585e-07      0.000015     0.250000   1.000000  \n",
       "3   2.383790e-07      0.000040     0.250000   0.500000  \n",
       "4   2.105263e-06      0.000042     0.111111   0.071429  "
      ]
     },
     "execution_count": 134,
     "metadata": {},
     "output_type": "execute_result"
    }
   ],
   "source": [
    "df.head()"
   ]
  },
  {
   "cell_type": "markdown",
   "id": "46324bd7",
   "metadata": {},
   "source": [
    "# Standardising inv_price and inv_dist"
   ]
  },
  {
   "cell_type": "code",
   "execution_count": 135,
   "id": "e490d8bb",
   "metadata": {},
   "outputs": [],
   "source": [
    "max_price = df['inv_car_price'].max()\n",
    "min_price = df['inv_car_price'].min()\n",
    "price_range = max_price - min_price"
   ]
  },
  {
   "cell_type": "code",
   "execution_count": 136,
   "id": "9814f0c4",
   "metadata": {},
   "outputs": [],
   "source": [
    "temp = []"
   ]
  },
  {
   "cell_type": "code",
   "execution_count": 137,
   "id": "b38c62d9",
   "metadata": {},
   "outputs": [],
   "source": [
    "for i in df['inv_car_price']:\n",
    "    temp.append((i-min_price)/price_range)"
   ]
  },
  {
   "cell_type": "code",
   "execution_count": 138,
   "id": "2c3150c1",
   "metadata": {},
   "outputs": [],
   "source": [
    "df['std_invprice'] = temp"
   ]
  },
  {
   "cell_type": "code",
   "execution_count": 139,
   "id": "c533b04d",
   "metadata": {},
   "outputs": [],
   "source": [
    "max_dist = df['inv_car_dist'].max()\n",
    "min_dist = df['inv_car_dist'].min()\n",
    "dist_range = max_dist - min_dist"
   ]
  },
  {
   "cell_type": "code",
   "execution_count": 140,
   "id": "5c3cf576",
   "metadata": {},
   "outputs": [],
   "source": [
    "temp = []"
   ]
  },
  {
   "cell_type": "code",
   "execution_count": 141,
   "id": "194667a4",
   "metadata": {},
   "outputs": [],
   "source": [
    "for i in df['inv_car_dist']:\n",
    "    temp.append((i-min_dist)/dist_range)"
   ]
  },
  {
   "cell_type": "code",
   "execution_count": 142,
   "id": "cf3509f5",
   "metadata": {},
   "outputs": [],
   "source": [
    "df['std_invdistance_travelled'] = temp"
   ]
  },
  {
   "cell_type": "markdown",
   "id": "8e53c34b",
   "metadata": {},
   "source": [
    "# Standardising car_ranks"
   ]
  },
  {
   "cell_type": "code",
   "execution_count": 143,
   "id": "68571c2d",
   "metadata": {},
   "outputs": [],
   "source": [
    "temp = []"
   ]
  },
  {
   "cell_type": "code",
   "execution_count": 144,
   "id": "273066d5",
   "metadata": {},
   "outputs": [],
   "source": [
    "max_br = df['inv_brand'].max()\n",
    "min_br = df['inv_brand'].min()\n",
    "br_range = max_br-min_br"
   ]
  },
  {
   "cell_type": "code",
   "execution_count": 145,
   "id": "06ed9185",
   "metadata": {},
   "outputs": [],
   "source": [
    "for i in df['inv_brand']:\n",
    "    temp.append((i-min_br)/br_range)"
   ]
  },
  {
   "cell_type": "code",
   "execution_count": 146,
   "id": "11300c28",
   "metadata": {},
   "outputs": [],
   "source": [
    "df['std_invrank'] = temp"
   ]
  },
  {
   "cell_type": "markdown",
   "id": "35408476",
   "metadata": {},
   "source": [
    "# Reviewing New Features In Dataset"
   ]
  },
  {
   "cell_type": "code",
   "execution_count": 147,
   "id": "af47ea40",
   "metadata": {},
   "outputs": [
    {
     "data": {
      "text/html": [
       "<div>\n",
       "<style scoped>\n",
       "    .dataframe tbody tr th:only-of-type {\n",
       "        vertical-align: middle;\n",
       "    }\n",
       "\n",
       "    .dataframe tbody tr th {\n",
       "        vertical-align: top;\n",
       "    }\n",
       "\n",
       "    .dataframe thead th {\n",
       "        text-align: right;\n",
       "    }\n",
       "</style>\n",
       "<table border=\"1\" class=\"dataframe\">\n",
       "  <thead>\n",
       "    <tr style=\"text-align: right;\">\n",
       "      <th></th>\n",
       "      <th>Id</th>\n",
       "      <th>year</th>\n",
       "      <th>brand</th>\n",
       "      <th>full_model_name</th>\n",
       "      <th>model_name</th>\n",
       "      <th>price</th>\n",
       "      <th>distance_travelled(kms)</th>\n",
       "      <th>fuel_type</th>\n",
       "      <th>city</th>\n",
       "      <th>brand_rank</th>\n",
       "      <th>car_age</th>\n",
       "      <th>distance below 30k km</th>\n",
       "      <th>new and less used</th>\n",
       "      <th>inv_car_price</th>\n",
       "      <th>inv_car_dist</th>\n",
       "      <th>inv_car_age</th>\n",
       "      <th>inv_brand</th>\n",
       "      <th>std_invprice</th>\n",
       "      <th>std_invdistance_travelled</th>\n",
       "      <th>std_invrank</th>\n",
       "    </tr>\n",
       "  </thead>\n",
       "  <tbody>\n",
       "    <tr>\n",
       "      <th>0</th>\n",
       "      <td>0</td>\n",
       "      <td>2016</td>\n",
       "      <td>Honda</td>\n",
       "      <td>Honda Brio S MT</td>\n",
       "      <td>Brio</td>\n",
       "      <td>425000.0</td>\n",
       "      <td>9680.0</td>\n",
       "      <td>Petrol</td>\n",
       "      <td>Mumbai</td>\n",
       "      <td>7</td>\n",
       "      <td>5.0</td>\n",
       "      <td>1</td>\n",
       "      <td>0</td>\n",
       "      <td>2.352941e-06</td>\n",
       "      <td>0.000103</td>\n",
       "      <td>0.200000</td>\n",
       "      <td>0.142857</td>\n",
       "      <td>0.143417</td>\n",
       "      <td>0.035730</td>\n",
       "      <td>0.132143</td>\n",
       "    </tr>\n",
       "    <tr>\n",
       "      <th>1</th>\n",
       "      <td>1</td>\n",
       "      <td>2012</td>\n",
       "      <td>Nissan</td>\n",
       "      <td>Nissan Sunny XV Diesel</td>\n",
       "      <td>Sunny</td>\n",
       "      <td>325000.0</td>\n",
       "      <td>119120.0</td>\n",
       "      <td>Diesel</td>\n",
       "      <td>Mumbai</td>\n",
       "      <td>11</td>\n",
       "      <td>9.0</td>\n",
       "      <td>0</td>\n",
       "      <td>0</td>\n",
       "      <td>3.076923e-06</td>\n",
       "      <td>0.000008</td>\n",
       "      <td>0.111111</td>\n",
       "      <td>0.090909</td>\n",
       "      <td>0.188859</td>\n",
       "      <td>0.002496</td>\n",
       "      <td>0.079545</td>\n",
       "    </tr>\n",
       "    <tr>\n",
       "      <th>2</th>\n",
       "      <td>2</td>\n",
       "      <td>2017</td>\n",
       "      <td>Toyota</td>\n",
       "      <td>Toyota Fortuner 2.8 4x2 MT [2016-2020]</td>\n",
       "      <td>Fortuner</td>\n",
       "      <td>2650000.0</td>\n",
       "      <td>64593.0</td>\n",
       "      <td>Diesel</td>\n",
       "      <td>Thane</td>\n",
       "      <td>1</td>\n",
       "      <td>4.0</td>\n",
       "      <td>0</td>\n",
       "      <td>0</td>\n",
       "      <td>3.773585e-07</td>\n",
       "      <td>0.000015</td>\n",
       "      <td>0.250000</td>\n",
       "      <td>1.000000</td>\n",
       "      <td>0.019416</td>\n",
       "      <td>0.004978</td>\n",
       "      <td>1.000000</td>\n",
       "    </tr>\n",
       "    <tr>\n",
       "      <th>3</th>\n",
       "      <td>3</td>\n",
       "      <td>2017</td>\n",
       "      <td>Mercedes-Benz</td>\n",
       "      <td>Mercedes-Benz E-Class E 220d Expression [2019-...</td>\n",
       "      <td>E-Class</td>\n",
       "      <td>4195000.0</td>\n",
       "      <td>25000.0</td>\n",
       "      <td>Diesel</td>\n",
       "      <td>Mumbai</td>\n",
       "      <td>2</td>\n",
       "      <td>4.0</td>\n",
       "      <td>1</td>\n",
       "      <td>1</td>\n",
       "      <td>2.383790e-07</td>\n",
       "      <td>0.000040</td>\n",
       "      <td>0.250000</td>\n",
       "      <td>0.500000</td>\n",
       "      <td>0.010692</td>\n",
       "      <td>0.013563</td>\n",
       "      <td>0.493750</td>\n",
       "    </tr>\n",
       "    <tr>\n",
       "      <th>4</th>\n",
       "      <td>4</td>\n",
       "      <td>2012</td>\n",
       "      <td>Hyundai</td>\n",
       "      <td>Hyundai Verna Fluidic 1.6 CRDi SX</td>\n",
       "      <td>Verna</td>\n",
       "      <td>475000.0</td>\n",
       "      <td>23800.0</td>\n",
       "      <td>Diesel</td>\n",
       "      <td>Mumbai</td>\n",
       "      <td>14</td>\n",
       "      <td>9.0</td>\n",
       "      <td>1</td>\n",
       "      <td>0</td>\n",
       "      <td>2.105263e-06</td>\n",
       "      <td>0.000042</td>\n",
       "      <td>0.111111</td>\n",
       "      <td>0.071429</td>\n",
       "      <td>0.127871</td>\n",
       "      <td>0.014269</td>\n",
       "      <td>0.059821</td>\n",
       "    </tr>\n",
       "    <tr>\n",
       "      <th>5</th>\n",
       "      <td>5</td>\n",
       "      <td>2012</td>\n",
       "      <td>Hyundai</td>\n",
       "      <td>Hyundai i20 Sportz 1.2 BS-IV</td>\n",
       "      <td>i20</td>\n",
       "      <td>335000.0</td>\n",
       "      <td>45000.0</td>\n",
       "      <td>Petrol</td>\n",
       "      <td>Mumbai</td>\n",
       "      <td>14</td>\n",
       "      <td>9.0</td>\n",
       "      <td>0</td>\n",
       "      <td>0</td>\n",
       "      <td>2.985075e-06</td>\n",
       "      <td>0.000022</td>\n",
       "      <td>0.111111</td>\n",
       "      <td>0.071429</td>\n",
       "      <td>0.183094</td>\n",
       "      <td>0.007338</td>\n",
       "      <td>0.059821</td>\n",
       "    </tr>\n",
       "    <tr>\n",
       "      <th>6</th>\n",
       "      <td>6</td>\n",
       "      <td>2019</td>\n",
       "      <td>Toyota</td>\n",
       "      <td>Toyota Glanza V</td>\n",
       "      <td>Glanza</td>\n",
       "      <td>750000.0</td>\n",
       "      <td>19500.0</td>\n",
       "      <td>Petrol</td>\n",
       "      <td>Mumbai</td>\n",
       "      <td>1</td>\n",
       "      <td>2.0</td>\n",
       "      <td>1</td>\n",
       "      <td>1</td>\n",
       "      <td>1.333333e-06</td>\n",
       "      <td>0.000051</td>\n",
       "      <td>0.500000</td>\n",
       "      <td>1.000000</td>\n",
       "      <td>0.079419</td>\n",
       "      <td>0.017513</td>\n",
       "      <td>1.000000</td>\n",
       "    </tr>\n",
       "    <tr>\n",
       "      <th>7</th>\n",
       "      <td>7</td>\n",
       "      <td>2018</td>\n",
       "      <td>Mercedes-Benz</td>\n",
       "      <td>Mercedes-Benz GLE 250 d</td>\n",
       "      <td>GLE</td>\n",
       "      <td>5500000.0</td>\n",
       "      <td>32000.0</td>\n",
       "      <td>Diesel</td>\n",
       "      <td>Mumbai</td>\n",
       "      <td>2</td>\n",
       "      <td>3.0</td>\n",
       "      <td>0</td>\n",
       "      <td>0</td>\n",
       "      <td>1.818182e-07</td>\n",
       "      <td>0.000031</td>\n",
       "      <td>0.333333</td>\n",
       "      <td>0.500000</td>\n",
       "      <td>0.007142</td>\n",
       "      <td>0.010499</td>\n",
       "      <td>0.493750</td>\n",
       "    </tr>\n",
       "    <tr>\n",
       "      <th>8</th>\n",
       "      <td>8</td>\n",
       "      <td>2017</td>\n",
       "      <td>Hyundai</td>\n",
       "      <td>Hyundai Grand i10 Sportz (O) AT 1.2 Kappa VTVT...</td>\n",
       "      <td>Grand</td>\n",
       "      <td>565000.0</td>\n",
       "      <td>44329.0</td>\n",
       "      <td>Petrol</td>\n",
       "      <td>Mumbai</td>\n",
       "      <td>14</td>\n",
       "      <td>4.0</td>\n",
       "      <td>0</td>\n",
       "      <td>0</td>\n",
       "      <td>1.769912e-06</td>\n",
       "      <td>0.000023</td>\n",
       "      <td>0.250000</td>\n",
       "      <td>0.071429</td>\n",
       "      <td>0.106822</td>\n",
       "      <td>0.007456</td>\n",
       "      <td>0.059821</td>\n",
       "    </tr>\n",
       "    <tr>\n",
       "      <th>9</th>\n",
       "      <td>9</td>\n",
       "      <td>2015</td>\n",
       "      <td>Maruti Suzuki</td>\n",
       "      <td>Maruti Suzuki Swift Dzire ZXI</td>\n",
       "      <td>Swift</td>\n",
       "      <td>510000.0</td>\n",
       "      <td>48286.0</td>\n",
       "      <td>Petrol</td>\n",
       "      <td>Mumbai</td>\n",
       "      <td>32</td>\n",
       "      <td>6.0</td>\n",
       "      <td>0</td>\n",
       "      <td>0</td>\n",
       "      <td>1.960784e-06</td>\n",
       "      <td>0.000021</td>\n",
       "      <td>0.166667</td>\n",
       "      <td>0.031250</td>\n",
       "      <td>0.118802</td>\n",
       "      <td>0.006808</td>\n",
       "      <td>0.019141</td>\n",
       "    </tr>\n",
       "  </tbody>\n",
       "</table>\n",
       "</div>"
      ],
      "text/plain": [
       "   Id  year          brand                                    full_model_name  \\\n",
       "0   0  2016          Honda                                    Honda Brio S MT   \n",
       "1   1  2012         Nissan                             Nissan Sunny XV Diesel   \n",
       "2   2  2017         Toyota             Toyota Fortuner 2.8 4x2 MT [2016-2020]   \n",
       "3   3  2017  Mercedes-Benz  Mercedes-Benz E-Class E 220d Expression [2019-...   \n",
       "4   4  2012        Hyundai                  Hyundai Verna Fluidic 1.6 CRDi SX   \n",
       "5   5  2012        Hyundai                       Hyundai i20 Sportz 1.2 BS-IV   \n",
       "6   6  2019         Toyota                                    Toyota Glanza V   \n",
       "7   7  2018  Mercedes-Benz                            Mercedes-Benz GLE 250 d   \n",
       "8   8  2017        Hyundai  Hyundai Grand i10 Sportz (O) AT 1.2 Kappa VTVT...   \n",
       "9   9  2015  Maruti Suzuki                      Maruti Suzuki Swift Dzire ZXI   \n",
       "\n",
       "  model_name      price  distance_travelled(kms) fuel_type    city  \\\n",
       "0       Brio   425000.0                   9680.0    Petrol  Mumbai   \n",
       "1      Sunny   325000.0                 119120.0    Diesel  Mumbai   \n",
       "2   Fortuner  2650000.0                  64593.0    Diesel   Thane   \n",
       "3    E-Class  4195000.0                  25000.0    Diesel  Mumbai   \n",
       "4      Verna   475000.0                  23800.0    Diesel  Mumbai   \n",
       "5        i20   335000.0                  45000.0    Petrol  Mumbai   \n",
       "6     Glanza   750000.0                  19500.0    Petrol  Mumbai   \n",
       "7        GLE  5500000.0                  32000.0    Diesel  Mumbai   \n",
       "8      Grand   565000.0                  44329.0    Petrol  Mumbai   \n",
       "9      Swift   510000.0                  48286.0    Petrol  Mumbai   \n",
       "\n",
       "   brand_rank  car_age  distance below 30k km  new and less used  \\\n",
       "0           7      5.0                      1                  0   \n",
       "1          11      9.0                      0                  0   \n",
       "2           1      4.0                      0                  0   \n",
       "3           2      4.0                      1                  1   \n",
       "4          14      9.0                      1                  0   \n",
       "5          14      9.0                      0                  0   \n",
       "6           1      2.0                      1                  1   \n",
       "7           2      3.0                      0                  0   \n",
       "8          14      4.0                      0                  0   \n",
       "9          32      6.0                      0                  0   \n",
       "\n",
       "   inv_car_price  inv_car_dist  inv_car_age  inv_brand  std_invprice  \\\n",
       "0   2.352941e-06      0.000103     0.200000   0.142857      0.143417   \n",
       "1   3.076923e-06      0.000008     0.111111   0.090909      0.188859   \n",
       "2   3.773585e-07      0.000015     0.250000   1.000000      0.019416   \n",
       "3   2.383790e-07      0.000040     0.250000   0.500000      0.010692   \n",
       "4   2.105263e-06      0.000042     0.111111   0.071429      0.127871   \n",
       "5   2.985075e-06      0.000022     0.111111   0.071429      0.183094   \n",
       "6   1.333333e-06      0.000051     0.500000   1.000000      0.079419   \n",
       "7   1.818182e-07      0.000031     0.333333   0.500000      0.007142   \n",
       "8   1.769912e-06      0.000023     0.250000   0.071429      0.106822   \n",
       "9   1.960784e-06      0.000021     0.166667   0.031250      0.118802   \n",
       "\n",
       "   std_invdistance_travelled  std_invrank  \n",
       "0                   0.035730     0.132143  \n",
       "1                   0.002496     0.079545  \n",
       "2                   0.004978     1.000000  \n",
       "3                   0.013563     0.493750  \n",
       "4                   0.014269     0.059821  \n",
       "5                   0.007338     0.059821  \n",
       "6                   0.017513     1.000000  \n",
       "7                   0.010499     0.493750  \n",
       "8                   0.007456     0.059821  \n",
       "9                   0.006808     0.019141  "
      ]
     },
     "execution_count": 147,
     "metadata": {},
     "output_type": "execute_result"
    }
   ],
   "source": [
    "df.head(10)"
   ]
  },
  {
   "cell_type": "markdown",
   "id": "bcb182d2",
   "metadata": {},
   "source": [
    "# Best Buy"
   ]
  },
  {
   "cell_type": "markdown",
   "id": "3b3ab8cd",
   "metadata": {},
   "source": [
    "\n",
    "\n",
    "    Best buy will be defined by std_price * std_distance_travelled * std_rank *100000\n",
    "    \n",
    "    It will get their product and the car with the lowest will be  good buy  =  best_buy1\n",
    "    \n",
    "    To further differntiate the data, the cars having newandlessused 1 will be segregated   =   best_buy2\n",
    "    \n"
   ]
  },
  {
   "cell_type": "code",
   "execution_count": 148,
   "id": "494a6384",
   "metadata": {},
   "outputs": [],
   "source": [
    "df['best_buy1'] = df['std_invprice'] * df['std_invrank'] *df['std_invdistance_travelled']*1000000"
   ]
  },
  {
   "cell_type": "code",
   "execution_count": 149,
   "id": "37a79247",
   "metadata": {},
   "outputs": [
    {
     "data": {
      "text/html": [
       "<div>\n",
       "<style scoped>\n",
       "    .dataframe tbody tr th:only-of-type {\n",
       "        vertical-align: middle;\n",
       "    }\n",
       "\n",
       "    .dataframe tbody tr th {\n",
       "        vertical-align: top;\n",
       "    }\n",
       "\n",
       "    .dataframe thead th {\n",
       "        text-align: right;\n",
       "    }\n",
       "</style>\n",
       "<table border=\"1\" class=\"dataframe\">\n",
       "  <thead>\n",
       "    <tr style=\"text-align: right;\">\n",
       "      <th></th>\n",
       "      <th>Id</th>\n",
       "      <th>year</th>\n",
       "      <th>brand</th>\n",
       "      <th>full_model_name</th>\n",
       "      <th>model_name</th>\n",
       "      <th>price</th>\n",
       "      <th>distance_travelled(kms)</th>\n",
       "      <th>fuel_type</th>\n",
       "      <th>city</th>\n",
       "      <th>brand_rank</th>\n",
       "      <th>...</th>\n",
       "      <th>distance below 30k km</th>\n",
       "      <th>new and less used</th>\n",
       "      <th>inv_car_price</th>\n",
       "      <th>inv_car_dist</th>\n",
       "      <th>inv_car_age</th>\n",
       "      <th>inv_brand</th>\n",
       "      <th>std_invprice</th>\n",
       "      <th>std_invdistance_travelled</th>\n",
       "      <th>std_invrank</th>\n",
       "      <th>best_buy1</th>\n",
       "    </tr>\n",
       "  </thead>\n",
       "  <tbody>\n",
       "    <tr>\n",
       "      <th>0</th>\n",
       "      <td>0</td>\n",
       "      <td>2016</td>\n",
       "      <td>Honda</td>\n",
       "      <td>Honda Brio S MT</td>\n",
       "      <td>Brio</td>\n",
       "      <td>425000.0</td>\n",
       "      <td>9680.0</td>\n",
       "      <td>Petrol</td>\n",
       "      <td>Mumbai</td>\n",
       "      <td>7</td>\n",
       "      <td>...</td>\n",
       "      <td>1</td>\n",
       "      <td>0</td>\n",
       "      <td>2.352941e-06</td>\n",
       "      <td>0.000103</td>\n",
       "      <td>0.200000</td>\n",
       "      <td>0.142857</td>\n",
       "      <td>0.143417</td>\n",
       "      <td>0.035730</td>\n",
       "      <td>0.132143</td>\n",
       "      <td>677.134239</td>\n",
       "    </tr>\n",
       "    <tr>\n",
       "      <th>1</th>\n",
       "      <td>1</td>\n",
       "      <td>2012</td>\n",
       "      <td>Nissan</td>\n",
       "      <td>Nissan Sunny XV Diesel</td>\n",
       "      <td>Sunny</td>\n",
       "      <td>325000.0</td>\n",
       "      <td>119120.0</td>\n",
       "      <td>Diesel</td>\n",
       "      <td>Mumbai</td>\n",
       "      <td>11</td>\n",
       "      <td>...</td>\n",
       "      <td>0</td>\n",
       "      <td>0</td>\n",
       "      <td>3.076923e-06</td>\n",
       "      <td>0.000008</td>\n",
       "      <td>0.111111</td>\n",
       "      <td>0.090909</td>\n",
       "      <td>0.188859</td>\n",
       "      <td>0.002496</td>\n",
       "      <td>0.079545</td>\n",
       "      <td>37.501318</td>\n",
       "    </tr>\n",
       "    <tr>\n",
       "      <th>2</th>\n",
       "      <td>2</td>\n",
       "      <td>2017</td>\n",
       "      <td>Toyota</td>\n",
       "      <td>Toyota Fortuner 2.8 4x2 MT [2016-2020]</td>\n",
       "      <td>Fortuner</td>\n",
       "      <td>2650000.0</td>\n",
       "      <td>64593.0</td>\n",
       "      <td>Diesel</td>\n",
       "      <td>Thane</td>\n",
       "      <td>1</td>\n",
       "      <td>...</td>\n",
       "      <td>0</td>\n",
       "      <td>0</td>\n",
       "      <td>3.773585e-07</td>\n",
       "      <td>0.000015</td>\n",
       "      <td>0.250000</td>\n",
       "      <td>1.000000</td>\n",
       "      <td>0.019416</td>\n",
       "      <td>0.004978</td>\n",
       "      <td>1.000000</td>\n",
       "      <td>96.646020</td>\n",
       "    </tr>\n",
       "    <tr>\n",
       "      <th>3</th>\n",
       "      <td>3</td>\n",
       "      <td>2017</td>\n",
       "      <td>Mercedes-Benz</td>\n",
       "      <td>Mercedes-Benz E-Class E 220d Expression [2019-...</td>\n",
       "      <td>E-Class</td>\n",
       "      <td>4195000.0</td>\n",
       "      <td>25000.0</td>\n",
       "      <td>Diesel</td>\n",
       "      <td>Mumbai</td>\n",
       "      <td>2</td>\n",
       "      <td>...</td>\n",
       "      <td>1</td>\n",
       "      <td>1</td>\n",
       "      <td>2.383790e-07</td>\n",
       "      <td>0.000040</td>\n",
       "      <td>0.250000</td>\n",
       "      <td>0.500000</td>\n",
       "      <td>0.010692</td>\n",
       "      <td>0.013563</td>\n",
       "      <td>0.493750</td>\n",
       "      <td>71.604306</td>\n",
       "    </tr>\n",
       "    <tr>\n",
       "      <th>4</th>\n",
       "      <td>4</td>\n",
       "      <td>2012</td>\n",
       "      <td>Hyundai</td>\n",
       "      <td>Hyundai Verna Fluidic 1.6 CRDi SX</td>\n",
       "      <td>Verna</td>\n",
       "      <td>475000.0</td>\n",
       "      <td>23800.0</td>\n",
       "      <td>Diesel</td>\n",
       "      <td>Mumbai</td>\n",
       "      <td>14</td>\n",
       "      <td>...</td>\n",
       "      <td>1</td>\n",
       "      <td>0</td>\n",
       "      <td>2.105263e-06</td>\n",
       "      <td>0.000042</td>\n",
       "      <td>0.111111</td>\n",
       "      <td>0.071429</td>\n",
       "      <td>0.127871</td>\n",
       "      <td>0.014269</td>\n",
       "      <td>0.059821</td>\n",
       "      <td>109.150857</td>\n",
       "    </tr>\n",
       "  </tbody>\n",
       "</table>\n",
       "<p>5 rows × 21 columns</p>\n",
       "</div>"
      ],
      "text/plain": [
       "   Id  year          brand                                    full_model_name  \\\n",
       "0   0  2016          Honda                                    Honda Brio S MT   \n",
       "1   1  2012         Nissan                             Nissan Sunny XV Diesel   \n",
       "2   2  2017         Toyota             Toyota Fortuner 2.8 4x2 MT [2016-2020]   \n",
       "3   3  2017  Mercedes-Benz  Mercedes-Benz E-Class E 220d Expression [2019-...   \n",
       "4   4  2012        Hyundai                  Hyundai Verna Fluidic 1.6 CRDi SX   \n",
       "\n",
       "  model_name      price  distance_travelled(kms) fuel_type    city  \\\n",
       "0       Brio   425000.0                   9680.0    Petrol  Mumbai   \n",
       "1      Sunny   325000.0                 119120.0    Diesel  Mumbai   \n",
       "2   Fortuner  2650000.0                  64593.0    Diesel   Thane   \n",
       "3    E-Class  4195000.0                  25000.0    Diesel  Mumbai   \n",
       "4      Verna   475000.0                  23800.0    Diesel  Mumbai   \n",
       "\n",
       "   brand_rank  ...  distance below 30k km  new and less used  inv_car_price  \\\n",
       "0           7  ...                      1                  0   2.352941e-06   \n",
       "1          11  ...                      0                  0   3.076923e-06   \n",
       "2           1  ...                      0                  0   3.773585e-07   \n",
       "3           2  ...                      1                  1   2.383790e-07   \n",
       "4          14  ...                      1                  0   2.105263e-06   \n",
       "\n",
       "   inv_car_dist  inv_car_age  inv_brand  std_invprice  \\\n",
       "0      0.000103     0.200000   0.142857      0.143417   \n",
       "1      0.000008     0.111111   0.090909      0.188859   \n",
       "2      0.000015     0.250000   1.000000      0.019416   \n",
       "3      0.000040     0.250000   0.500000      0.010692   \n",
       "4      0.000042     0.111111   0.071429      0.127871   \n",
       "\n",
       "   std_invdistance_travelled  std_invrank   best_buy1  \n",
       "0                   0.035730     0.132143  677.134239  \n",
       "1                   0.002496     0.079545   37.501318  \n",
       "2                   0.004978     1.000000   96.646020  \n",
       "3                   0.013563     0.493750   71.604306  \n",
       "4                   0.014269     0.059821  109.150857  \n",
       "\n",
       "[5 rows x 21 columns]"
      ]
     },
     "execution_count": 149,
     "metadata": {},
     "output_type": "execute_result"
    }
   ],
   "source": [
    "df.head()"
   ]
  },
  {
   "cell_type": "markdown",
   "id": "f9936344",
   "metadata": {},
   "source": [
    "\n",
    "    for best_buy1 the values higher the better is the value for money in regards to price, distance and rank"
   ]
  },
  {
   "cell_type": "code",
   "execution_count": 150,
   "id": "49adc87f",
   "metadata": {
    "scrolled": true
   },
   "outputs": [
    {
     "data": {
      "text/html": [
       "<div>\n",
       "<style scoped>\n",
       "    .dataframe tbody tr th:only-of-type {\n",
       "        vertical-align: middle;\n",
       "    }\n",
       "\n",
       "    .dataframe tbody tr th {\n",
       "        vertical-align: top;\n",
       "    }\n",
       "\n",
       "    .dataframe thead th {\n",
       "        text-align: right;\n",
       "    }\n",
       "</style>\n",
       "<table border=\"1\" class=\"dataframe\">\n",
       "  <thead>\n",
       "    <tr style=\"text-align: right;\">\n",
       "      <th></th>\n",
       "      <th>Id</th>\n",
       "      <th>year</th>\n",
       "      <th>brand</th>\n",
       "      <th>full_model_name</th>\n",
       "      <th>model_name</th>\n",
       "      <th>price</th>\n",
       "      <th>distance_travelled(kms)</th>\n",
       "      <th>fuel_type</th>\n",
       "      <th>city</th>\n",
       "      <th>brand_rank</th>\n",
       "      <th>...</th>\n",
       "      <th>distance below 30k km</th>\n",
       "      <th>new and less used</th>\n",
       "      <th>inv_car_price</th>\n",
       "      <th>inv_car_dist</th>\n",
       "      <th>inv_car_age</th>\n",
       "      <th>inv_brand</th>\n",
       "      <th>std_invprice</th>\n",
       "      <th>std_invdistance_travelled</th>\n",
       "      <th>std_invrank</th>\n",
       "      <th>best_buy1</th>\n",
       "    </tr>\n",
       "  </thead>\n",
       "  <tbody>\n",
       "    <tr>\n",
       "      <th>257</th>\n",
       "      <td>257</td>\n",
       "      <td>2015</td>\n",
       "      <td>Toyota</td>\n",
       "      <td>Toyota Innova 2.5 G BS IV 7 STR</td>\n",
       "      <td>Innova</td>\n",
       "      <td>925000.0</td>\n",
       "      <td>790000.0</td>\n",
       "      <td>Diesel</td>\n",
       "      <td>Delhi</td>\n",
       "      <td>1</td>\n",
       "      <td>...</td>\n",
       "      <td>0</td>\n",
       "      <td>0</td>\n",
       "      <td>1.081081e-06</td>\n",
       "      <td>0.000001</td>\n",
       "      <td>0.166667</td>\n",
       "      <td>1.000000</td>\n",
       "      <td>0.063586</td>\n",
       "      <td>0.000000</td>\n",
       "      <td>1.00000</td>\n",
       "      <td>0.0</td>\n",
       "    </tr>\n",
       "    <tr>\n",
       "      <th>317</th>\n",
       "      <td>317</td>\n",
       "      <td>2020</td>\n",
       "      <td>MG</td>\n",
       "      <td>MG Hector Plus Sharp 1.5 DCT Petrol</td>\n",
       "      <td>Hector</td>\n",
       "      <td>1950000.0</td>\n",
       "      <td>4500.0</td>\n",
       "      <td>Petrol</td>\n",
       "      <td>Delhi</td>\n",
       "      <td>81</td>\n",
       "      <td>...</td>\n",
       "      <td>1</td>\n",
       "      <td>1</td>\n",
       "      <td>5.128205e-07</td>\n",
       "      <td>0.000222</td>\n",
       "      <td>1.000000</td>\n",
       "      <td>0.012346</td>\n",
       "      <td>0.027918</td>\n",
       "      <td>0.077369</td>\n",
       "      <td>0.00000</td>\n",
       "      <td>0.0</td>\n",
       "    </tr>\n",
       "    <tr>\n",
       "      <th>376</th>\n",
       "      <td>376</td>\n",
       "      <td>2018</td>\n",
       "      <td>Land Rover</td>\n",
       "      <td>Land Rover Range Rover 3.0 V6 Diesel Vogue</td>\n",
       "      <td>3.0</td>\n",
       "      <td>14700000.0</td>\n",
       "      <td>25000.0</td>\n",
       "      <td>Diesel</td>\n",
       "      <td>Delhi</td>\n",
       "      <td>18</td>\n",
       "      <td>...</td>\n",
       "      <td>1</td>\n",
       "      <td>1</td>\n",
       "      <td>6.802721e-08</td>\n",
       "      <td>0.000040</td>\n",
       "      <td>0.333333</td>\n",
       "      <td>0.055556</td>\n",
       "      <td>0.000000</td>\n",
       "      <td>0.013563</td>\n",
       "      <td>0.04375</td>\n",
       "      <td>0.0</td>\n",
       "    </tr>\n",
       "    <tr>\n",
       "      <th>436</th>\n",
       "      <td>436</td>\n",
       "      <td>2019</td>\n",
       "      <td>MG</td>\n",
       "      <td>MG Hector Sharp 1.5 DCT Petrol [2019-2020]</td>\n",
       "      <td>Hector</td>\n",
       "      <td>1640000.0</td>\n",
       "      <td>24000.0</td>\n",
       "      <td>Petrol</td>\n",
       "      <td>Delhi</td>\n",
       "      <td>81</td>\n",
       "      <td>...</td>\n",
       "      <td>1</td>\n",
       "      <td>1</td>\n",
       "      <td>6.097561e-07</td>\n",
       "      <td>0.000042</td>\n",
       "      <td>0.500000</td>\n",
       "      <td>0.012346</td>\n",
       "      <td>0.034003</td>\n",
       "      <td>0.014147</td>\n",
       "      <td>0.00000</td>\n",
       "      <td>0.0</td>\n",
       "    </tr>\n",
       "    <tr>\n",
       "      <th>464</th>\n",
       "      <td>464</td>\n",
       "      <td>2020</td>\n",
       "      <td>MG</td>\n",
       "      <td>MG Hector Sharp 1.5 DCT Petrol [2019-2020]</td>\n",
       "      <td>Hector</td>\n",
       "      <td>1825000.0</td>\n",
       "      <td>45000.0</td>\n",
       "      <td>Petrol</td>\n",
       "      <td>Delhi</td>\n",
       "      <td>81</td>\n",
       "      <td>...</td>\n",
       "      <td>0</td>\n",
       "      <td>0</td>\n",
       "      <td>5.479452e-07</td>\n",
       "      <td>0.000022</td>\n",
       "      <td>1.000000</td>\n",
       "      <td>0.012346</td>\n",
       "      <td>0.030123</td>\n",
       "      <td>0.007338</td>\n",
       "      <td>0.00000</td>\n",
       "      <td>0.0</td>\n",
       "    </tr>\n",
       "    <tr>\n",
       "      <th>531</th>\n",
       "      <td>531</td>\n",
       "      <td>2021</td>\n",
       "      <td>MG</td>\n",
       "      <td>MG Hector Sharp 2.0 Diesel [2019-2020]</td>\n",
       "      <td>Hector</td>\n",
       "      <td>2150000.0</td>\n",
       "      <td>10860.0</td>\n",
       "      <td>Diesel</td>\n",
       "      <td>Bangalore</td>\n",
       "      <td>81</td>\n",
       "      <td>...</td>\n",
       "      <td>1</td>\n",
       "      <td>1</td>\n",
       "      <td>4.651163e-07</td>\n",
       "      <td>0.000092</td>\n",
       "      <td>inf</td>\n",
       "      <td>0.012346</td>\n",
       "      <td>0.024924</td>\n",
       "      <td>0.031799</td>\n",
       "      <td>0.00000</td>\n",
       "      <td>0.0</td>\n",
       "    </tr>\n",
       "    <tr>\n",
       "      <th>585</th>\n",
       "      <td>585</td>\n",
       "      <td>2020</td>\n",
       "      <td>MG</td>\n",
       "      <td>MG Hector Sharp 1.5 DCT Petrol [2019-2020]</td>\n",
       "      <td>Hector</td>\n",
       "      <td>1890000.0</td>\n",
       "      <td>5697.0</td>\n",
       "      <td>Petrol</td>\n",
       "      <td>Bangalore</td>\n",
       "      <td>81</td>\n",
       "      <td>...</td>\n",
       "      <td>1</td>\n",
       "      <td>1</td>\n",
       "      <td>5.291005e-07</td>\n",
       "      <td>0.000176</td>\n",
       "      <td>1.000000</td>\n",
       "      <td>0.012346</td>\n",
       "      <td>0.028940</td>\n",
       "      <td>0.061020</td>\n",
       "      <td>0.00000</td>\n",
       "      <td>0.0</td>\n",
       "    </tr>\n",
       "    <tr>\n",
       "      <th>637</th>\n",
       "      <td>637</td>\n",
       "      <td>2019</td>\n",
       "      <td>MG</td>\n",
       "      <td>MG Hector Sharp 1.5 DCT Petrol [2019-2020]</td>\n",
       "      <td>Hector</td>\n",
       "      <td>1795000.0</td>\n",
       "      <td>39000.0</td>\n",
       "      <td>Petrol</td>\n",
       "      <td>Bangalore</td>\n",
       "      <td>81</td>\n",
       "      <td>...</td>\n",
       "      <td>0</td>\n",
       "      <td>0</td>\n",
       "      <td>5.571031e-07</td>\n",
       "      <td>0.000026</td>\n",
       "      <td>0.500000</td>\n",
       "      <td>0.012346</td>\n",
       "      <td>0.030698</td>\n",
       "      <td>0.008535</td>\n",
       "      <td>0.00000</td>\n",
       "      <td>0.0</td>\n",
       "    </tr>\n",
       "    <tr>\n",
       "      <th>638</th>\n",
       "      <td>638</td>\n",
       "      <td>2021</td>\n",
       "      <td>MG</td>\n",
       "      <td>MG Hector Super Hybrid 1.5 Petrol [2019-2020]</td>\n",
       "      <td>Hector</td>\n",
       "      <td>2100000.0</td>\n",
       "      <td>3000.0</td>\n",
       "      <td>Hybrid</td>\n",
       "      <td>Bangalore</td>\n",
       "      <td>81</td>\n",
       "      <td>...</td>\n",
       "      <td>1</td>\n",
       "      <td>1</td>\n",
       "      <td>4.761905e-07</td>\n",
       "      <td>0.000333</td>\n",
       "      <td>inf</td>\n",
       "      <td>0.012346</td>\n",
       "      <td>0.025619</td>\n",
       "      <td>0.116275</td>\n",
       "      <td>0.00000</td>\n",
       "      <td>0.0</td>\n",
       "    </tr>\n",
       "    <tr>\n",
       "      <th>765</th>\n",
       "      <td>765</td>\n",
       "      <td>2020</td>\n",
       "      <td>MG</td>\n",
       "      <td>MG Hector Plus Sharp 1.5 DCT Petrol</td>\n",
       "      <td>Hector</td>\n",
       "      <td>2100000.0</td>\n",
       "      <td>16023.0</td>\n",
       "      <td>Petrol</td>\n",
       "      <td>Hyderabad</td>\n",
       "      <td>81</td>\n",
       "      <td>...</td>\n",
       "      <td>1</td>\n",
       "      <td>1</td>\n",
       "      <td>4.761905e-07</td>\n",
       "      <td>0.000062</td>\n",
       "      <td>1.000000</td>\n",
       "      <td>0.012346</td>\n",
       "      <td>0.025619</td>\n",
       "      <td>0.021410</td>\n",
       "      <td>0.00000</td>\n",
       "      <td>0.0</td>\n",
       "    </tr>\n",
       "    <tr>\n",
       "      <th>1551</th>\n",
       "      <td>1551</td>\n",
       "      <td>2020</td>\n",
       "      <td>MG</td>\n",
       "      <td>MG Hector Plus Sharp 1.5 DCT Petrol</td>\n",
       "      <td>Hector</td>\n",
       "      <td>1800000.0</td>\n",
       "      <td>17500.0</td>\n",
       "      <td>Petrol</td>\n",
       "      <td>Pune</td>\n",
       "      <td>81</td>\n",
       "      <td>...</td>\n",
       "      <td>1</td>\n",
       "      <td>1</td>\n",
       "      <td>5.555556e-07</td>\n",
       "      <td>0.000057</td>\n",
       "      <td>1.000000</td>\n",
       "      <td>0.012346</td>\n",
       "      <td>0.030601</td>\n",
       "      <td>0.019566</td>\n",
       "      <td>0.00000</td>\n",
       "      <td>0.0</td>\n",
       "    </tr>\n",
       "    <tr>\n",
       "      <th>1562</th>\n",
       "      <td>1562</td>\n",
       "      <td>2019</td>\n",
       "      <td>MG</td>\n",
       "      <td>MG Hector Sharp 1.5 DCT Petrol [2019-2020]</td>\n",
       "      <td>Hector</td>\n",
       "      <td>1825000.0</td>\n",
       "      <td>32000.0</td>\n",
       "      <td>Petrol</td>\n",
       "      <td>Pune</td>\n",
       "      <td>81</td>\n",
       "      <td>...</td>\n",
       "      <td>0</td>\n",
       "      <td>0</td>\n",
       "      <td>5.479452e-07</td>\n",
       "      <td>0.000031</td>\n",
       "      <td>0.500000</td>\n",
       "      <td>0.012346</td>\n",
       "      <td>0.030123</td>\n",
       "      <td>0.010499</td>\n",
       "      <td>0.00000</td>\n",
       "      <td>0.0</td>\n",
       "    </tr>\n",
       "  </tbody>\n",
       "</table>\n",
       "<p>12 rows × 21 columns</p>\n",
       "</div>"
      ],
      "text/plain": [
       "        Id  year       brand                                full_model_name  \\\n",
       "257    257  2015      Toyota                Toyota Innova 2.5 G BS IV 7 STR   \n",
       "317    317  2020          MG            MG Hector Plus Sharp 1.5 DCT Petrol   \n",
       "376    376  2018  Land Rover     Land Rover Range Rover 3.0 V6 Diesel Vogue   \n",
       "436    436  2019          MG     MG Hector Sharp 1.5 DCT Petrol [2019-2020]   \n",
       "464    464  2020          MG     MG Hector Sharp 1.5 DCT Petrol [2019-2020]   \n",
       "531    531  2021          MG         MG Hector Sharp 2.0 Diesel [2019-2020]   \n",
       "585    585  2020          MG     MG Hector Sharp 1.5 DCT Petrol [2019-2020]   \n",
       "637    637  2019          MG     MG Hector Sharp 1.5 DCT Petrol [2019-2020]   \n",
       "638    638  2021          MG  MG Hector Super Hybrid 1.5 Petrol [2019-2020]   \n",
       "765    765  2020          MG            MG Hector Plus Sharp 1.5 DCT Petrol   \n",
       "1551  1551  2020          MG            MG Hector Plus Sharp 1.5 DCT Petrol   \n",
       "1562  1562  2019          MG     MG Hector Sharp 1.5 DCT Petrol [2019-2020]   \n",
       "\n",
       "     model_name       price  distance_travelled(kms) fuel_type       city  \\\n",
       "257      Innova    925000.0                 790000.0    Diesel      Delhi   \n",
       "317      Hector   1950000.0                   4500.0    Petrol      Delhi   \n",
       "376         3.0  14700000.0                  25000.0    Diesel      Delhi   \n",
       "436      Hector   1640000.0                  24000.0    Petrol      Delhi   \n",
       "464      Hector   1825000.0                  45000.0    Petrol      Delhi   \n",
       "531      Hector   2150000.0                  10860.0    Diesel  Bangalore   \n",
       "585      Hector   1890000.0                   5697.0    Petrol  Bangalore   \n",
       "637      Hector   1795000.0                  39000.0    Petrol  Bangalore   \n",
       "638      Hector   2100000.0                   3000.0    Hybrid  Bangalore   \n",
       "765      Hector   2100000.0                  16023.0    Petrol  Hyderabad   \n",
       "1551     Hector   1800000.0                  17500.0    Petrol       Pune   \n",
       "1562     Hector   1825000.0                  32000.0    Petrol       Pune   \n",
       "\n",
       "      brand_rank  ...  distance below 30k km  new and less used  \\\n",
       "257            1  ...                      0                  0   \n",
       "317           81  ...                      1                  1   \n",
       "376           18  ...                      1                  1   \n",
       "436           81  ...                      1                  1   \n",
       "464           81  ...                      0                  0   \n",
       "531           81  ...                      1                  1   \n",
       "585           81  ...                      1                  1   \n",
       "637           81  ...                      0                  0   \n",
       "638           81  ...                      1                  1   \n",
       "765           81  ...                      1                  1   \n",
       "1551          81  ...                      1                  1   \n",
       "1562          81  ...                      0                  0   \n",
       "\n",
       "      inv_car_price  inv_car_dist  inv_car_age  inv_brand  std_invprice  \\\n",
       "257    1.081081e-06      0.000001     0.166667   1.000000      0.063586   \n",
       "317    5.128205e-07      0.000222     1.000000   0.012346      0.027918   \n",
       "376    6.802721e-08      0.000040     0.333333   0.055556      0.000000   \n",
       "436    6.097561e-07      0.000042     0.500000   0.012346      0.034003   \n",
       "464    5.479452e-07      0.000022     1.000000   0.012346      0.030123   \n",
       "531    4.651163e-07      0.000092          inf   0.012346      0.024924   \n",
       "585    5.291005e-07      0.000176     1.000000   0.012346      0.028940   \n",
       "637    5.571031e-07      0.000026     0.500000   0.012346      0.030698   \n",
       "638    4.761905e-07      0.000333          inf   0.012346      0.025619   \n",
       "765    4.761905e-07      0.000062     1.000000   0.012346      0.025619   \n",
       "1551   5.555556e-07      0.000057     1.000000   0.012346      0.030601   \n",
       "1562   5.479452e-07      0.000031     0.500000   0.012346      0.030123   \n",
       "\n",
       "      std_invdistance_travelled  std_invrank  best_buy1  \n",
       "257                    0.000000      1.00000        0.0  \n",
       "317                    0.077369      0.00000        0.0  \n",
       "376                    0.013563      0.04375        0.0  \n",
       "436                    0.014147      0.00000        0.0  \n",
       "464                    0.007338      0.00000        0.0  \n",
       "531                    0.031799      0.00000        0.0  \n",
       "585                    0.061020      0.00000        0.0  \n",
       "637                    0.008535      0.00000        0.0  \n",
       "638                    0.116275      0.00000        0.0  \n",
       "765                    0.021410      0.00000        0.0  \n",
       "1551                   0.019566      0.00000        0.0  \n",
       "1562                   0.010499      0.00000        0.0  \n",
       "\n",
       "[12 rows x 21 columns]"
      ]
     },
     "execution_count": 150,
     "metadata": {},
     "output_type": "execute_result"
    }
   ],
   "source": [
    "df[df['best_buy1'] == 0]"
   ]
  },
  {
   "cell_type": "code",
   "execution_count": 151,
   "id": "b9f0799c",
   "metadata": {},
   "outputs": [],
   "source": [
    "df['best_buy2'] = df['best_buy1'] * df['new and less used']"
   ]
  },
  {
   "cell_type": "code",
   "execution_count": 152,
   "id": "97670061",
   "metadata": {},
   "outputs": [
    {
     "data": {
      "text/html": [
       "<div>\n",
       "<style scoped>\n",
       "    .dataframe tbody tr th:only-of-type {\n",
       "        vertical-align: middle;\n",
       "    }\n",
       "\n",
       "    .dataframe tbody tr th {\n",
       "        vertical-align: top;\n",
       "    }\n",
       "\n",
       "    .dataframe thead th {\n",
       "        text-align: right;\n",
       "    }\n",
       "</style>\n",
       "<table border=\"1\" class=\"dataframe\">\n",
       "  <thead>\n",
       "    <tr style=\"text-align: right;\">\n",
       "      <th></th>\n",
       "      <th>Id</th>\n",
       "      <th>year</th>\n",
       "      <th>brand</th>\n",
       "      <th>full_model_name</th>\n",
       "      <th>model_name</th>\n",
       "      <th>price</th>\n",
       "      <th>distance_travelled(kms)</th>\n",
       "      <th>fuel_type</th>\n",
       "      <th>city</th>\n",
       "      <th>brand_rank</th>\n",
       "      <th>...</th>\n",
       "      <th>new and less used</th>\n",
       "      <th>inv_car_price</th>\n",
       "      <th>inv_car_dist</th>\n",
       "      <th>inv_car_age</th>\n",
       "      <th>inv_brand</th>\n",
       "      <th>std_invprice</th>\n",
       "      <th>std_invdistance_travelled</th>\n",
       "      <th>std_invrank</th>\n",
       "      <th>best_buy1</th>\n",
       "      <th>best_buy2</th>\n",
       "    </tr>\n",
       "  </thead>\n",
       "  <tbody>\n",
       "    <tr>\n",
       "      <th>0</th>\n",
       "      <td>0</td>\n",
       "      <td>2016</td>\n",
       "      <td>Honda</td>\n",
       "      <td>Honda Brio S MT</td>\n",
       "      <td>Brio</td>\n",
       "      <td>425000.0</td>\n",
       "      <td>9680.0</td>\n",
       "      <td>Petrol</td>\n",
       "      <td>Mumbai</td>\n",
       "      <td>7</td>\n",
       "      <td>...</td>\n",
       "      <td>0</td>\n",
       "      <td>2.352941e-06</td>\n",
       "      <td>0.000103</td>\n",
       "      <td>0.200000</td>\n",
       "      <td>0.142857</td>\n",
       "      <td>0.143417</td>\n",
       "      <td>0.035730</td>\n",
       "      <td>0.132143</td>\n",
       "      <td>677.134239</td>\n",
       "      <td>0.000000</td>\n",
       "    </tr>\n",
       "    <tr>\n",
       "      <th>1</th>\n",
       "      <td>1</td>\n",
       "      <td>2012</td>\n",
       "      <td>Nissan</td>\n",
       "      <td>Nissan Sunny XV Diesel</td>\n",
       "      <td>Sunny</td>\n",
       "      <td>325000.0</td>\n",
       "      <td>119120.0</td>\n",
       "      <td>Diesel</td>\n",
       "      <td>Mumbai</td>\n",
       "      <td>11</td>\n",
       "      <td>...</td>\n",
       "      <td>0</td>\n",
       "      <td>3.076923e-06</td>\n",
       "      <td>0.000008</td>\n",
       "      <td>0.111111</td>\n",
       "      <td>0.090909</td>\n",
       "      <td>0.188859</td>\n",
       "      <td>0.002496</td>\n",
       "      <td>0.079545</td>\n",
       "      <td>37.501318</td>\n",
       "      <td>0.000000</td>\n",
       "    </tr>\n",
       "    <tr>\n",
       "      <th>2</th>\n",
       "      <td>2</td>\n",
       "      <td>2017</td>\n",
       "      <td>Toyota</td>\n",
       "      <td>Toyota Fortuner 2.8 4x2 MT [2016-2020]</td>\n",
       "      <td>Fortuner</td>\n",
       "      <td>2650000.0</td>\n",
       "      <td>64593.0</td>\n",
       "      <td>Diesel</td>\n",
       "      <td>Thane</td>\n",
       "      <td>1</td>\n",
       "      <td>...</td>\n",
       "      <td>0</td>\n",
       "      <td>3.773585e-07</td>\n",
       "      <td>0.000015</td>\n",
       "      <td>0.250000</td>\n",
       "      <td>1.000000</td>\n",
       "      <td>0.019416</td>\n",
       "      <td>0.004978</td>\n",
       "      <td>1.000000</td>\n",
       "      <td>96.646020</td>\n",
       "      <td>0.000000</td>\n",
       "    </tr>\n",
       "    <tr>\n",
       "      <th>3</th>\n",
       "      <td>3</td>\n",
       "      <td>2017</td>\n",
       "      <td>Mercedes-Benz</td>\n",
       "      <td>Mercedes-Benz E-Class E 220d Expression [2019-...</td>\n",
       "      <td>E-Class</td>\n",
       "      <td>4195000.0</td>\n",
       "      <td>25000.0</td>\n",
       "      <td>Diesel</td>\n",
       "      <td>Mumbai</td>\n",
       "      <td>2</td>\n",
       "      <td>...</td>\n",
       "      <td>1</td>\n",
       "      <td>2.383790e-07</td>\n",
       "      <td>0.000040</td>\n",
       "      <td>0.250000</td>\n",
       "      <td>0.500000</td>\n",
       "      <td>0.010692</td>\n",
       "      <td>0.013563</td>\n",
       "      <td>0.493750</td>\n",
       "      <td>71.604306</td>\n",
       "      <td>71.604306</td>\n",
       "    </tr>\n",
       "    <tr>\n",
       "      <th>4</th>\n",
       "      <td>4</td>\n",
       "      <td>2012</td>\n",
       "      <td>Hyundai</td>\n",
       "      <td>Hyundai Verna Fluidic 1.6 CRDi SX</td>\n",
       "      <td>Verna</td>\n",
       "      <td>475000.0</td>\n",
       "      <td>23800.0</td>\n",
       "      <td>Diesel</td>\n",
       "      <td>Mumbai</td>\n",
       "      <td>14</td>\n",
       "      <td>...</td>\n",
       "      <td>0</td>\n",
       "      <td>2.105263e-06</td>\n",
       "      <td>0.000042</td>\n",
       "      <td>0.111111</td>\n",
       "      <td>0.071429</td>\n",
       "      <td>0.127871</td>\n",
       "      <td>0.014269</td>\n",
       "      <td>0.059821</td>\n",
       "      <td>109.150857</td>\n",
       "      <td>0.000000</td>\n",
       "    </tr>\n",
       "  </tbody>\n",
       "</table>\n",
       "<p>5 rows × 22 columns</p>\n",
       "</div>"
      ],
      "text/plain": [
       "   Id  year          brand                                    full_model_name  \\\n",
       "0   0  2016          Honda                                    Honda Brio S MT   \n",
       "1   1  2012         Nissan                             Nissan Sunny XV Diesel   \n",
       "2   2  2017         Toyota             Toyota Fortuner 2.8 4x2 MT [2016-2020]   \n",
       "3   3  2017  Mercedes-Benz  Mercedes-Benz E-Class E 220d Expression [2019-...   \n",
       "4   4  2012        Hyundai                  Hyundai Verna Fluidic 1.6 CRDi SX   \n",
       "\n",
       "  model_name      price  distance_travelled(kms) fuel_type    city  \\\n",
       "0       Brio   425000.0                   9680.0    Petrol  Mumbai   \n",
       "1      Sunny   325000.0                 119120.0    Diesel  Mumbai   \n",
       "2   Fortuner  2650000.0                  64593.0    Diesel   Thane   \n",
       "3    E-Class  4195000.0                  25000.0    Diesel  Mumbai   \n",
       "4      Verna   475000.0                  23800.0    Diesel  Mumbai   \n",
       "\n",
       "   brand_rank  ...  new and less used  inv_car_price  inv_car_dist  \\\n",
       "0           7  ...                  0   2.352941e-06      0.000103   \n",
       "1          11  ...                  0   3.076923e-06      0.000008   \n",
       "2           1  ...                  0   3.773585e-07      0.000015   \n",
       "3           2  ...                  1   2.383790e-07      0.000040   \n",
       "4          14  ...                  0   2.105263e-06      0.000042   \n",
       "\n",
       "   inv_car_age  inv_brand  std_invprice  std_invdistance_travelled  \\\n",
       "0     0.200000   0.142857      0.143417                   0.035730   \n",
       "1     0.111111   0.090909      0.188859                   0.002496   \n",
       "2     0.250000   1.000000      0.019416                   0.004978   \n",
       "3     0.250000   0.500000      0.010692                   0.013563   \n",
       "4     0.111111   0.071429      0.127871                   0.014269   \n",
       "\n",
       "   std_invrank   best_buy1  best_buy2  \n",
       "0     0.132143  677.134239   0.000000  \n",
       "1     0.079545   37.501318   0.000000  \n",
       "2     1.000000   96.646020   0.000000  \n",
       "3     0.493750   71.604306  71.604306  \n",
       "4     0.059821  109.150857   0.000000  \n",
       "\n",
       "[5 rows x 22 columns]"
      ]
     },
     "execution_count": 152,
     "metadata": {},
     "output_type": "execute_result"
    }
   ],
   "source": [
    "df.head()"
   ]
  },
  {
   "cell_type": "markdown",
   "id": "dce26a29",
   "metadata": {},
   "source": [
    "    \n",
    "    higher the value of best_buy2 better is the value for money as well as the\n",
    "    less used and newly made cars"
   ]
  },
  {
   "cell_type": "code",
   "execution_count": 153,
   "id": "080481a9",
   "metadata": {},
   "outputs": [],
   "source": [
    "df_temp = df.sort_values(by = ['best_buy2'], ascending=False)"
   ]
  },
  {
   "cell_type": "code",
   "execution_count": 155,
   "id": "78011833",
   "metadata": {},
   "outputs": [],
   "source": [
    "df_temp = df_temp[0:10]"
   ]
  },
  {
   "cell_type": "code",
   "execution_count": 157,
   "id": "96361049",
   "metadata": {},
   "outputs": [],
   "source": [
    "df_temp['name'] = df['brand']+\" \"+df['model_name']"
   ]
  },
  {
   "cell_type": "code",
   "execution_count": 161,
   "id": "45d57691",
   "metadata": {},
   "outputs": [
    {
     "data": {
      "application/vnd.plotly.v1+json": {
       "config": {
        "plotlyServerURL": "https://plot.ly"
       },
       "data": [
        {
         "alignmentgroup": "True",
         "bingroup": "x",
         "histfunc": "sum",
         "hovertemplate": "x=%{x}<br>sum of y=%{y}<extra></extra>",
         "legendgroup": "",
         "marker": {
          "color": "#636efa",
          "pattern": {
           "shape": ""
          }
         },
         "name": "",
         "offsetgroup": "",
         "orientation": "v",
         "showlegend": false,
         "type": "histogram",
         "x": [
          "Volkswagen Polo",
          "Toyota Innova",
          "Toyota Innova",
          "Honda Jazz",
          "Honda Jazz",
          "Toyota Yaris",
          "Toyota Glanza",
          "Maruti Suzuki Baleno",
          "Ford Freestyle",
          "Toyota Innova"
         ],
         "xaxis": "x",
         "y": [
          2477.5176404087038,
          2302.6951551239986,
          2302.6951551239986,
          1816.7067133623982,
          1816.7067133623982,
          1652.9003509225959,
          1390.9050688417046,
          1253.1579134642757,
          1165.7973776407039,
          1124.4302014836046
         ],
         "yaxis": "y"
        }
       ],
       "layout": {
        "barmode": "relative",
        "legend": {
         "tracegroupgap": 0
        },
        "margin": {
         "t": 60
        },
        "template": {
         "data": {
          "bar": [
           {
            "error_x": {
             "color": "#2a3f5f"
            },
            "error_y": {
             "color": "#2a3f5f"
            },
            "marker": {
             "line": {
              "color": "#E5ECF6",
              "width": 0.5
             },
             "pattern": {
              "fillmode": "overlay",
              "size": 10,
              "solidity": 0.2
             }
            },
            "type": "bar"
           }
          ],
          "barpolar": [
           {
            "marker": {
             "line": {
              "color": "#E5ECF6",
              "width": 0.5
             },
             "pattern": {
              "fillmode": "overlay",
              "size": 10,
              "solidity": 0.2
             }
            },
            "type": "barpolar"
           }
          ],
          "carpet": [
           {
            "aaxis": {
             "endlinecolor": "#2a3f5f",
             "gridcolor": "white",
             "linecolor": "white",
             "minorgridcolor": "white",
             "startlinecolor": "#2a3f5f"
            },
            "baxis": {
             "endlinecolor": "#2a3f5f",
             "gridcolor": "white",
             "linecolor": "white",
             "minorgridcolor": "white",
             "startlinecolor": "#2a3f5f"
            },
            "type": "carpet"
           }
          ],
          "choropleth": [
           {
            "colorbar": {
             "outlinewidth": 0,
             "ticks": ""
            },
            "type": "choropleth"
           }
          ],
          "contour": [
           {
            "colorbar": {
             "outlinewidth": 0,
             "ticks": ""
            },
            "colorscale": [
             [
              0,
              "#0d0887"
             ],
             [
              0.1111111111111111,
              "#46039f"
             ],
             [
              0.2222222222222222,
              "#7201a8"
             ],
             [
              0.3333333333333333,
              "#9c179e"
             ],
             [
              0.4444444444444444,
              "#bd3786"
             ],
             [
              0.5555555555555556,
              "#d8576b"
             ],
             [
              0.6666666666666666,
              "#ed7953"
             ],
             [
              0.7777777777777778,
              "#fb9f3a"
             ],
             [
              0.8888888888888888,
              "#fdca26"
             ],
             [
              1,
              "#f0f921"
             ]
            ],
            "type": "contour"
           }
          ],
          "contourcarpet": [
           {
            "colorbar": {
             "outlinewidth": 0,
             "ticks": ""
            },
            "type": "contourcarpet"
           }
          ],
          "heatmap": [
           {
            "colorbar": {
             "outlinewidth": 0,
             "ticks": ""
            },
            "colorscale": [
             [
              0,
              "#0d0887"
             ],
             [
              0.1111111111111111,
              "#46039f"
             ],
             [
              0.2222222222222222,
              "#7201a8"
             ],
             [
              0.3333333333333333,
              "#9c179e"
             ],
             [
              0.4444444444444444,
              "#bd3786"
             ],
             [
              0.5555555555555556,
              "#d8576b"
             ],
             [
              0.6666666666666666,
              "#ed7953"
             ],
             [
              0.7777777777777778,
              "#fb9f3a"
             ],
             [
              0.8888888888888888,
              "#fdca26"
             ],
             [
              1,
              "#f0f921"
             ]
            ],
            "type": "heatmap"
           }
          ],
          "heatmapgl": [
           {
            "colorbar": {
             "outlinewidth": 0,
             "ticks": ""
            },
            "colorscale": [
             [
              0,
              "#0d0887"
             ],
             [
              0.1111111111111111,
              "#46039f"
             ],
             [
              0.2222222222222222,
              "#7201a8"
             ],
             [
              0.3333333333333333,
              "#9c179e"
             ],
             [
              0.4444444444444444,
              "#bd3786"
             ],
             [
              0.5555555555555556,
              "#d8576b"
             ],
             [
              0.6666666666666666,
              "#ed7953"
             ],
             [
              0.7777777777777778,
              "#fb9f3a"
             ],
             [
              0.8888888888888888,
              "#fdca26"
             ],
             [
              1,
              "#f0f921"
             ]
            ],
            "type": "heatmapgl"
           }
          ],
          "histogram": [
           {
            "marker": {
             "pattern": {
              "fillmode": "overlay",
              "size": 10,
              "solidity": 0.2
             }
            },
            "type": "histogram"
           }
          ],
          "histogram2d": [
           {
            "colorbar": {
             "outlinewidth": 0,
             "ticks": ""
            },
            "colorscale": [
             [
              0,
              "#0d0887"
             ],
             [
              0.1111111111111111,
              "#46039f"
             ],
             [
              0.2222222222222222,
              "#7201a8"
             ],
             [
              0.3333333333333333,
              "#9c179e"
             ],
             [
              0.4444444444444444,
              "#bd3786"
             ],
             [
              0.5555555555555556,
              "#d8576b"
             ],
             [
              0.6666666666666666,
              "#ed7953"
             ],
             [
              0.7777777777777778,
              "#fb9f3a"
             ],
             [
              0.8888888888888888,
              "#fdca26"
             ],
             [
              1,
              "#f0f921"
             ]
            ],
            "type": "histogram2d"
           }
          ],
          "histogram2dcontour": [
           {
            "colorbar": {
             "outlinewidth": 0,
             "ticks": ""
            },
            "colorscale": [
             [
              0,
              "#0d0887"
             ],
             [
              0.1111111111111111,
              "#46039f"
             ],
             [
              0.2222222222222222,
              "#7201a8"
             ],
             [
              0.3333333333333333,
              "#9c179e"
             ],
             [
              0.4444444444444444,
              "#bd3786"
             ],
             [
              0.5555555555555556,
              "#d8576b"
             ],
             [
              0.6666666666666666,
              "#ed7953"
             ],
             [
              0.7777777777777778,
              "#fb9f3a"
             ],
             [
              0.8888888888888888,
              "#fdca26"
             ],
             [
              1,
              "#f0f921"
             ]
            ],
            "type": "histogram2dcontour"
           }
          ],
          "mesh3d": [
           {
            "colorbar": {
             "outlinewidth": 0,
             "ticks": ""
            },
            "type": "mesh3d"
           }
          ],
          "parcoords": [
           {
            "line": {
             "colorbar": {
              "outlinewidth": 0,
              "ticks": ""
             }
            },
            "type": "parcoords"
           }
          ],
          "pie": [
           {
            "automargin": true,
            "type": "pie"
           }
          ],
          "scatter": [
           {
            "marker": {
             "colorbar": {
              "outlinewidth": 0,
              "ticks": ""
             }
            },
            "type": "scatter"
           }
          ],
          "scatter3d": [
           {
            "line": {
             "colorbar": {
              "outlinewidth": 0,
              "ticks": ""
             }
            },
            "marker": {
             "colorbar": {
              "outlinewidth": 0,
              "ticks": ""
             }
            },
            "type": "scatter3d"
           }
          ],
          "scattercarpet": [
           {
            "marker": {
             "colorbar": {
              "outlinewidth": 0,
              "ticks": ""
             }
            },
            "type": "scattercarpet"
           }
          ],
          "scattergeo": [
           {
            "marker": {
             "colorbar": {
              "outlinewidth": 0,
              "ticks": ""
             }
            },
            "type": "scattergeo"
           }
          ],
          "scattergl": [
           {
            "marker": {
             "colorbar": {
              "outlinewidth": 0,
              "ticks": ""
             }
            },
            "type": "scattergl"
           }
          ],
          "scattermapbox": [
           {
            "marker": {
             "colorbar": {
              "outlinewidth": 0,
              "ticks": ""
             }
            },
            "type": "scattermapbox"
           }
          ],
          "scatterpolar": [
           {
            "marker": {
             "colorbar": {
              "outlinewidth": 0,
              "ticks": ""
             }
            },
            "type": "scatterpolar"
           }
          ],
          "scatterpolargl": [
           {
            "marker": {
             "colorbar": {
              "outlinewidth": 0,
              "ticks": ""
             }
            },
            "type": "scatterpolargl"
           }
          ],
          "scatterternary": [
           {
            "marker": {
             "colorbar": {
              "outlinewidth": 0,
              "ticks": ""
             }
            },
            "type": "scatterternary"
           }
          ],
          "surface": [
           {
            "colorbar": {
             "outlinewidth": 0,
             "ticks": ""
            },
            "colorscale": [
             [
              0,
              "#0d0887"
             ],
             [
              0.1111111111111111,
              "#46039f"
             ],
             [
              0.2222222222222222,
              "#7201a8"
             ],
             [
              0.3333333333333333,
              "#9c179e"
             ],
             [
              0.4444444444444444,
              "#bd3786"
             ],
             [
              0.5555555555555556,
              "#d8576b"
             ],
             [
              0.6666666666666666,
              "#ed7953"
             ],
             [
              0.7777777777777778,
              "#fb9f3a"
             ],
             [
              0.8888888888888888,
              "#fdca26"
             ],
             [
              1,
              "#f0f921"
             ]
            ],
            "type": "surface"
           }
          ],
          "table": [
           {
            "cells": {
             "fill": {
              "color": "#EBF0F8"
             },
             "line": {
              "color": "white"
             }
            },
            "header": {
             "fill": {
              "color": "#C8D4E3"
             },
             "line": {
              "color": "white"
             }
            },
            "type": "table"
           }
          ]
         },
         "layout": {
          "annotationdefaults": {
           "arrowcolor": "#2a3f5f",
           "arrowhead": 0,
           "arrowwidth": 1
          },
          "autotypenumbers": "strict",
          "coloraxis": {
           "colorbar": {
            "outlinewidth": 0,
            "ticks": ""
           }
          },
          "colorscale": {
           "diverging": [
            [
             0,
             "#8e0152"
            ],
            [
             0.1,
             "#c51b7d"
            ],
            [
             0.2,
             "#de77ae"
            ],
            [
             0.3,
             "#f1b6da"
            ],
            [
             0.4,
             "#fde0ef"
            ],
            [
             0.5,
             "#f7f7f7"
            ],
            [
             0.6,
             "#e6f5d0"
            ],
            [
             0.7,
             "#b8e186"
            ],
            [
             0.8,
             "#7fbc41"
            ],
            [
             0.9,
             "#4d9221"
            ],
            [
             1,
             "#276419"
            ]
           ],
           "sequential": [
            [
             0,
             "#0d0887"
            ],
            [
             0.1111111111111111,
             "#46039f"
            ],
            [
             0.2222222222222222,
             "#7201a8"
            ],
            [
             0.3333333333333333,
             "#9c179e"
            ],
            [
             0.4444444444444444,
             "#bd3786"
            ],
            [
             0.5555555555555556,
             "#d8576b"
            ],
            [
             0.6666666666666666,
             "#ed7953"
            ],
            [
             0.7777777777777778,
             "#fb9f3a"
            ],
            [
             0.8888888888888888,
             "#fdca26"
            ],
            [
             1,
             "#f0f921"
            ]
           ],
           "sequentialminus": [
            [
             0,
             "#0d0887"
            ],
            [
             0.1111111111111111,
             "#46039f"
            ],
            [
             0.2222222222222222,
             "#7201a8"
            ],
            [
             0.3333333333333333,
             "#9c179e"
            ],
            [
             0.4444444444444444,
             "#bd3786"
            ],
            [
             0.5555555555555556,
             "#d8576b"
            ],
            [
             0.6666666666666666,
             "#ed7953"
            ],
            [
             0.7777777777777778,
             "#fb9f3a"
            ],
            [
             0.8888888888888888,
             "#fdca26"
            ],
            [
             1,
             "#f0f921"
            ]
           ]
          },
          "colorway": [
           "#636efa",
           "#EF553B",
           "#00cc96",
           "#ab63fa",
           "#FFA15A",
           "#19d3f3",
           "#FF6692",
           "#B6E880",
           "#FF97FF",
           "#FECB52"
          ],
          "font": {
           "color": "#2a3f5f"
          },
          "geo": {
           "bgcolor": "white",
           "lakecolor": "white",
           "landcolor": "#E5ECF6",
           "showlakes": true,
           "showland": true,
           "subunitcolor": "white"
          },
          "hoverlabel": {
           "align": "left"
          },
          "hovermode": "closest",
          "mapbox": {
           "style": "light"
          },
          "paper_bgcolor": "white",
          "plot_bgcolor": "#E5ECF6",
          "polar": {
           "angularaxis": {
            "gridcolor": "white",
            "linecolor": "white",
            "ticks": ""
           },
           "bgcolor": "#E5ECF6",
           "radialaxis": {
            "gridcolor": "white",
            "linecolor": "white",
            "ticks": ""
           }
          },
          "scene": {
           "xaxis": {
            "backgroundcolor": "#E5ECF6",
            "gridcolor": "white",
            "gridwidth": 2,
            "linecolor": "white",
            "showbackground": true,
            "ticks": "",
            "zerolinecolor": "white"
           },
           "yaxis": {
            "backgroundcolor": "#E5ECF6",
            "gridcolor": "white",
            "gridwidth": 2,
            "linecolor": "white",
            "showbackground": true,
            "ticks": "",
            "zerolinecolor": "white"
           },
           "zaxis": {
            "backgroundcolor": "#E5ECF6",
            "gridcolor": "white",
            "gridwidth": 2,
            "linecolor": "white",
            "showbackground": true,
            "ticks": "",
            "zerolinecolor": "white"
           }
          },
          "shapedefaults": {
           "line": {
            "color": "#2a3f5f"
           }
          },
          "ternary": {
           "aaxis": {
            "gridcolor": "white",
            "linecolor": "white",
            "ticks": ""
           },
           "baxis": {
            "gridcolor": "white",
            "linecolor": "white",
            "ticks": ""
           },
           "bgcolor": "#E5ECF6",
           "caxis": {
            "gridcolor": "white",
            "linecolor": "white",
            "ticks": ""
           }
          },
          "title": {
           "x": 0.05
          },
          "xaxis": {
           "automargin": true,
           "gridcolor": "white",
           "linecolor": "white",
           "ticks": "",
           "title": {
            "standoff": 15
           },
           "zerolinecolor": "white",
           "zerolinewidth": 2
          },
          "yaxis": {
           "automargin": true,
           "gridcolor": "white",
           "linecolor": "white",
           "ticks": "",
           "title": {
            "standoff": 15
           },
           "zerolinecolor": "white",
           "zerolinewidth": 2
          }
         }
        },
        "xaxis": {
         "anchor": "y",
         "domain": [
          0,
          1
         ],
         "title": {
          "text": "x"
         }
        },
        "yaxis": {
         "anchor": "x",
         "domain": [
          0,
          1
         ],
         "title": {
          "text": "sum of y"
         }
        }
       }
      },
      "text/html": [
       "<div>                            <div id=\"66f5bcb5-bdc9-4889-b0f9-a4173d34caaa\" class=\"plotly-graph-div\" style=\"height:525px; width:100%;\"></div>            <script type=\"text/javascript\">                require([\"plotly\"], function(Plotly) {                    window.PLOTLYENV=window.PLOTLYENV || {};                                    if (document.getElementById(\"66f5bcb5-bdc9-4889-b0f9-a4173d34caaa\")) {                    Plotly.newPlot(                        \"66f5bcb5-bdc9-4889-b0f9-a4173d34caaa\",                        [{\"alignmentgroup\":\"True\",\"bingroup\":\"x\",\"histfunc\":\"sum\",\"hovertemplate\":\"x=%{x}<br>sum of y=%{y}<extra></extra>\",\"legendgroup\":\"\",\"marker\":{\"color\":\"#636efa\",\"pattern\":{\"shape\":\"\"}},\"name\":\"\",\"offsetgroup\":\"\",\"orientation\":\"v\",\"showlegend\":false,\"type\":\"histogram\",\"x\":[\"Volkswagen Polo\",\"Toyota Innova\",\"Toyota Innova\",\"Honda Jazz\",\"Honda Jazz\",\"Toyota Yaris\",\"Toyota Glanza\",\"Maruti Suzuki Baleno\",\"Ford Freestyle\",\"Toyota Innova\"],\"xaxis\":\"x\",\"y\":[2477.5176404087038,2302.6951551239986,2302.6951551239986,1816.7067133623982,1816.7067133623982,1652.9003509225959,1390.9050688417046,1253.1579134642757,1165.7973776407039,1124.4302014836046],\"yaxis\":\"y\"}],                        {\"barmode\":\"relative\",\"legend\":{\"tracegroupgap\":0},\"margin\":{\"t\":60},\"template\":{\"data\":{\"bar\":[{\"error_x\":{\"color\":\"#2a3f5f\"},\"error_y\":{\"color\":\"#2a3f5f\"},\"marker\":{\"line\":{\"color\":\"#E5ECF6\",\"width\":0.5},\"pattern\":{\"fillmode\":\"overlay\",\"size\":10,\"solidity\":0.2}},\"type\":\"bar\"}],\"barpolar\":[{\"marker\":{\"line\":{\"color\":\"#E5ECF6\",\"width\":0.5},\"pattern\":{\"fillmode\":\"overlay\",\"size\":10,\"solidity\":0.2}},\"type\":\"barpolar\"}],\"carpet\":[{\"aaxis\":{\"endlinecolor\":\"#2a3f5f\",\"gridcolor\":\"white\",\"linecolor\":\"white\",\"minorgridcolor\":\"white\",\"startlinecolor\":\"#2a3f5f\"},\"baxis\":{\"endlinecolor\":\"#2a3f5f\",\"gridcolor\":\"white\",\"linecolor\":\"white\",\"minorgridcolor\":\"white\",\"startlinecolor\":\"#2a3f5f\"},\"type\":\"carpet\"}],\"choropleth\":[{\"colorbar\":{\"outlinewidth\":0,\"ticks\":\"\"},\"type\":\"choropleth\"}],\"contour\":[{\"colorbar\":{\"outlinewidth\":0,\"ticks\":\"\"},\"colorscale\":[[0.0,\"#0d0887\"],[0.1111111111111111,\"#46039f\"],[0.2222222222222222,\"#7201a8\"],[0.3333333333333333,\"#9c179e\"],[0.4444444444444444,\"#bd3786\"],[0.5555555555555556,\"#d8576b\"],[0.6666666666666666,\"#ed7953\"],[0.7777777777777778,\"#fb9f3a\"],[0.8888888888888888,\"#fdca26\"],[1.0,\"#f0f921\"]],\"type\":\"contour\"}],\"contourcarpet\":[{\"colorbar\":{\"outlinewidth\":0,\"ticks\":\"\"},\"type\":\"contourcarpet\"}],\"heatmap\":[{\"colorbar\":{\"outlinewidth\":0,\"ticks\":\"\"},\"colorscale\":[[0.0,\"#0d0887\"],[0.1111111111111111,\"#46039f\"],[0.2222222222222222,\"#7201a8\"],[0.3333333333333333,\"#9c179e\"],[0.4444444444444444,\"#bd3786\"],[0.5555555555555556,\"#d8576b\"],[0.6666666666666666,\"#ed7953\"],[0.7777777777777778,\"#fb9f3a\"],[0.8888888888888888,\"#fdca26\"],[1.0,\"#f0f921\"]],\"type\":\"heatmap\"}],\"heatmapgl\":[{\"colorbar\":{\"outlinewidth\":0,\"ticks\":\"\"},\"colorscale\":[[0.0,\"#0d0887\"],[0.1111111111111111,\"#46039f\"],[0.2222222222222222,\"#7201a8\"],[0.3333333333333333,\"#9c179e\"],[0.4444444444444444,\"#bd3786\"],[0.5555555555555556,\"#d8576b\"],[0.6666666666666666,\"#ed7953\"],[0.7777777777777778,\"#fb9f3a\"],[0.8888888888888888,\"#fdca26\"],[1.0,\"#f0f921\"]],\"type\":\"heatmapgl\"}],\"histogram\":[{\"marker\":{\"pattern\":{\"fillmode\":\"overlay\",\"size\":10,\"solidity\":0.2}},\"type\":\"histogram\"}],\"histogram2d\":[{\"colorbar\":{\"outlinewidth\":0,\"ticks\":\"\"},\"colorscale\":[[0.0,\"#0d0887\"],[0.1111111111111111,\"#46039f\"],[0.2222222222222222,\"#7201a8\"],[0.3333333333333333,\"#9c179e\"],[0.4444444444444444,\"#bd3786\"],[0.5555555555555556,\"#d8576b\"],[0.6666666666666666,\"#ed7953\"],[0.7777777777777778,\"#fb9f3a\"],[0.8888888888888888,\"#fdca26\"],[1.0,\"#f0f921\"]],\"type\":\"histogram2d\"}],\"histogram2dcontour\":[{\"colorbar\":{\"outlinewidth\":0,\"ticks\":\"\"},\"colorscale\":[[0.0,\"#0d0887\"],[0.1111111111111111,\"#46039f\"],[0.2222222222222222,\"#7201a8\"],[0.3333333333333333,\"#9c179e\"],[0.4444444444444444,\"#bd3786\"],[0.5555555555555556,\"#d8576b\"],[0.6666666666666666,\"#ed7953\"],[0.7777777777777778,\"#fb9f3a\"],[0.8888888888888888,\"#fdca26\"],[1.0,\"#f0f921\"]],\"type\":\"histogram2dcontour\"}],\"mesh3d\":[{\"colorbar\":{\"outlinewidth\":0,\"ticks\":\"\"},\"type\":\"mesh3d\"}],\"parcoords\":[{\"line\":{\"colorbar\":{\"outlinewidth\":0,\"ticks\":\"\"}},\"type\":\"parcoords\"}],\"pie\":[{\"automargin\":true,\"type\":\"pie\"}],\"scatter\":[{\"marker\":{\"colorbar\":{\"outlinewidth\":0,\"ticks\":\"\"}},\"type\":\"scatter\"}],\"scatter3d\":[{\"line\":{\"colorbar\":{\"outlinewidth\":0,\"ticks\":\"\"}},\"marker\":{\"colorbar\":{\"outlinewidth\":0,\"ticks\":\"\"}},\"type\":\"scatter3d\"}],\"scattercarpet\":[{\"marker\":{\"colorbar\":{\"outlinewidth\":0,\"ticks\":\"\"}},\"type\":\"scattercarpet\"}],\"scattergeo\":[{\"marker\":{\"colorbar\":{\"outlinewidth\":0,\"ticks\":\"\"}},\"type\":\"scattergeo\"}],\"scattergl\":[{\"marker\":{\"colorbar\":{\"outlinewidth\":0,\"ticks\":\"\"}},\"type\":\"scattergl\"}],\"scattermapbox\":[{\"marker\":{\"colorbar\":{\"outlinewidth\":0,\"ticks\":\"\"}},\"type\":\"scattermapbox\"}],\"scatterpolar\":[{\"marker\":{\"colorbar\":{\"outlinewidth\":0,\"ticks\":\"\"}},\"type\":\"scatterpolar\"}],\"scatterpolargl\":[{\"marker\":{\"colorbar\":{\"outlinewidth\":0,\"ticks\":\"\"}},\"type\":\"scatterpolargl\"}],\"scatterternary\":[{\"marker\":{\"colorbar\":{\"outlinewidth\":0,\"ticks\":\"\"}},\"type\":\"scatterternary\"}],\"surface\":[{\"colorbar\":{\"outlinewidth\":0,\"ticks\":\"\"},\"colorscale\":[[0.0,\"#0d0887\"],[0.1111111111111111,\"#46039f\"],[0.2222222222222222,\"#7201a8\"],[0.3333333333333333,\"#9c179e\"],[0.4444444444444444,\"#bd3786\"],[0.5555555555555556,\"#d8576b\"],[0.6666666666666666,\"#ed7953\"],[0.7777777777777778,\"#fb9f3a\"],[0.8888888888888888,\"#fdca26\"],[1.0,\"#f0f921\"]],\"type\":\"surface\"}],\"table\":[{\"cells\":{\"fill\":{\"color\":\"#EBF0F8\"},\"line\":{\"color\":\"white\"}},\"header\":{\"fill\":{\"color\":\"#C8D4E3\"},\"line\":{\"color\":\"white\"}},\"type\":\"table\"}]},\"layout\":{\"annotationdefaults\":{\"arrowcolor\":\"#2a3f5f\",\"arrowhead\":0,\"arrowwidth\":1},\"autotypenumbers\":\"strict\",\"coloraxis\":{\"colorbar\":{\"outlinewidth\":0,\"ticks\":\"\"}},\"colorscale\":{\"diverging\":[[0,\"#8e0152\"],[0.1,\"#c51b7d\"],[0.2,\"#de77ae\"],[0.3,\"#f1b6da\"],[0.4,\"#fde0ef\"],[0.5,\"#f7f7f7\"],[0.6,\"#e6f5d0\"],[0.7,\"#b8e186\"],[0.8,\"#7fbc41\"],[0.9,\"#4d9221\"],[1,\"#276419\"]],\"sequential\":[[0.0,\"#0d0887\"],[0.1111111111111111,\"#46039f\"],[0.2222222222222222,\"#7201a8\"],[0.3333333333333333,\"#9c179e\"],[0.4444444444444444,\"#bd3786\"],[0.5555555555555556,\"#d8576b\"],[0.6666666666666666,\"#ed7953\"],[0.7777777777777778,\"#fb9f3a\"],[0.8888888888888888,\"#fdca26\"],[1.0,\"#f0f921\"]],\"sequentialminus\":[[0.0,\"#0d0887\"],[0.1111111111111111,\"#46039f\"],[0.2222222222222222,\"#7201a8\"],[0.3333333333333333,\"#9c179e\"],[0.4444444444444444,\"#bd3786\"],[0.5555555555555556,\"#d8576b\"],[0.6666666666666666,\"#ed7953\"],[0.7777777777777778,\"#fb9f3a\"],[0.8888888888888888,\"#fdca26\"],[1.0,\"#f0f921\"]]},\"colorway\":[\"#636efa\",\"#EF553B\",\"#00cc96\",\"#ab63fa\",\"#FFA15A\",\"#19d3f3\",\"#FF6692\",\"#B6E880\",\"#FF97FF\",\"#FECB52\"],\"font\":{\"color\":\"#2a3f5f\"},\"geo\":{\"bgcolor\":\"white\",\"lakecolor\":\"white\",\"landcolor\":\"#E5ECF6\",\"showlakes\":true,\"showland\":true,\"subunitcolor\":\"white\"},\"hoverlabel\":{\"align\":\"left\"},\"hovermode\":\"closest\",\"mapbox\":{\"style\":\"light\"},\"paper_bgcolor\":\"white\",\"plot_bgcolor\":\"#E5ECF6\",\"polar\":{\"angularaxis\":{\"gridcolor\":\"white\",\"linecolor\":\"white\",\"ticks\":\"\"},\"bgcolor\":\"#E5ECF6\",\"radialaxis\":{\"gridcolor\":\"white\",\"linecolor\":\"white\",\"ticks\":\"\"}},\"scene\":{\"xaxis\":{\"backgroundcolor\":\"#E5ECF6\",\"gridcolor\":\"white\",\"gridwidth\":2,\"linecolor\":\"white\",\"showbackground\":true,\"ticks\":\"\",\"zerolinecolor\":\"white\"},\"yaxis\":{\"backgroundcolor\":\"#E5ECF6\",\"gridcolor\":\"white\",\"gridwidth\":2,\"linecolor\":\"white\",\"showbackground\":true,\"ticks\":\"\",\"zerolinecolor\":\"white\"},\"zaxis\":{\"backgroundcolor\":\"#E5ECF6\",\"gridcolor\":\"white\",\"gridwidth\":2,\"linecolor\":\"white\",\"showbackground\":true,\"ticks\":\"\",\"zerolinecolor\":\"white\"}},\"shapedefaults\":{\"line\":{\"color\":\"#2a3f5f\"}},\"ternary\":{\"aaxis\":{\"gridcolor\":\"white\",\"linecolor\":\"white\",\"ticks\":\"\"},\"baxis\":{\"gridcolor\":\"white\",\"linecolor\":\"white\",\"ticks\":\"\"},\"bgcolor\":\"#E5ECF6\",\"caxis\":{\"gridcolor\":\"white\",\"linecolor\":\"white\",\"ticks\":\"\"}},\"title\":{\"x\":0.05},\"xaxis\":{\"automargin\":true,\"gridcolor\":\"white\",\"linecolor\":\"white\",\"ticks\":\"\",\"title\":{\"standoff\":15},\"zerolinecolor\":\"white\",\"zerolinewidth\":2},\"yaxis\":{\"automargin\":true,\"gridcolor\":\"white\",\"linecolor\":\"white\",\"ticks\":\"\",\"title\":{\"standoff\":15},\"zerolinecolor\":\"white\",\"zerolinewidth\":2}}},\"xaxis\":{\"anchor\":\"y\",\"domain\":[0.0,1.0],\"title\":{\"text\":\"x\"}},\"yaxis\":{\"anchor\":\"x\",\"domain\":[0.0,1.0],\"title\":{\"text\":\"sum of y\"}}},                        {\"responsive\": true}                    ).then(function(){\n",
       "                            \n",
       "var gd = document.getElementById('66f5bcb5-bdc9-4889-b0f9-a4173d34caaa');\n",
       "var x = new MutationObserver(function (mutations, observer) {{\n",
       "        var display = window.getComputedStyle(gd).display;\n",
       "        if (!display || display === 'none') {{\n",
       "            console.log([gd, 'removed!']);\n",
       "            Plotly.purge(gd);\n",
       "            observer.disconnect();\n",
       "        }}\n",
       "}});\n",
       "\n",
       "// Listen for the removal of the full notebook cells\n",
       "var notebookContainer = gd.closest('#notebook-container');\n",
       "if (notebookContainer) {{\n",
       "    x.observe(notebookContainer, {childList: true});\n",
       "}}\n",
       "\n",
       "// Listen for the clearing of the current output cell\n",
       "var outputEl = gd.closest('.output');\n",
       "if (outputEl) {{\n",
       "    x.observe(outputEl, {childList: true});\n",
       "}}\n",
       "\n",
       "                        })                };                });            </script>        </div>"
      ]
     },
     "metadata": {},
     "output_type": "display_data"
    }
   ],
   "source": [
    "fig = px.histogram(x = df_temp['name'], y=df_temp['best_buy2'])\n",
    "fig.show()"
   ]
  },
  {
   "cell_type": "code",
   "execution_count": null,
   "id": "769bdab5",
   "metadata": {},
   "outputs": [],
   "source": []
  }
 ],
 "metadata": {
  "kernelspec": {
   "display_name": "Python 3 (ipykernel)",
   "language": "python",
   "name": "python3"
  },
  "language_info": {
   "codemirror_mode": {
    "name": "ipython",
    "version": 3
   },
   "file_extension": ".py",
   "mimetype": "text/x-python",
   "name": "python",
   "nbconvert_exporter": "python",
   "pygments_lexer": "ipython3",
   "version": "3.9.6"
  }
 },
 "nbformat": 4,
 "nbformat_minor": 5
}
